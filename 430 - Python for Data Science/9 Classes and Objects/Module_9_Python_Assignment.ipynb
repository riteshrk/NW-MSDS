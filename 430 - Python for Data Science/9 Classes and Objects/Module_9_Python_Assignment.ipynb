{
 "cells": [
  {
   "cell_type": "markdown",
   "metadata": {},
   "source": [
    "# MSDS 430 Module 9 Python Assignment \n"
   ]
  },
  {
   "cell_type": "markdown",
   "metadata": {},
   "source": [
    "<div class=\"alert alert-block alert-warning\"><b>\n",
    "This is a cumulative assignment that will put to use many of the Python skills you have learned this quarter. You will not be provided with TODO statements to guide you in completing each problem as was done with previous assignments. The intent is that you draw upon your knowledge from the course and complete each problem on your own without specific guidance on intermediate steps.\n",
    "    \n",
    "</b>\n",
    "</div>"
   ]
  },
  {
   "cell_type": "code",
   "execution_count": 1,
   "metadata": {},
   "outputs": [],
   "source": [
    "# https://www.maritime.dot.gov/data-reports/data-statistics/us-waterborne-foreign-container-trade-us-customs-ports-2000-%E2%80%93-2017"
   ]
  },
  {
   "attachments": {
    "image.png": {
     "image/png": "[encoded data removed]"
    }
   },
   "cell_type": "markdown",
   "metadata": {},
   "source": [
    "![image.png](attachment:image.png)"
   ]
  },
  {
   "cell_type": "code",
   "execution_count": 2,
   "metadata": {},
   "outputs": [],
   "source": [
    "# load libraries\n",
    "import pandas as pd\n",
    "import numpy as np\n",
    " \n",
    "# set output for zero decimals places and commas to denote thousands\n",
    "pd.options.display.float_format = '{:,.2f}'.format\n",
    "\n",
    "# allow multiple output in one cell window\n",
    "from IPython.core.interactiveshell import InteractiveShell\n",
    "InteractiveShell.ast_node_interactivity = \"all\""
   ]
  },
  {
   "cell_type": "markdown",
   "metadata": {},
   "source": [
    "<div class=\"alert alert-block alert-success\">\n",
    "<b> Problem 1: (3 points) </b> In Module 4 you learned how to use Pandas to read in different file types. Use Pandas to read the <mark>Import and Export tons.csv</mark> file provided into a dataframe called <mark>df</mark>. <br>\n",
    "\n",
    "1. Read in the file.<br>\n",
    "2. Display the columns in the file and the number of records.<br>\n",
    "3. Display the first 10 records of your dataframe.\n",
    "\n",
    "</div>"
   ]
  },
  {
   "cell_type": "code",
   "execution_count": 3,
   "metadata": {},
   "outputs": [
    {
     "name": "stdout",
     "output_type": "stream",
     "text": [
      "<class 'pandas.core.frame.DataFrame'>\n",
      "RangeIndex: 1134 entries, 0 to 1133\n",
      "Data columns (total 5 columns):\n",
      " #   Column             Non-Null Count  Dtype  \n",
      "---  ------             --------------  -----  \n",
      " 0   U.S. Custom Ports  1134 non-null   object \n",
      " 1   Coast              1134 non-null   object \n",
      " 2   Year               1134 non-null   int64  \n",
      " 3   ImportTons         1134 non-null   float64\n",
      " 4   ExportTons         1134 non-null   float64\n",
      "dtypes: float64(2), int64(1), object(2)\n",
      "memory usage: 44.4+ KB\n"
     ]
    },
    {
     "data": {
      "text/html": [
       "<div>\n",
       "<style scoped>\n",
       "    .dataframe tbody tr th:only-of-type {\n",
       "        vertical-align: middle;\n",
       "    }\n",
       "\n",
       "    .dataframe tbody tr th {\n",
       "        vertical-align: top;\n",
       "    }\n",
       "\n",
       "    .dataframe thead th {\n",
       "        text-align: right;\n",
       "    }\n",
       "</style>\n",
       "<table border=\"1\" class=\"dataframe\">\n",
       "  <thead>\n",
       "    <tr style=\"text-align: right;\">\n",
       "      <th></th>\n",
       "      <th>U.S. Custom Ports</th>\n",
       "      <th>Coast</th>\n",
       "      <th>Year</th>\n",
       "      <th>ImportTons</th>\n",
       "      <th>ExportTons</th>\n",
       "    </tr>\n",
       "  </thead>\n",
       "  <tbody>\n",
       "    <tr>\n",
       "      <th>0</th>\n",
       "      <td>Aberdeen, WA</td>\n",
       "      <td>P</td>\n",
       "      <td>2000</td>\n",
       "      <td>0.00</td>\n",
       "      <td>0.00</td>\n",
       "    </tr>\n",
       "    <tr>\n",
       "      <th>1</th>\n",
       "      <td>Anacortes, WA</td>\n",
       "      <td>P</td>\n",
       "      <td>2000</td>\n",
       "      <td>0.00</td>\n",
       "      <td>0.00</td>\n",
       "    </tr>\n",
       "    <tr>\n",
       "      <th>2</th>\n",
       "      <td>Anchorage, AK</td>\n",
       "      <td>AK</td>\n",
       "      <td>2000</td>\n",
       "      <td>0.00</td>\n",
       "      <td>11,414.60</td>\n",
       "    </tr>\n",
       "    <tr>\n",
       "      <th>3</th>\n",
       "      <td>Baltimore, MD</td>\n",
       "      <td>A</td>\n",
       "      <td>2000</td>\n",
       "      <td>172,563.87</td>\n",
       "      <td>103,391.30</td>\n",
       "    </tr>\n",
       "    <tr>\n",
       "      <th>4</th>\n",
       "      <td>Baton Rouge, LA</td>\n",
       "      <td>G</td>\n",
       "      <td>2000</td>\n",
       "      <td>1.50</td>\n",
       "      <td>0.00</td>\n",
       "    </tr>\n",
       "    <tr>\n",
       "      <th>5</th>\n",
       "      <td>Beaufort-Morehead City, NC</td>\n",
       "      <td>A</td>\n",
       "      <td>2000</td>\n",
       "      <td>0.00</td>\n",
       "      <td>26.07</td>\n",
       "    </tr>\n",
       "    <tr>\n",
       "      <th>6</th>\n",
       "      <td>Beaumont, TX</td>\n",
       "      <td>G</td>\n",
       "      <td>2000</td>\n",
       "      <td>169.00</td>\n",
       "      <td>43.39</td>\n",
       "    </tr>\n",
       "    <tr>\n",
       "      <th>7</th>\n",
       "      <td>Boston, MA</td>\n",
       "      <td>A</td>\n",
       "      <td>2000</td>\n",
       "      <td>54,222.41</td>\n",
       "      <td>19,277.91</td>\n",
       "    </tr>\n",
       "    <tr>\n",
       "      <th>8</th>\n",
       "      <td>Brunswick, GA</td>\n",
       "      <td>A</td>\n",
       "      <td>2000</td>\n",
       "      <td>0.00</td>\n",
       "      <td>52.00</td>\n",
       "    </tr>\n",
       "    <tr>\n",
       "      <th>9</th>\n",
       "      <td>Camden, NJ</td>\n",
       "      <td>A</td>\n",
       "      <td>2000</td>\n",
       "      <td>298.23</td>\n",
       "      <td>6,247.76</td>\n",
       "    </tr>\n",
       "  </tbody>\n",
       "</table>\n",
       "</div>"
      ],
      "text/plain": [
       "            U.S. Custom Ports Coast  Year  ImportTons  ExportTons\n",
       "0                Aberdeen, WA     P  2000        0.00        0.00\n",
       "1               Anacortes, WA     P  2000        0.00        0.00\n",
       "2               Anchorage, AK    AK  2000        0.00   11,414.60\n",
       "3               Baltimore, MD     A  2000  172,563.87  103,391.30\n",
       "4             Baton Rouge, LA     G  2000        1.50        0.00\n",
       "5  Beaufort-Morehead City, NC     A  2000        0.00       26.07\n",
       "6                Beaumont, TX     G  2000      169.00       43.39\n",
       "7                  Boston, MA     A  2000   54,222.41   19,277.91\n",
       "8               Brunswick, GA     A  2000        0.00       52.00\n",
       "9                  Camden, NJ     A  2000      298.23    6,247.76"
      ]
     },
     "execution_count": 3,
     "metadata": {},
     "output_type": "execute_result"
    }
   ],
   "source": [
    "df = pd.read_csv('Import and Export tons.csv')\n",
    "df.info()\n",
    "df.head(10)"
   ]
  },
  {
   "cell_type": "markdown",
   "metadata": {},
   "source": [
    "<div class=\"alert alert-block alert-success\">\n",
    "    <b> Problem 2: (5 points) </b> In module 5 you learned how to inspect fields within a dataframe. Use five separate cells to inspect each field in <mark>df</mark> so that you can become familiar with the data in each.\n",
    "</div>"
   ]
  },
  {
   "cell_type": "code",
   "execution_count": 4,
   "metadata": {},
   "outputs": [
    {
     "data": {
      "text/plain": [
       "Aberdeen, WA        18\n",
       "Port Manatee, FL    18\n",
       "Newport News, VA    18\n",
       "Norfolk, VA         18\n",
       "Oakland, CA         18\n",
       "                    ..\n",
       "Long Beach, CA      18\n",
       "Longview, WA        18\n",
       "Los Angeles, CA     18\n",
       "Mayaguez, PR        18\n",
       "Wilmington, NC      18\n",
       "Name: U.S. Custom Ports, Length: 63, dtype: int64"
      ]
     },
     "execution_count": 4,
     "metadata": {},
     "output_type": "execute_result"
    }
   ],
   "source": [
    "df['U.S. Custom Ports'].value_counts()"
   ]
  },
  {
   "cell_type": "markdown",
   "metadata": {},
   "source": [
    "There are 63 US Custom Ports, and every port has 18 enties."
   ]
  },
  {
   "cell_type": "code",
   "execution_count": 5,
   "metadata": {},
   "outputs": [
    {
     "data": {
      "text/plain": [
       "A     468\n",
       "G     288\n",
       "P     270\n",
       "PR     54\n",
       "AK     36\n",
       "HI     18\n",
       "Name: Coast, dtype: int64"
      ]
     },
     "execution_count": 5,
     "metadata": {},
     "output_type": "execute_result"
    }
   ],
   "source": [
    "df['Coast'].value_counts()"
   ]
  },
  {
   "cell_type": "markdown",
   "metadata": {},
   "source": [
    "There are 6 Coasts in total"
   ]
  },
  {
   "cell_type": "code",
   "execution_count": 6,
   "metadata": {},
   "outputs": [
    {
     "data": {
      "text/plain": [
       "2000    63\n",
       "2001    63\n",
       "2016    63\n",
       "2015    63\n",
       "2014    63\n",
       "2013    63\n",
       "2012    63\n",
       "2011    63\n",
       "2010    63\n",
       "2009    63\n",
       "2008    63\n",
       "2007    63\n",
       "2006    63\n",
       "2005    63\n",
       "2004    63\n",
       "2003    63\n",
       "2002    63\n",
       "2017    63\n",
       "Name: Year, dtype: int64"
      ]
     },
     "execution_count": 6,
     "metadata": {},
     "output_type": "execute_result"
    }
   ],
   "source": [
    "df['Year'] = df['Year'].astype('str')\n",
    "df['Year'].value_counts()"
   ]
  },
  {
   "cell_type": "markdown",
   "metadata": {},
   "source": [
    "For each of the 18 years, there are 63 entries."
   ]
  },
  {
   "cell_type": "code",
   "execution_count": 7,
   "metadata": {},
   "outputs": [
    {
     "data": {
      "text/plain": [
       "count       1,134.00\n",
       "mean      267,200.63\n",
       "std       709,684.77\n",
       "min             0.00\n",
       "25%            53.76\n",
       "50%        12,109.04\n",
       "75%       120,907.93\n",
       "max     4,590,451.38\n",
       "Name: ImportTons, dtype: float64"
      ]
     },
     "execution_count": 7,
     "metadata": {},
     "output_type": "execute_result"
    }
   ],
   "source": [
    "df['ImportTons'].describe()"
   ]
  },
  {
   "cell_type": "markdown",
   "metadata": {},
   "source": [
    "Minimum of Imports is 0, and the maximum is 4,590,451.38"
   ]
  },
  {
   "cell_type": "code",
   "execution_count": 8,
   "metadata": {},
   "outputs": [
    {
     "data": {
      "text/plain": [
       "count       1,134.00\n",
       "mean      161,377.06\n",
       "std       332,080.20\n",
       "min             0.00\n",
       "25%            35.06\n",
       "50%         7,782.75\n",
       "75%       103,493.19\n",
       "max     1,953,606.60\n",
       "Name: ExportTons, dtype: float64"
      ]
     },
     "execution_count": 8,
     "metadata": {},
     "output_type": "execute_result"
    }
   ],
   "source": [
    "df['ExportTons'].describe()"
   ]
  },
  {
   "cell_type": "markdown",
   "metadata": {},
   "source": [
    "Maximum of Exports is 0 and the maximum is 1,953,606.60"
   ]
  },
  {
   "cell_type": "markdown",
   "metadata": {},
   "source": [
    "<div class=\"alert alert-block alert-success\">\n",
    "    <b> Problem 3: (3 points) </b> In Module 7, you learned how to create and work with dictionaries. As you look at the values in the dataframe, the <b>Coast</b> column contains abbreviations so let's create a data dictionary using the abbreviations as keys and the full names as values. After creating this dictionary, use it to add a new column in the <b>df</b> dataframe called <b>CoastName</b>.<br>\n",
    "    \n",
    "The abbreviations have the following meanings: P is Pacfic, A is Atlantic, G is Gulf, AK is Alaska, HI is Hawaii and PR is Puerto Rico. <br>\n",
    " \n",
    "Demonstrate that the new column has been added by displaying the first five rows of <b>df</b>.\n",
    "</div>"
   ]
  },
  {
   "cell_type": "code",
   "execution_count": 9,
   "metadata": {},
   "outputs": [
    {
     "data": {
      "text/html": [
       "<div>\n",
       "<style scoped>\n",
       "    .dataframe tbody tr th:only-of-type {\n",
       "        vertical-align: middle;\n",
       "    }\n",
       "\n",
       "    .dataframe tbody tr th {\n",
       "        vertical-align: top;\n",
       "    }\n",
       "\n",
       "    .dataframe thead th {\n",
       "        text-align: right;\n",
       "    }\n",
       "</style>\n",
       "<table border=\"1\" class=\"dataframe\">\n",
       "  <thead>\n",
       "    <tr style=\"text-align: right;\">\n",
       "      <th></th>\n",
       "      <th>U.S. Custom Ports</th>\n",
       "      <th>Coast</th>\n",
       "      <th>Year</th>\n",
       "      <th>ImportTons</th>\n",
       "      <th>ExportTons</th>\n",
       "      <th>CoastName</th>\n",
       "    </tr>\n",
       "  </thead>\n",
       "  <tbody>\n",
       "    <tr>\n",
       "      <th>0</th>\n",
       "      <td>Aberdeen, WA</td>\n",
       "      <td>P</td>\n",
       "      <td>2000</td>\n",
       "      <td>0.00</td>\n",
       "      <td>0.00</td>\n",
       "      <td>Pacific</td>\n",
       "    </tr>\n",
       "    <tr>\n",
       "      <th>1</th>\n",
       "      <td>Anacortes, WA</td>\n",
       "      <td>P</td>\n",
       "      <td>2000</td>\n",
       "      <td>0.00</td>\n",
       "      <td>0.00</td>\n",
       "      <td>Pacific</td>\n",
       "    </tr>\n",
       "    <tr>\n",
       "      <th>2</th>\n",
       "      <td>Anchorage, AK</td>\n",
       "      <td>AK</td>\n",
       "      <td>2000</td>\n",
       "      <td>0.00</td>\n",
       "      <td>11,414.60</td>\n",
       "      <td>Alaska</td>\n",
       "    </tr>\n",
       "    <tr>\n",
       "      <th>3</th>\n",
       "      <td>Baltimore, MD</td>\n",
       "      <td>A</td>\n",
       "      <td>2000</td>\n",
       "      <td>172,563.87</td>\n",
       "      <td>103,391.30</td>\n",
       "      <td>Atlantic</td>\n",
       "    </tr>\n",
       "    <tr>\n",
       "      <th>4</th>\n",
       "      <td>Baton Rouge, LA</td>\n",
       "      <td>G</td>\n",
       "      <td>2000</td>\n",
       "      <td>1.50</td>\n",
       "      <td>0.00</td>\n",
       "      <td>Gulf</td>\n",
       "    </tr>\n",
       "  </tbody>\n",
       "</table>\n",
       "</div>"
      ],
      "text/plain": [
       "  U.S. Custom Ports Coast  Year  ImportTons  ExportTons CoastName\n",
       "0      Aberdeen, WA     P  2000        0.00        0.00   Pacific\n",
       "1     Anacortes, WA     P  2000        0.00        0.00   Pacific\n",
       "2     Anchorage, AK    AK  2000        0.00   11,414.60    Alaska\n",
       "3     Baltimore, MD     A  2000  172,563.87  103,391.30  Atlantic\n",
       "4   Baton Rouge, LA     G  2000        1.50        0.00      Gulf"
      ]
     },
     "execution_count": 9,
     "metadata": {},
     "output_type": "execute_result"
    }
   ],
   "source": [
    "# Create the data dictionary\n",
    "coast_dict = {\n",
    "    'P': 'Pacific',\n",
    "    'A': 'Atlantic',\n",
    "    'G': 'Gulf',\n",
    "    'AK': 'Alaska',\n",
    "    'HI': 'Hawaii',\n",
    "    'PR': 'Puerto Rico'\n",
    "}\n",
    "\n",
    "# Map abbreviations to their full names and add as a new column\n",
    "df['CoastName'] = df['Coast'].map(coast_dict)\n",
    "\n",
    "# Display the first five rows\n",
    "df.head()"
   ]
  },
  {
   "cell_type": "markdown",
   "metadata": {},
   "source": [
    "<div class=\"alert alert-block alert-success\">\n",
    "<b> Problem 4: (2 points) </b> In Module 6 you learned how to drop a column from a dataframe. We no longer need the column called <i><b>Coast</b></i>, so drop it.  Demonstrate that your dataframe no longer has this column by displaying the first 5 rows.\n",
    "</div>"
   ]
  },
  {
   "cell_type": "code",
   "execution_count": 10,
   "metadata": {},
   "outputs": [
    {
     "data": {
      "text/html": [
       "<div>\n",
       "<style scoped>\n",
       "    .dataframe tbody tr th:only-of-type {\n",
       "        vertical-align: middle;\n",
       "    }\n",
       "\n",
       "    .dataframe tbody tr th {\n",
       "        vertical-align: top;\n",
       "    }\n",
       "\n",
       "    .dataframe thead th {\n",
       "        text-align: right;\n",
       "    }\n",
       "</style>\n",
       "<table border=\"1\" class=\"dataframe\">\n",
       "  <thead>\n",
       "    <tr style=\"text-align: right;\">\n",
       "      <th></th>\n",
       "      <th>U.S. Custom Ports</th>\n",
       "      <th>Year</th>\n",
       "      <th>ImportTons</th>\n",
       "      <th>ExportTons</th>\n",
       "      <th>CoastName</th>\n",
       "    </tr>\n",
       "  </thead>\n",
       "  <tbody>\n",
       "    <tr>\n",
       "      <th>0</th>\n",
       "      <td>Aberdeen, WA</td>\n",
       "      <td>2000</td>\n",
       "      <td>0.00</td>\n",
       "      <td>0.00</td>\n",
       "      <td>Pacific</td>\n",
       "    </tr>\n",
       "    <tr>\n",
       "      <th>1</th>\n",
       "      <td>Anacortes, WA</td>\n",
       "      <td>2000</td>\n",
       "      <td>0.00</td>\n",
       "      <td>0.00</td>\n",
       "      <td>Pacific</td>\n",
       "    </tr>\n",
       "    <tr>\n",
       "      <th>2</th>\n",
       "      <td>Anchorage, AK</td>\n",
       "      <td>2000</td>\n",
       "      <td>0.00</td>\n",
       "      <td>11,414.60</td>\n",
       "      <td>Alaska</td>\n",
       "    </tr>\n",
       "    <tr>\n",
       "      <th>3</th>\n",
       "      <td>Baltimore, MD</td>\n",
       "      <td>2000</td>\n",
       "      <td>172,563.87</td>\n",
       "      <td>103,391.30</td>\n",
       "      <td>Atlantic</td>\n",
       "    </tr>\n",
       "    <tr>\n",
       "      <th>4</th>\n",
       "      <td>Baton Rouge, LA</td>\n",
       "      <td>2000</td>\n",
       "      <td>1.50</td>\n",
       "      <td>0.00</td>\n",
       "      <td>Gulf</td>\n",
       "    </tr>\n",
       "  </tbody>\n",
       "</table>\n",
       "</div>"
      ],
      "text/plain": [
       "  U.S. Custom Ports  Year  ImportTons  ExportTons CoastName\n",
       "0      Aberdeen, WA  2000        0.00        0.00   Pacific\n",
       "1     Anacortes, WA  2000        0.00        0.00   Pacific\n",
       "2     Anchorage, AK  2000        0.00   11,414.60    Alaska\n",
       "3     Baltimore, MD  2000  172,563.87  103,391.30  Atlantic\n",
       "4   Baton Rouge, LA  2000        1.50        0.00      Gulf"
      ]
     },
     "execution_count": 10,
     "metadata": {},
     "output_type": "execute_result"
    }
   ],
   "source": [
    "# Drop the 'Coast' column\n",
    "df.drop('Coast', axis=1, inplace=True)\n",
    "\n",
    "# Display the first five rows to confirm the column has been removed\n",
    "df.head()"
   ]
  },
  {
   "cell_type": "markdown",
   "metadata": {},
   "source": [
    "<div class=\"alert alert-block alert-success\">\n",
    "<b> Problem 4: (4 points) </b> In Module 4 you learned about string manipulation.  You may need to do some further research, but the use of <mark>.slice</mark> and <mark>.split</mark> could be useful in this next answer.\n",
    "    \n",
    "Create two new columns in the <b>df</b> dataframe - from the U.S. Custom Ports column - create a <b>City</b> and a <b>State</b> column. It is okay to leave the State in the two letter abbreviation format. Neither the <b>City</b> nor the <b>State</b> should contain the comma from the U.S. Custom Ports field.<br>\n",
    "    \n",
    "Show your new columns by displaying the first five records of <b>df</b>.\n",
    "</div>"
   ]
  },
  {
   "cell_type": "code",
   "execution_count": 11,
   "metadata": {},
   "outputs": [
    {
     "data": {
      "text/html": [
       "<div>\n",
       "<style scoped>\n",
       "    .dataframe tbody tr th:only-of-type {\n",
       "        vertical-align: middle;\n",
       "    }\n",
       "\n",
       "    .dataframe tbody tr th {\n",
       "        vertical-align: top;\n",
       "    }\n",
       "\n",
       "    .dataframe thead th {\n",
       "        text-align: right;\n",
       "    }\n",
       "</style>\n",
       "<table border=\"1\" class=\"dataframe\">\n",
       "  <thead>\n",
       "    <tr style=\"text-align: right;\">\n",
       "      <th></th>\n",
       "      <th>U.S. Custom Ports</th>\n",
       "      <th>Year</th>\n",
       "      <th>ImportTons</th>\n",
       "      <th>ExportTons</th>\n",
       "      <th>CoastName</th>\n",
       "      <th>City</th>\n",
       "      <th>State</th>\n",
       "    </tr>\n",
       "  </thead>\n",
       "  <tbody>\n",
       "    <tr>\n",
       "      <th>0</th>\n",
       "      <td>Aberdeen, WA</td>\n",
       "      <td>2000</td>\n",
       "      <td>0.00</td>\n",
       "      <td>0.00</td>\n",
       "      <td>Pacific</td>\n",
       "      <td>Aberdeen</td>\n",
       "      <td>WA</td>\n",
       "    </tr>\n",
       "    <tr>\n",
       "      <th>1</th>\n",
       "      <td>Anacortes, WA</td>\n",
       "      <td>2000</td>\n",
       "      <td>0.00</td>\n",
       "      <td>0.00</td>\n",
       "      <td>Pacific</td>\n",
       "      <td>Anacortes</td>\n",
       "      <td>WA</td>\n",
       "    </tr>\n",
       "    <tr>\n",
       "      <th>2</th>\n",
       "      <td>Anchorage, AK</td>\n",
       "      <td>2000</td>\n",
       "      <td>0.00</td>\n",
       "      <td>11,414.60</td>\n",
       "      <td>Alaska</td>\n",
       "      <td>Anchorage</td>\n",
       "      <td>AK</td>\n",
       "    </tr>\n",
       "    <tr>\n",
       "      <th>3</th>\n",
       "      <td>Baltimore, MD</td>\n",
       "      <td>2000</td>\n",
       "      <td>172,563.87</td>\n",
       "      <td>103,391.30</td>\n",
       "      <td>Atlantic</td>\n",
       "      <td>Baltimore</td>\n",
       "      <td>MD</td>\n",
       "    </tr>\n",
       "    <tr>\n",
       "      <th>4</th>\n",
       "      <td>Baton Rouge, LA</td>\n",
       "      <td>2000</td>\n",
       "      <td>1.50</td>\n",
       "      <td>0.00</td>\n",
       "      <td>Gulf</td>\n",
       "      <td>Baton Rouge</td>\n",
       "      <td>LA</td>\n",
       "    </tr>\n",
       "  </tbody>\n",
       "</table>\n",
       "</div>"
      ],
      "text/plain": [
       "  U.S. Custom Ports  Year  ImportTons  ExportTons CoastName         City State\n",
       "0      Aberdeen, WA  2000        0.00        0.00   Pacific     Aberdeen    WA\n",
       "1     Anacortes, WA  2000        0.00        0.00   Pacific    Anacortes    WA\n",
       "2     Anchorage, AK  2000        0.00   11,414.60    Alaska    Anchorage    AK\n",
       "3     Baltimore, MD  2000  172,563.87  103,391.30  Atlantic    Baltimore    MD\n",
       "4   Baton Rouge, LA  2000        1.50        0.00      Gulf  Baton Rouge    LA"
      ]
     },
     "execution_count": 11,
     "metadata": {},
     "output_type": "execute_result"
    }
   ],
   "source": [
    "# Split the 'U.S. Custom Ports' column\n",
    "split_ports = df['U.S. Custom Ports'].str.split(',')\n",
    "\n",
    "# Slice to get City and State\n",
    "df['City'] = split_ports.str.slice(start=0, stop=1).str[0].str.strip()  # Get the first part (City) and strip any spaces\n",
    "df['State'] = split_ports.str.slice(start=1, stop=2).str[0].str.strip()  # Get the second part (State) and strip any spaces\n",
    "\n",
    "# Display the first five rows to see the new columns\n",
    "df.head()"
   ]
  },
  {
   "cell_type": "markdown",
   "metadata": {},
   "source": [
    "<div class=\"alert alert-block alert-success\">\n",
    "<b> Problem 6: (5 points) </b> In Module 5 you learned how to create a subset of a dataframe and to show the top values of a column.  <br><br>\n",
    "    1. First create a new column in <b>df</b> called <b>`Difference`</b> that displays the difference in tons between imports and exports. Note that if a port had more imports than exports, the new Difference field will be positive. If the port had more export than imports, the new Difference field will be negative.<br>\n",
    "    2. Create a new dataframe called <b>year2017</b> that only contains the 2017 data in <b>df</b>.  Use this dataframe to answer 3 - 5 below.<br>\n",
    "3. Show the top three Ports with the most ImportTons for 2017.<br>\n",
    "4. Show the top five States with the most cumulated ExportTons for 2017.<br>\n",
    "5. Using the new Difference field, which ports in 2017 exported more than they imported?\n",
    "</div>"
   ]
  },
  {
   "cell_type": "code",
   "execution_count": 12,
   "metadata": {},
   "outputs": [
    {
     "name": "stdout",
     "output_type": "stream",
     "text": [
      "3 Ports with highest imports: \n",
      "      U.S. Custom Ports   ImportTons\n",
      "1099   Los Angeles, CA 4,590,451.38\n",
      "1097    Long Beach, CA 3,792,165.13\n",
      "1104      New York, NY 3,402,439.97\n",
      "\n",
      " 5 States with highest exports: \n",
      " State\n",
      "CA   3,619,671.11\n",
      "FL   1,445,359.58\n",
      "NY   1,364,838.82\n",
      "GA   1,300,583.17\n",
      "TX     986,756.04\n",
      "Name: ExportTons, dtype: float64\n"
     ]
    },
    {
     "name": "stderr",
     "output_type": "stream",
     "text": [
      "C:\\Users\\rites\\AppData\\Local\\Temp\\ipykernel_1204\\2899150467.py:9: FutureWarning: The default value of numeric_only in DataFrameGroupBy.sum is deprecated. In a future version, numeric_only will default to False. Either specify numeric_only or select only columns which should be valid for the function.\n",
      "  top_export_states = year2017.groupby('State').sum().nlargest(5, 'ExportTons')['ExportTons']\n"
     ]
    }
   ],
   "source": [
    "# Adding the Difference to the dataframe\n",
    "df['Difference'] = df['ImportTons'] - df['ExportTons']\n",
    "# Creating the new dataframe for 2017\n",
    "year2017 = df[df['Year'] == '2017']\n",
    "# Getting the 3 ports with highest imports\n",
    "top_import_ports = year2017.nlargest(3, 'ImportTons')[['U.S. Custom Ports', 'ImportTons']]\n",
    "print('3 Ports with highest imports:', '\\n', top_import_ports)\n",
    "# Getting the 5 States with highest exports\n",
    "top_export_states = year2017.groupby('State').sum().nlargest(5, 'ExportTons')['ExportTons']\n",
    "print('\\n','5 States with highest exports:', '\\n', top_export_states)"
   ]
  },
  {
   "cell_type": "code",
   "execution_count": 13,
   "metadata": {},
   "outputs": [
    {
     "name": "stdout",
     "output_type": "stream",
     "text": [
      "         U.S. Custom Ports  Difference\n",
      "1103       New Orleans, LA -186,438.97\n",
      "1094      Jacksonville, FL -171,799.56\n",
      "1131   West Palm Beach, FL -106,203.34\n",
      "1116   Port Everglades, FL  -76,999.27\n",
      "1133        Wilmington, NC  -27,913.04\n",
      "1110         Pensauken, NJ  -27,351.27\n",
      "1102            Mobile, AL  -14,380.60\n",
      "1092          Honolulu, HI  -10,496.13\n",
      "1085  Fernandina Beach, FL   -3,585.05\n",
      "1087          Freeport, TX   -2,707.87\n",
      "1122             Salem, NJ   -1,106.93\n",
      "1095            Kodiak, AK   -1,002.00\n",
      "1105      Newport News, VA     -892.92\n",
      "1079         Brunswick, GA     -684.87\n",
      "1115    Port Canaveral, FL     -180.96\n",
      "1121        Portsmouth, NH      -86.25\n",
      "1071          Aberdeen, WA       -1.75\n"
     ]
    }
   ],
   "source": [
    "# Ports in 2017 that Exported More than they Imported:\n",
    "export_more_than_import = year2017[year2017['Difference'] < 0][['U.S. Custom Ports', 'Difference']]\n",
    "sorted_export_more_than_import = export_more_than_import.sort_values(by='Difference')\n",
    "print(sorted_export_more_than_import)"
   ]
  },
  {
   "cell_type": "markdown",
   "metadata": {},
   "source": [
    "<div class=\"alert alert-block alert-success\">\n",
    "<b> Problem 7: (6 points) </b> In Module 2 you learned about conditional statements and in Module 3 you learned about loops and user defined functions.<br>\n",
    "\n",
    "- Write a function called <b>BestYears</b> that will accept <b>City</b> and <b>State</b> as arguments. \n",
    "- If the City does not appear in the dataframe, then the function should display the error message <mark>City does not exist</mark>.\n",
    "- If the City appears but not with that State in the combo, then the function should display the error message <mark>Invalid Input</mark>.  \n",
    "- If the City and State combo appears in the dataframe, then the function should display the City, State, Year, ImportTons, ExportTons and Difference sorted by Year with the oldest year showing first.<br>\n",
    "    \n",
    "**Use different cells to test your function with each of the following:**\n",
    "1. Norfolk and VA - this should show output data\n",
    "2. Norfolk and CA - this one should show the error message <mark>Invalid Input</mark>.\n",
    "3. Python and MA - this one should show the error message <mark>City does not exist</mark>.\n",
    "    \n",
    "\n",
    "</div>"
   ]
  },
  {
   "cell_type": "code",
   "execution_count": 14,
   "metadata": {},
   "outputs": [],
   "source": [
    "def BestYears(City, State):\n",
    "    # Check if the City exists in the dataframe\n",
    "    if City not in df['City'].values:\n",
    "        print(\"City does not exist.\")\n",
    "        return\n",
    "\n",
    "    # Filter the dataframe for the given City and State combo\n",
    "    filtered_df = df[(df['City'] == City) & (df['State'] == State)]\n",
    "\n",
    "    # Check if the combo exists\n",
    "    if filtered_df.empty:\n",
    "        print(\"Invalid Input.\")\n",
    "        return\n",
    "\n",
    "    # If combo exists, sort by Year and display required columns\n",
    "    sorted_df = filtered_df.sort_values(by='Year')\n",
    "    columns_to_display = ['City', 'State', 'Year', 'ImportTons', 'ExportTons', 'Difference']\n",
    "    print(sorted_df[columns_to_display])\n"
   ]
  },
  {
   "cell_type": "code",
   "execution_count": 15,
   "metadata": {},
   "outputs": [
    {
     "name": "stdout",
     "output_type": "stream",
     "text": [
      "         City State  Year   ImportTons  ExportTons  Difference\n",
      "35    Norfolk    VA  2000   437,522.50  412,877.64   24,644.86\n",
      "98    Norfolk    VA  2001   454,216.30  431,175.96   23,040.34\n",
      "161   Norfolk    VA  2002   551,168.00  430,838.77  120,329.23\n",
      "224   Norfolk    VA  2003   633,455.09  459,751.91  173,703.18\n",
      "287   Norfolk    VA  2004   717,346.35  488,687.22  228,659.13\n",
      "350   Norfolk    VA  2005   780,917.57  543,589.39  237,328.18\n",
      "413   Norfolk    VA  2006   834,197.96  579,727.70  254,470.26\n",
      "476   Norfolk    VA  2007   857,702.55  727,528.43  130,174.12\n",
      "539   Norfolk    VA  2008   811,381.80  783,293.55   28,088.25\n",
      "602   Norfolk    VA  2009   677,798.37  698,141.44  -20,343.07\n",
      "665   Norfolk    VA  2010   721,369.34  713,840.31    7,529.03\n",
      "728   Norfolk    VA  2011   726,910.18  755,703.21  -28,793.03\n",
      "791   Norfolk    VA  2012   817,486.37  829,063.36  -11,576.99\n",
      "854   Norfolk    VA  2013   900,291.90  933,952.89  -33,660.99\n",
      "917   Norfolk    VA  2014   981,188.98  950,356.95   30,832.03\n",
      "980   Norfolk    VA  2015 1,042,137.54  923,240.14  118,897.40\n",
      "1043  Norfolk    VA  2016 1,155,218.83  934,108.10  221,110.73\n",
      "1106  Norfolk    VA  2017 1,233,597.84  955,886.86  277,710.98\n"
     ]
    }
   ],
   "source": [
    "BestYears('Norfolk', 'VA')"
   ]
  },
  {
   "cell_type": "code",
   "execution_count": 16,
   "metadata": {},
   "outputs": [
    {
     "name": "stdout",
     "output_type": "stream",
     "text": [
      "Invalid Input.\n"
     ]
    }
   ],
   "source": [
    "BestYears('Norfolk', 'CA')"
   ]
  },
  {
   "cell_type": "code",
   "execution_count": 17,
   "metadata": {},
   "outputs": [
    {
     "name": "stdout",
     "output_type": "stream",
     "text": [
      "City does not exist.\n"
     ]
    }
   ],
   "source": [
    "BestYears('Python', 'MA')"
   ]
  },
  {
   "cell_type": "markdown",
   "metadata": {},
   "source": [
    "<div class=\"alert alert-block alert-success\">\n",
    "<b> Problem 8: (5 points) </b> In Module 6 you learned how to create different types of visuals.  <br><br>\n",
    "\n",
    "1. Create a visual of your choice to display `ExportTons` for every `Year` for five `ports`: Baltimore, MD, Wilmington, DE, Jacksonville, FL, New Orleans, LA and West Palm Beach, FL.\n",
    "2. Make sure your visual has a title and both an x and y axis label.\n",
    "\n",
    "</div>"
   ]
  },
  {
   "cell_type": "code",
   "execution_count": 18,
   "metadata": {},
   "outputs": [
    {
     "data": {
      "text/plain": [
       "<Figure size 1200x800 with 0 Axes>"
      ]
     },
     "execution_count": 18,
     "metadata": {},
     "output_type": "execute_result"
    },
    {
     "data": {
      "text/plain": [
       "[<matplotlib.lines.Line2D at 0x21f57c535e0>]"
      ]
     },
     "execution_count": 18,
     "metadata": {},
     "output_type": "execute_result"
    },
    {
     "data": {
      "text/plain": [
       "[<matplotlib.lines.Line2D at 0x21f57c535b0>]"
      ]
     },
     "execution_count": 18,
     "metadata": {},
     "output_type": "execute_result"
    },
    {
     "data": {
      "text/plain": [
       "[<matplotlib.lines.Line2D at 0x21f57c53be0>]"
      ]
     },
     "execution_count": 18,
     "metadata": {},
     "output_type": "execute_result"
    },
    {
     "data": {
      "text/plain": [
       "[<matplotlib.lines.Line2D at 0x21f57c53fa0>]"
      ]
     },
     "execution_count": 18,
     "metadata": {},
     "output_type": "execute_result"
    },
    {
     "data": {
      "text/plain": [
       "[<matplotlib.lines.Line2D at 0x21f57ca4370>]"
      ]
     },
     "execution_count": 18,
     "metadata": {},
     "output_type": "execute_result"
    },
    {
     "data": {
      "text/plain": [
       "Text(0.5, 1.0, 'ExportTons for Selected Ports Over Years')"
      ]
     },
     "execution_count": 18,
     "metadata": {},
     "output_type": "execute_result"
    },
    {
     "data": {
      "text/plain": [
       "Text(0.5, 0, 'Year')"
      ]
     },
     "execution_count": 18,
     "metadata": {},
     "output_type": "execute_result"
    },
    {
     "data": {
      "text/plain": [
       "Text(0, 0.5, 'ExportTons')"
      ]
     },
     "execution_count": 18,
     "metadata": {},
     "output_type": "execute_result"
    },
    {
     "data": {
      "text/plain": [
       "<matplotlib.legend.Legend at 0x21f57ca4220>"
      ]
     },
     "execution_count": 18,
     "metadata": {},
     "output_type": "execute_result"
    },
    {
     "data": {
      "image/png": "[encoded data removed]",
      "text/plain": [
       "<Figure size 1200x800 with 1 Axes>"
      ]
     },
     "metadata": {},
     "output_type": "display_data"
    }
   ],
   "source": [
    "import matplotlib.pyplot as plt\n",
    "# Define the ports of interest\n",
    "ports_of_interest = [\n",
    "    'Baltimore, MD',\n",
    "    'Wilmington, DE',\n",
    "    'Jacksonville, FL',\n",
    "    'New Orleans, LA',\n",
    "    'West Palm Beach, FL'\n",
    "]\n",
    "\n",
    "# Filter the dataframe for the specified ports\n",
    "filtered_df = df[df['U.S. Custom Ports'].isin(ports_of_interest)]\n",
    "\n",
    "# Pivot the dataframe\n",
    "pivot_df = filtered_df.pivot(index='Year', columns='U.S. Custom Ports', values='ExportTons')\n",
    "\n",
    "# Plot the data\n",
    "plt.figure(figsize=(12, 8))\n",
    "for port in ports_of_interest:\n",
    "    plt.plot(pivot_df[port], label=port)\n",
    "\n",
    "# Add title and labels\n",
    "plt.title('ExportTons for Selected Ports Over Years')\n",
    "plt.xlabel('Year')\n",
    "plt.ylabel('ExportTons')\n",
    "plt.legend()\n",
    "plt.grid(True)\n",
    "plt.show()"
   ]
  },
  {
   "cell_type": "markdown",
   "metadata": {},
   "source": [
    "<div class=\"alert alert-block alert-success\">\n",
    "<b> Problem 9: (1 point) </b> In a markdown cell, explain what your visual tells you about Jacksonville, FL between 2000 and 2017.\n",
    "\n",
    "\n",
    "</div>"
   ]
  },
  {
   "cell_type": "markdown",
   "metadata": {},
   "source": [
    "Stable Period (2000-2002): The exports begin relatively stable from 2000 to 2002 with minor reductions each year.\n",
    "\n",
    "Decline (2003): A noticeable decline in exports occurs in 2003.\n",
    "\n",
    "Significant Rise (2004-2005): The years 2004 and 2005 saw a significant surge in export tons, crossing 100,000.\n",
    "\n",
    "Stability with Minor Fluctuations (2006-2009): From 2006 to 2009, the exports remain stable but with some minor fluctuations. There's a peak in 2009.\n",
    "\n",
    "Rapid Increase (2010-2011): In 2010 and 2011, there's another significant increase.\n",
    "\n",
    "Mild Decrease (2012): 2012 witnesses a slight reduction in the exports compared to the previous year.\n",
    "\n",
    "Dramatic Surge (2013): 2013 experiences a dramatic surge in exports, exceeding 500,000 tons.\n",
    "\n",
    "Stability with High Values (2014-2017): From 2014 onwards, the export values remain high, albeit with minor decreases in 2014, 2015, and 2016. There's a rebound in 2017, but it hasn't reached the peak of 2013."
   ]
  }
 ],
 "metadata": {
  "kernelspec": {
   "display_name": "Python 3 (ipykernel)",
   "language": "python",
   "name": "python3"
  },
  "language_info": {
   "codemirror_mode": {
    "name": "ipython",
    "version": 3
   },
   "file_extension": ".py",
   "mimetype": "text/x-python",
   "name": "python",
   "nbconvert_exporter": "python",
   "pygments_lexer": "ipython3",
   "version": "3.10.9"
  },
  "toc": {
   "base_numbering": 1,
   "nav_menu": {},
   "number_sections": true,
   "sideBar": true,
   "skip_h1_title": false,
   "title_cell": "Table of Contents",
   "title_sidebar": "Contents",
   "toc_cell": false,
   "toc_position": {},
   "toc_section_display": true,
   "toc_window_display": false
  }
 },
 "nbformat": 4,
 "nbformat_minor": 2
}
