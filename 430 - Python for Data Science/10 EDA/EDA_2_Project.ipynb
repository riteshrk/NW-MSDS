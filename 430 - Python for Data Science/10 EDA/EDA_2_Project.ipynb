{
 "cells": [
  {
   "cell_type": "markdown",
   "metadata": {},
   "source": [
    "# EDA Project"
   ]
  },
  {
   "cell_type": "markdown",
   "metadata": {},
   "source": [
    "<div class=\"alert alert-block alert-info\">The EDA project in this course has four main parts to it: <br>\n",
    "    \n",
    "1. Project Proposal\n",
    "2. Phase 1\n",
    "3. Phase 2\n",
    "4. Report\n",
    "\n",
    "This notebook will be used for Project Proposal, Phase 1, and Phase 2. You will have specific questions to answer within this notebook for Project Proposal and Phase 1. You will also continue using this notebook for Phase 2. However, guidance and expectations can be found on Canvas for that assignment. The report is completed outside of this notebook and details can be found on the EDA Report page on Canvas..</div>"
   ]
  },
  {
   "cell_type": "markdown",
   "metadata": {},
   "source": [
    "<div class=\"alert alert-block alert-danger\"><b><font size=4>Read this before proceeding:</font></b>\n",
    "    \n",
    "1. Review the list of data sets and sources of data to avoid before choosing your data. This list is provided in the instructions for the Project Proposal assignment in Canvas.<br><br>  \n",
    "\n",
    "2. It is expected that when you are asked questions requiring typed explanations you are to use a <b><u>markdown cell</u></b> to type your answers neatly. <b><u><i>Do not provide typed answers to questions as extra comments within your code or within a code cell.</i></u></b> Only provide comments within your code as you normally would, i.e. as needed to explain or remind yourself what each part of the code is doing.</div>"
   ]
  },
  {
   "cell_type": "markdown",
   "metadata": {},
   "source": [
    "# Project Proposal"
   ]
  },
  {
   "cell_type": "markdown",
   "metadata": {},
   "source": [
    "<div class=\"alert alert-block alert-info\">The intent of this proposal is for you to share your chosen data file(s) with your instructor and provide general information on your goals for the EDA project.</div>"
   ]
  },
  {
   "cell_type": "markdown",
   "metadata": {},
   "source": [
    "<div class=\"alert alert-block alert-success\"><b>Step 1 (2 pts)</b>: Give a brief <i><u>description</u></i> of the source(s) of your data and include a <i><u>direct link</u></i> to your data.</div>"
   ]
  },
  {
   "cell_type": "markdown",
   "metadata": {},
   "source": [
    "US & states, NAICS, detialed employment sizes (U.S., 6-digit and states, NAICS sectors)\n",
    "\n",
    "This dataset is the Statistics of U.S. Businesses (SUSB) annual or static data provided by the U.S. Census Bureau. This dataset includes key business statistics such as the number of firms, the number of establishments, employment, and annual payroll for most U.S. business establishments. \n",
    "\n",
    "The data is categorized based on geographical area, industry, and enterprise employment size. The industry categorization follows the 2017 North American Industry Classification System (NAICS) codes. An establishment with 0 employment refers to a business with no paid employees in the mid-March pay period, but it had paid employees at some point during the year.\n",
    "\n",
    "As of the 2018 reference year, the dataset no longer uses an employment range flag (EMPLFL_R). Receipt data are only available for Economic Census years, which are the years ending in 2 & 7.\n",
    "\n",
    "The dataset files are available in a comma-delimited format and include U.S. and state-level data. For industry data, the dataset provides information up to the 6-digit NAICS level. \n",
    "\n",
    "Before the data is made available, it's reviewed by the Census Bureau to prevent the unauthorized disclosure of confidential information.\n",
    "\n",
    "Link to the data:\n",
    "Homepage: https://www.census.gov/data/datasets/2018/econ/susb/2018-susb.html\n",
    "Data: https://www2.census.gov/programs-surveys/susb/datasets/2018/us_state_6digitnaics_2018.txt\n"
   ]
  },
  {
   "cell_type": "markdown",
   "metadata": {},
   "source": [
    "<div class=\"alert alert-block alert-success\"><b>Step 2 (4 pts)</b>: Briefly explain why you chose this data. What about the data interests you?  Which specific fields will be the focus of your analysis (list at least 3)?</div>"
   ]
  },
  {
   "cell_type": "markdown",
   "metadata": {},
   "source": [
    "Given my interest in business and finance, this dataset is an excellent resource for understanding the breadth and depth of the U.S. business landscape. It covers a wide array of businesses from different industries and geographical areas, providing a comprehensive overview of the entire business ecosystem.\n",
    "\n",
    "The dataset's detailed classification based on the 2017 North American Industry Classification System (NAICS) codes is particularly useful. It will allow me  to dive deep into specific industries, exploring patterns, identifying trends, and understanding the dynamics within each sector. This level of detail can aid my understanding of industry-specific factors affecting business performance and economic outcomes.\n",
    "\n",
    "The dataset also offers a wealth of metrics like the number of firms, number of establishments, employment, and annual payroll. These metrics can serve as a valuable foundation for financial analysis. The employment and payroll data, for instance, can help gauge the scale of operations and economic impact of different industries or firms.\n",
    "\n",
    "Specifically, I would focus on the following fields:\n",
    "\n",
    "1. NAICS: By examining the industry classification of each establishment, I can conduct a thorough analysis of trends and patterns within specific industries.\n",
    "\n",
    "2. EMPL: The employment figures for each establishment will give me a sense of the size of the establishment and its operation scale, which is crucial for assessing a firm's capacity and potential growth.\n",
    "\n",
    "3. PAYR: Studying the annual payroll of each establishment could provide insights into the economic impact of different industries or firms. It will also give a perspective on the remuneration trends across industries.\n",
    "\n",
    "Overall, this dataset serves as a rich source of information for deepening my knowledge in business and finance and enhancing my analytical skills."
   ]
  },
  {
   "cell_type": "markdown",
   "metadata": {},
   "source": [
    "<div class=\"alert alert-block alert-success\"><b>Step 3 (2 pts)</b>: Provide a brief overview of your goals as it relates to your analysis plans. </div>"
   ]
  },
  {
   "cell_type": "markdown",
   "metadata": {},
   "source": [
    "As I embark on my analysis of this data, my overarching goal is to gain a deeper understanding of the U.S. business landscape. This involves examining trends and patterns across industries, firm sizes, and geographic locations, ultimately informing my knowledge about the country's economic environment. \n",
    "\n",
    "Here are some specific objectives:\n",
    "\n",
    "1. Industry-Specific Analysis: Using the NAICS codes, I plan to analyze industry-specific trends, such as which sectors have the most firms or employees, or which industries have the highest annual payroll. This analysis can give me insights into the economic health and relative significance of different industries.\n",
    "\n",
    "2. Employment Analysis: With the employment data, I aim to understand the job market better. This involves examining which industries are the largest employers and how employment is distributed across firm sizes and states. \n",
    "\n",
    "3. Economic Impact Analysis: By examining the payroll data, I hope to assess the economic impact of different industries and firm sizes. This can provide an understanding of income distribution and highlight the industries that contribute most significantly to wages and salaries across the country.\n",
    "\n",
    "These goals serve to guide my exploration of the dataset and ensure that I extract meaningful and relevant insights. By aligning my analysis plans with these objectives, I can make the most effective use of the wealth of information contained within the SUSB dataset."
   ]
  },
  {
   "cell_type": "markdown",
   "metadata": {},
   "source": [
    "<div class=\"alert alert-block alert-success\"><b>Step 4 (1 pt)</b>: Read the data into this notebook.  If you have more than one file, you need to repeat this step for each file. Use a different cell for each file.</div>"
   ]
  },
  {
   "cell_type": "code",
   "execution_count": 1,
   "metadata": {},
   "outputs": [],
   "source": [
    "# Import the pandas library\n",
    "import pandas as pd\n",
    "# Import Numpy library\n",
    "import numpy as np\n",
    "# Import Seaborn and Matplotlib\n",
    "import seaborn as sns\n",
    "import matplotlib.pyplot as plt\n",
    "# Assign the url to a variable\n",
    "url = \"https://www2.census.gov/programs-surveys/susb/datasets/2018/us_state_6digitnaics_2018.txt\"\n",
    "# Reead the file\n",
    "data = pd.read_csv(url, encoding='latin-1', delimiter=',')"
   ]
  },
  {
   "cell_type": "markdown",
   "metadata": {},
   "source": [
    "<div class=\"alert alert-block alert-success\"><b>Step 5 (3 pts)</b>: Inspect the data using the <b>info(&nbsp;)</b>, <b>head(&nbsp;)</b>, and <b>tail(&nbsp;)</b> methods.  Make sure your header is showing accurately as you learned in the Module 4 python homework.  Repeat for as many files as you have and use a new cell for each file.</div>"
   ]
  },
  {
   "cell_type": "code",
   "execution_count": 2,
   "metadata": {},
   "outputs": [],
   "source": [
    "# Set up notebook to display multiple outputs in one cell\n",
    "from IPython.core.interactiveshell import InteractiveShell\n",
    "InteractiveShell.ast_node_interactivity = \"all\""
   ]
  },
  {
   "cell_type": "code",
   "execution_count": 3,
   "metadata": {},
   "outputs": [
    {
     "name": "stdout",
     "output_type": "stream",
     "text": [
      "<class 'pandas.core.frame.DataFrame'>\n",
      "RangeIndex: 568614 entries, 0 to 568613\n",
      "Data columns (total 12 columns):\n",
      " #   Column        Non-Null Count   Dtype \n",
      "---  ------        --------------   ----- \n",
      " 0   STATE         568614 non-null  int64 \n",
      " 1   NAICS         568614 non-null  object\n",
      " 2   ENTRSIZE      568614 non-null  int64 \n",
      " 3   FIRM          568614 non-null  int64 \n",
      " 4   ESTB          568614 non-null  int64 \n",
      " 5   EMPL          568614 non-null  int64 \n",
      " 6   EMPLFL_N      568614 non-null  object\n",
      " 7   PAYR          568614 non-null  int64 \n",
      " 8   PAYRFL_N      568614 non-null  object\n",
      " 9   STATEDSCR     568614 non-null  object\n",
      " 10  NAICSDSCR     568614 non-null  object\n",
      " 11  ENTRSIZEDSCR  568614 non-null  object\n",
      "dtypes: int64(6), object(6)\n",
      "memory usage: 52.1+ MB\n"
     ]
    },
    {
     "data": {
      "text/html": [
       "<div>\n",
       "<style scoped>\n",
       "    .dataframe tbody tr th:only-of-type {\n",
       "        vertical-align: middle;\n",
       "    }\n",
       "\n",
       "    .dataframe tbody tr th {\n",
       "        vertical-align: top;\n",
       "    }\n",
       "\n",
       "    .dataframe thead th {\n",
       "        text-align: right;\n",
       "    }\n",
       "</style>\n",
       "<table border=\"1\" class=\"dataframe\">\n",
       "  <thead>\n",
       "    <tr style=\"text-align: right;\">\n",
       "      <th></th>\n",
       "      <th>STATE</th>\n",
       "      <th>NAICS</th>\n",
       "      <th>ENTRSIZE</th>\n",
       "      <th>FIRM</th>\n",
       "      <th>ESTB</th>\n",
       "      <th>EMPL</th>\n",
       "      <th>EMPLFL_N</th>\n",
       "      <th>PAYR</th>\n",
       "      <th>PAYRFL_N</th>\n",
       "      <th>STATEDSCR</th>\n",
       "      <th>NAICSDSCR</th>\n",
       "      <th>ENTRSIZEDSCR</th>\n",
       "    </tr>\n",
       "  </thead>\n",
       "  <tbody>\n",
       "    <tr>\n",
       "      <th>0</th>\n",
       "      <td>0</td>\n",
       "      <td>--</td>\n",
       "      <td>1</td>\n",
       "      <td>6075937</td>\n",
       "      <td>7912405</td>\n",
       "      <td>130881471</td>\n",
       "      <td>G</td>\n",
       "      <td>7097310272</td>\n",
       "      <td>G</td>\n",
       "      <td>United States</td>\n",
       "      <td>Total</td>\n",
       "      <td>01: Total</td>\n",
       "    </tr>\n",
       "    <tr>\n",
       "      <th>1</th>\n",
       "      <td>0</td>\n",
       "      <td>--</td>\n",
       "      <td>2</td>\n",
       "      <td>3752163</td>\n",
       "      <td>3757907</td>\n",
       "      <td>5967955</td>\n",
       "      <td>G</td>\n",
       "      <td>287379518</td>\n",
       "      <td>G</td>\n",
       "      <td>United States</td>\n",
       "      <td>Total</td>\n",
       "      <td>02: &lt;5</td>\n",
       "    </tr>\n",
       "    <tr>\n",
       "      <th>2</th>\n",
       "      <td>0</td>\n",
       "      <td>--</td>\n",
       "      <td>3</td>\n",
       "      <td>1013047</td>\n",
       "      <td>1025876</td>\n",
       "      <td>6676167</td>\n",
       "      <td>G</td>\n",
       "      <td>260867147</td>\n",
       "      <td>G</td>\n",
       "      <td>United States</td>\n",
       "      <td>Total</td>\n",
       "      <td>03: 5-9</td>\n",
       "    </tr>\n",
       "    <tr>\n",
       "      <th>3</th>\n",
       "      <td>0</td>\n",
       "      <td>--</td>\n",
       "      <td>4</td>\n",
       "      <td>645970</td>\n",
       "      <td>680297</td>\n",
       "      <td>8693150</td>\n",
       "      <td>G</td>\n",
       "      <td>350627386</td>\n",
       "      <td>G</td>\n",
       "      <td>United States</td>\n",
       "      <td>Total</td>\n",
       "      <td>04: 10-19</td>\n",
       "    </tr>\n",
       "    <tr>\n",
       "      <th>4</th>\n",
       "      <td>0</td>\n",
       "      <td>--</td>\n",
       "      <td>5</td>\n",
       "      <td>5411180</td>\n",
       "      <td>5464080</td>\n",
       "      <td>21337272</td>\n",
       "      <td>G</td>\n",
       "      <td>898874051</td>\n",
       "      <td>G</td>\n",
       "      <td>United States</td>\n",
       "      <td>Total</td>\n",
       "      <td>05: &lt;20</td>\n",
       "    </tr>\n",
       "    <tr>\n",
       "      <th>5</th>\n",
       "      <td>0</td>\n",
       "      <td>--</td>\n",
       "      <td>6</td>\n",
       "      <td>550877</td>\n",
       "      <td>730047</td>\n",
       "      <td>21581537</td>\n",
       "      <td>G</td>\n",
       "      <td>960698526</td>\n",
       "      <td>G</td>\n",
       "      <td>United States</td>\n",
       "      <td>Total</td>\n",
       "      <td>06: 20-99</td>\n",
       "    </tr>\n",
       "    <tr>\n",
       "      <th>6</th>\n",
       "      <td>0</td>\n",
       "      <td>--</td>\n",
       "      <td>7</td>\n",
       "      <td>93364</td>\n",
       "      <td>371181</td>\n",
       "      <td>18325222</td>\n",
       "      <td>G</td>\n",
       "      <td>959517328</td>\n",
       "      <td>G</td>\n",
       "      <td>United States</td>\n",
       "      <td>Total</td>\n",
       "      <td>07: 100-499</td>\n",
       "    </tr>\n",
       "    <tr>\n",
       "      <th>7</th>\n",
       "      <td>0</td>\n",
       "      <td>--</td>\n",
       "      <td>8</td>\n",
       "      <td>6055421</td>\n",
       "      <td>6565308</td>\n",
       "      <td>61244031</td>\n",
       "      <td>G</td>\n",
       "      <td>2819089905</td>\n",
       "      <td>G</td>\n",
       "      <td>United States</td>\n",
       "      <td>Total</td>\n",
       "      <td>08: &lt;500</td>\n",
       "    </tr>\n",
       "    <tr>\n",
       "      <th>8</th>\n",
       "      <td>0</td>\n",
       "      <td>--</td>\n",
       "      <td>9</td>\n",
       "      <td>20516</td>\n",
       "      <td>1347097</td>\n",
       "      <td>69637440</td>\n",
       "      <td>G</td>\n",
       "      <td>4278220367</td>\n",
       "      <td>G</td>\n",
       "      <td>United States</td>\n",
       "      <td>Total</td>\n",
       "      <td>09: 500+</td>\n",
       "    </tr>\n",
       "    <tr>\n",
       "      <th>9</th>\n",
       "      <td>0</td>\n",
       "      <td>11</td>\n",
       "      <td>1</td>\n",
       "      <td>22724</td>\n",
       "      <td>23393</td>\n",
       "      <td>163996</td>\n",
       "      <td>G</td>\n",
       "      <td>7350109</td>\n",
       "      <td>G</td>\n",
       "      <td>United States</td>\n",
       "      <td>Agriculture, Forestry, Fishing and Hunting</td>\n",
       "      <td>01: Total</td>\n",
       "    </tr>\n",
       "  </tbody>\n",
       "</table>\n",
       "</div>"
      ],
      "text/plain": [
       "   STATE NAICS  ENTRSIZE     FIRM     ESTB       EMPL EMPLFL_N        PAYR  \\\n",
       "0      0    --         1  6075937  7912405  130881471        G  7097310272   \n",
       "1      0    --         2  3752163  3757907    5967955        G   287379518   \n",
       "2      0    --         3  1013047  1025876    6676167        G   260867147   \n",
       "3      0    --         4   645970   680297    8693150        G   350627386   \n",
       "4      0    --         5  5411180  5464080   21337272        G   898874051   \n",
       "5      0    --         6   550877   730047   21581537        G   960698526   \n",
       "6      0    --         7    93364   371181   18325222        G   959517328   \n",
       "7      0    --         8  6055421  6565308   61244031        G  2819089905   \n",
       "8      0    --         9    20516  1347097   69637440        G  4278220367   \n",
       "9      0    11         1    22724    23393     163996        G     7350109   \n",
       "\n",
       "  PAYRFL_N      STATEDSCR                                   NAICSDSCR  \\\n",
       "0        G  United States                                       Total   \n",
       "1        G  United States                                       Total   \n",
       "2        G  United States                                       Total   \n",
       "3        G  United States                                       Total   \n",
       "4        G  United States                                       Total   \n",
       "5        G  United States                                       Total   \n",
       "6        G  United States                                       Total   \n",
       "7        G  United States                                       Total   \n",
       "8        G  United States                                       Total   \n",
       "9        G  United States  Agriculture, Forestry, Fishing and Hunting   \n",
       "\n",
       "  ENTRSIZEDSCR  \n",
       "0    01: Total  \n",
       "1       02: <5  \n",
       "2      03: 5-9  \n",
       "3    04: 10-19  \n",
       "4      05: <20  \n",
       "5    06: 20-99  \n",
       "6  07: 100-499  \n",
       "7     08: <500  \n",
       "8     09: 500+  \n",
       "9    01: Total  "
      ]
     },
     "execution_count": 3,
     "metadata": {},
     "output_type": "execute_result"
    },
    {
     "data": {
      "text/html": [
       "<div>\n",
       "<style scoped>\n",
       "    .dataframe tbody tr th:only-of-type {\n",
       "        vertical-align: middle;\n",
       "    }\n",
       "\n",
       "    .dataframe tbody tr th {\n",
       "        vertical-align: top;\n",
       "    }\n",
       "\n",
       "    .dataframe thead th {\n",
       "        text-align: right;\n",
       "    }\n",
       "</style>\n",
       "<table border=\"1\" class=\"dataframe\">\n",
       "  <thead>\n",
       "    <tr style=\"text-align: right;\">\n",
       "      <th></th>\n",
       "      <th>STATE</th>\n",
       "      <th>NAICS</th>\n",
       "      <th>ENTRSIZE</th>\n",
       "      <th>FIRM</th>\n",
       "      <th>ESTB</th>\n",
       "      <th>EMPL</th>\n",
       "      <th>EMPLFL_N</th>\n",
       "      <th>PAYR</th>\n",
       "      <th>PAYRFL_N</th>\n",
       "      <th>STATEDSCR</th>\n",
       "      <th>NAICSDSCR</th>\n",
       "      <th>ENTRSIZEDSCR</th>\n",
       "    </tr>\n",
       "  </thead>\n",
       "  <tbody>\n",
       "    <tr>\n",
       "      <th>568604</th>\n",
       "      <td>56</td>\n",
       "      <td>81399</td>\n",
       "      <td>8</td>\n",
       "      <td>17</td>\n",
       "      <td>17</td>\n",
       "      <td>63</td>\n",
       "      <td>H</td>\n",
       "      <td>3141</td>\n",
       "      <td>G</td>\n",
       "      <td>Wyoming</td>\n",
       "      <td>Other Similar Organizations (except Business, ...</td>\n",
       "      <td>08: &lt;500</td>\n",
       "    </tr>\n",
       "    <tr>\n",
       "      <th>568605</th>\n",
       "      <td>56</td>\n",
       "      <td>813990</td>\n",
       "      <td>1</td>\n",
       "      <td>18</td>\n",
       "      <td>18</td>\n",
       "      <td>70</td>\n",
       "      <td>H</td>\n",
       "      <td>3334</td>\n",
       "      <td>G</td>\n",
       "      <td>Wyoming</td>\n",
       "      <td>Other Similar Organizations (except Business, ...</td>\n",
       "      <td>01: Total</td>\n",
       "    </tr>\n",
       "    <tr>\n",
       "      <th>568606</th>\n",
       "      <td>56</td>\n",
       "      <td>813990</td>\n",
       "      <td>2</td>\n",
       "      <td>13</td>\n",
       "      <td>13</td>\n",
       "      <td>20</td>\n",
       "      <td>G</td>\n",
       "      <td>734</td>\n",
       "      <td>G</td>\n",
       "      <td>Wyoming</td>\n",
       "      <td>Other Similar Organizations (except Business, ...</td>\n",
       "      <td>02: &lt;5</td>\n",
       "    </tr>\n",
       "    <tr>\n",
       "      <th>568607</th>\n",
       "      <td>56</td>\n",
       "      <td>813990</td>\n",
       "      <td>5</td>\n",
       "      <td>17</td>\n",
       "      <td>17</td>\n",
       "      <td>63</td>\n",
       "      <td>H</td>\n",
       "      <td>3141</td>\n",
       "      <td>G</td>\n",
       "      <td>Wyoming</td>\n",
       "      <td>Other Similar Organizations (except Business, ...</td>\n",
       "      <td>05: &lt;20</td>\n",
       "    </tr>\n",
       "    <tr>\n",
       "      <th>568608</th>\n",
       "      <td>56</td>\n",
       "      <td>813990</td>\n",
       "      <td>8</td>\n",
       "      <td>17</td>\n",
       "      <td>17</td>\n",
       "      <td>63</td>\n",
       "      <td>H</td>\n",
       "      <td>3141</td>\n",
       "      <td>G</td>\n",
       "      <td>Wyoming</td>\n",
       "      <td>Other Similar Organizations (except Business, ...</td>\n",
       "      <td>08: &lt;500</td>\n",
       "    </tr>\n",
       "    <tr>\n",
       "      <th>568609</th>\n",
       "      <td>56</td>\n",
       "      <td>99</td>\n",
       "      <td>1</td>\n",
       "      <td>74</td>\n",
       "      <td>74</td>\n",
       "      <td>82</td>\n",
       "      <td>H</td>\n",
       "      <td>2801</td>\n",
       "      <td>G</td>\n",
       "      <td>Wyoming</td>\n",
       "      <td>Industries not classified</td>\n",
       "      <td>01: Total</td>\n",
       "    </tr>\n",
       "    <tr>\n",
       "      <th>568610</th>\n",
       "      <td>56</td>\n",
       "      <td>99</td>\n",
       "      <td>2</td>\n",
       "      <td>70</td>\n",
       "      <td>70</td>\n",
       "      <td>59</td>\n",
       "      <td>G</td>\n",
       "      <td>2482</td>\n",
       "      <td>G</td>\n",
       "      <td>Wyoming</td>\n",
       "      <td>Industries not classified</td>\n",
       "      <td>02: &lt;5</td>\n",
       "    </tr>\n",
       "    <tr>\n",
       "      <th>568611</th>\n",
       "      <td>56</td>\n",
       "      <td>99</td>\n",
       "      <td>3</td>\n",
       "      <td>4</td>\n",
       "      <td>4</td>\n",
       "      <td>23</td>\n",
       "      <td>H</td>\n",
       "      <td>319</td>\n",
       "      <td>J</td>\n",
       "      <td>Wyoming</td>\n",
       "      <td>Industries not classified</td>\n",
       "      <td>03: 5-9</td>\n",
       "    </tr>\n",
       "    <tr>\n",
       "      <th>568612</th>\n",
       "      <td>56</td>\n",
       "      <td>99</td>\n",
       "      <td>5</td>\n",
       "      <td>74</td>\n",
       "      <td>74</td>\n",
       "      <td>82</td>\n",
       "      <td>H</td>\n",
       "      <td>2801</td>\n",
       "      <td>G</td>\n",
       "      <td>Wyoming</td>\n",
       "      <td>Industries not classified</td>\n",
       "      <td>05: &lt;20</td>\n",
       "    </tr>\n",
       "    <tr>\n",
       "      <th>568613</th>\n",
       "      <td>56</td>\n",
       "      <td>99</td>\n",
       "      <td>8</td>\n",
       "      <td>74</td>\n",
       "      <td>74</td>\n",
       "      <td>82</td>\n",
       "      <td>H</td>\n",
       "      <td>2801</td>\n",
       "      <td>G</td>\n",
       "      <td>Wyoming</td>\n",
       "      <td>Industries not classified</td>\n",
       "      <td>08: &lt;500</td>\n",
       "    </tr>\n",
       "  </tbody>\n",
       "</table>\n",
       "</div>"
      ],
      "text/plain": [
       "        STATE   NAICS  ENTRSIZE  FIRM  ESTB  EMPL EMPLFL_N  PAYR PAYRFL_N  \\\n",
       "568604     56   81399         8    17    17    63        H  3141        G   \n",
       "568605     56  813990         1    18    18    70        H  3334        G   \n",
       "568606     56  813990         2    13    13    20        G   734        G   \n",
       "568607     56  813990         5    17    17    63        H  3141        G   \n",
       "568608     56  813990         8    17    17    63        H  3141        G   \n",
       "568609     56      99         1    74    74    82        H  2801        G   \n",
       "568610     56      99         2    70    70    59        G  2482        G   \n",
       "568611     56      99         3     4     4    23        H   319        J   \n",
       "568612     56      99         5    74    74    82        H  2801        G   \n",
       "568613     56      99         8    74    74    82        H  2801        G   \n",
       "\n",
       "       STATEDSCR                                          NAICSDSCR  \\\n",
       "568604   Wyoming  Other Similar Organizations (except Business, ...   \n",
       "568605   Wyoming  Other Similar Organizations (except Business, ...   \n",
       "568606   Wyoming  Other Similar Organizations (except Business, ...   \n",
       "568607   Wyoming  Other Similar Organizations (except Business, ...   \n",
       "568608   Wyoming  Other Similar Organizations (except Business, ...   \n",
       "568609   Wyoming                          Industries not classified   \n",
       "568610   Wyoming                          Industries not classified   \n",
       "568611   Wyoming                          Industries not classified   \n",
       "568612   Wyoming                          Industries not classified   \n",
       "568613   Wyoming                          Industries not classified   \n",
       "\n",
       "       ENTRSIZEDSCR  \n",
       "568604     08: <500  \n",
       "568605    01: Total  \n",
       "568606       02: <5  \n",
       "568607      05: <20  \n",
       "568608     08: <500  \n",
       "568609    01: Total  \n",
       "568610       02: <5  \n",
       "568611      03: 5-9  \n",
       "568612      05: <20  \n",
       "568613     08: <500  "
      ]
     },
     "execution_count": 3,
     "metadata": {},
     "output_type": "execute_result"
    }
   ],
   "source": [
    "# TODO: Use the info() method to determine to inspect the variable (column) names, the number of non-null values,\n",
    "# and the data types for each variable.\n",
    "data.info()\n",
    "# TODO: Use the head() method to inspect the first five (or more) rows of the data\n",
    "data.head(10)\n",
    "# TODO: Use the tail() method to inspect the last five (or more) rows of the data\n",
    "data.tail(10)"
   ]
  },
  {
   "cell_type": "markdown",
   "metadata": {},
   "source": [
    "<div class=\"alert alert-block alert-success\"><b>Step 6 - Files uploaded (3 pts)</b>: \n",
    "\n",
    "- All data files were uploaded into Canvas\n",
    "- HTML and .ipynb were uploaded into Canvas \n",
    "- HTML and .ipynb have student's last name in file title (example: Smith_EDA_Project)</div>"
   ]
  },
  {
   "cell_type": "markdown",
   "metadata": {},
   "source": [
    "<div class=\"alert alert-block alert-danger\"><b>STOP HERE for your Project Proposal assignment. Submit your (1) original data file(s) along with (2) the completed notebook up to this point, and (3) the html file for grading and approval.</b></div>"
   ]
  },
  {
   "cell_type": "markdown",
   "metadata": {},
   "source": [
    "<div class=\"alert alert-block alert-warning\"><b>Instructor Feedback and Approval (3 pts)</b>: Your instructor will provide feedback in either the cell below this or via Canvas. You can expect one of the following point values for this portion.\n",
    "\n",
    "<b>3 pts</b> - if your project goals and data set are both approved.<br>\n",
    "<b>2 pts</b> - if your data set is approved but changes to your project goals (Step 3) are needed.<br>\n",
    "<b>1 pt</b> - if your project goals are approved but your data set is not approved.<br>\n",
    "<b>0 pts</b> - if neither your data set nor your project goals are approved.<br><br>\n",
    "    \n",
    "<i><u>As needed, follow your instructor's feeback and guidance to get on track for the remaining portions of the EDA project.</u></i>\n",
    "</div>"
   ]
  },
  {
   "cell_type": "code",
   "execution_count": null,
   "metadata": {},
   "outputs": [],
   "source": []
  },
  {
   "cell_type": "markdown",
   "metadata": {},
   "source": [
    "# EDA Phase 1"
   ]
  },
  {
   "cell_type": "markdown",
   "metadata": {},
   "source": [
    "<div class=\"alert alert-block alert-info\">The overall goal of this assignment is to take all necessary steps to inspect the quality of your data and prepare the data according to your needs. For information and resources on the process of Exploratory Data Analysis (EDA), you should explore the <b><u>EDA Project Resources Module</u></b> in Canvas.\n",
    "\n",
    "Once you’ve read through the information provided in that module and have a comfortable understanding of EDA using Python, complete steps 7 through 11 listed below to satisfy the requirements for your EDA Phase 1 assignment. **Remember to convert code cells provided to markdown cells for any typed responses to questions.**</div>"
   ]
  },
  {
   "cell_type": "markdown",
   "metadata": {},
   "source": [
    "<div class=\"alert alert-block alert-success\"><b>Step 7 (2 pts)</b>: Begin by elaborating in more detail from the previous assignment on why you chose this data?<br>\n",
    "    \n",
    "1. Explain what you hope to learn from this data. \n",
    "2. Do you have a hunch about what this data will reveal? (The answer to this question will be used in the Introduction section of your EDA report.)\n",
    "</div>"
   ]
  },
  {
   "cell_type": "markdown",
   "metadata": {},
   "source": [
    "Why I Chose this Data: \n",
    "    I chose the Statistics of U.S. Businesses (SUSB) dataset because it offers a comprehensive view of the U.S. business landscape. It's not every day you come across a dataset that encapsulates such a wide range of businesses, covering various industries and geographical areas. I find the detailed classification based on the 6-digit NAICS codes particularly appealing. It allows me to dive into specific industries, exploring patterns, identifying trends, and understanding the dynamics that drive each sector.\n",
    "\n",
    "1. What I Hope to Learn: \n",
    "    From this dataset, I hope to gain a deeper understanding of the business ecosystem across the United States. I am intrigued by questions like: Which industries have the most firms or establishments? How is employment distributed across different sectors and regions? Which industries have the highest payroll, indicating their economic significance? Furthermore, I am interested in seeing how these dynamics have changed over time. Understanding these aspects would provide me with a richer understanding of the country's economic environment.\n",
    "\n",
    "2. My Hunches About the Data: \n",
    "    While I am approaching the analysis with an open mind, I do have a couple of hunches about what the data might reveal. For example, given the rapid advancement of the tech industry in recent years, I suspect that sectors related to technology might have seen an increase in the number of firms and employees. \n",
    "\n",
    "    On the other hand, essential sectors like healthcare or education might have remained relatively stable, given their consistent demand. \n",
    "\n",
    "    Geographically, I anticipate observing certain trends or patterns. Certain states might have a high concentration of specific industries, owing to factors such as local resources, policies, or historical context. Of course, these are just initial hypotheses. The actual data analysis may reveal entirely different patterns and trends."
   ]
  },
  {
   "cell_type": "markdown",
   "metadata": {},
   "source": [
    "<div class=\"alert alert-block alert-success\"><b>Step 8 (2 pts)</b>: Discuss the popluation and the sample:<br>\n",
    "    \n",
    "1. What is the population being represented by the data you’ve chosen? \n",
    "2. What is the total sample size?\n",
    "3. Explain anything particular about your data - example: was it a random sample or were sampling weights used with your data?\n",
    "</div>"
   ]
  },
  {
   "cell_type": "code",
   "execution_count": 4,
   "metadata": {},
   "outputs": [
    {
     "data": {
      "text/plain": [
       "(568614, 12)"
      ]
     },
     "execution_count": 4,
     "metadata": {},
     "output_type": "execute_result"
    }
   ],
   "source": [
    "data.shape"
   ]
  },
  {
   "cell_type": "markdown",
   "metadata": {},
   "source": [
    "1. The population being represented by the Statistics of U.S. Businesses (SUSB) dataset usually includes all businesses in the United States that are categorized under the North American Industry Classification System (NAICS) in 2018.\n",
    "2. Total Sample Size = 568614\n",
    "3. Generally, the U.S. Census Bureau employs scientific sampling methods to gather this data. This could include stratified sampling techniques where businesses are divided into different groups or \"strata\" based on certain characteristics (like industry, size, geography), and then a random sample is drawn from each stratum. This method helps to ensure that the sample is representative of the population across different business characteristics."
   ]
  },
  {
   "cell_type": "markdown",
   "metadata": {},
   "source": [
    "<div class=\"alert alert-block alert-success\"><b>Step 9 (4 pts)</b>: In the Project Proposal assignment you used the info(&nbsp;) method to inspect the variables, their data types, and the number of non-null values. Using that information as a guide, provide definitions of each of your variables and their corresponding data types, i.e. a data dictionary. \n",
    "\n",
    "- Consider using bullet points so that each variable is on its own line.\n",
    "- OR consider using an HTML table which is demonstrated in Module 5 code.\n",
    "- No need to include the variables that you will end up dropping and not use in your analysis.\n",
    "\n",
    "\n",
    "</div>"
   ]
  },
  {
   "cell_type": "code",
   "execution_count": 5,
   "metadata": {},
   "outputs": [
    {
     "name": "stdout",
     "output_type": "stream",
     "text": [
      "<class 'pandas.core.frame.DataFrame'>\n",
      "RangeIndex: 568614 entries, 0 to 568613\n",
      "Data columns (total 12 columns):\n",
      " #   Column        Non-Null Count   Dtype \n",
      "---  ------        --------------   ----- \n",
      " 0   STATE         568614 non-null  int64 \n",
      " 1   NAICS         568614 non-null  object\n",
      " 2   ENTRSIZE      568614 non-null  int64 \n",
      " 3   FIRM          568614 non-null  int64 \n",
      " 4   ESTB          568614 non-null  int64 \n",
      " 5   EMPL          568614 non-null  int64 \n",
      " 6   EMPLFL_N      568614 non-null  object\n",
      " 7   PAYR          568614 non-null  int64 \n",
      " 8   PAYRFL_N      568614 non-null  object\n",
      " 9   STATEDSCR     568614 non-null  object\n",
      " 10  NAICSDSCR     568614 non-null  object\n",
      " 11  ENTRSIZEDSCR  568614 non-null  object\n",
      "dtypes: int64(6), object(6)\n",
      "memory usage: 52.1+ MB\n"
     ]
    }
   ],
   "source": [
    "data.info()"
   ]
  },
  {
   "cell_type": "code",
   "execution_count": 6,
   "metadata": {},
   "outputs": [],
   "source": [
    "# Convert column STATE and ENTRSIZE to str, becuase it is a categorical column\n",
    "data['STATE'] = data['STATE'].astype(str)\n",
    "data['ENTRSIZE'] = data['ENTRSIZE'].astype(str)"
   ]
  },
  {
   "cell_type": "markdown",
   "metadata": {},
   "source": [
    "There are no null values in the dataframe.\n",
    "\n",
    "1. STATE (int64): This variable represents the state in which the business is located. It is represented as an integer, likely corresponding to a unique code for each state.\n",
    "2. NAICS (object): This variable refers to the North American Industry Classification System code for each business. It categorizes businesses into specific industry sectors. As an object data type, it's likely a string of characters representing the 6-digit NAICS code.\n",
    "3. ENTRSIZE (int64): This variable indicates the size of the business or enterprise. It is represented as an integer, which likely corresponds to a categorical ranking system that sorts businesses into size categories.\n",
    "4. FIRM (int64): This variable represents the number of firms within a specific category, defined by the other variables (like NAICS, ENTRSIZE, STATE). It is an integer data type, representing a count of firms.\n",
    "5. ESTB (int64): This variable represents the number of establishments, which may differ from the number of firms as a single firm may have multiple establishments. It's also an integer data type.\n",
    "6. EMPL (int64): This variable signifies the employment size for each business category. It is represented as an integer and likely refers to the total number of employees across all establishments within the category.\n",
    "7. EMPLFL_N (object): The exact meaning of this variable isn't clear from the information provided, but it's an object data type. This categorical variable seems to be based on the (EMPL) employment size. This variable might not serve any purpose in our analysis, and can be dropped.\n",
    "8. PAYR (int64): This variable represents the annual payroll for the specific category. It's an integer data type, likely representing the total payroll in dollars.\n",
    "9. AYRFL_N (object): Similar to EMPLFL_N, the exact meaning of this variable isn't clear from the provided information. This categorical variable seems to be based on the (PAYR) annual payroll. This variable might not serve any purpose in our analysis, and can be dropped.\n",
    "10. STATEDSCR (object): This variable is likely the description or name of the state corresponding to the STATE code. As an object, it would be a string of characters.\n",
    "11. NAICSDSCR (object): This is likely the description of the NAICS code, providing a more detailed understanding of the industry sector each business falls into.\n",
    "12. ENTRSIZEDSCR (object): This variable likely provides a description of the enterprise size category represented by the ENTRSIZE code."
   ]
  },
  {
   "cell_type": "code",
   "execution_count": 7,
   "metadata": {},
   "outputs": [],
   "source": [
    "# Drop the columns EMPLFL_N and AYRFL_N\n",
    "data = data.drop(columns=['EMPLFL_N', 'PAYRFL_N'])"
   ]
  },
  {
   "cell_type": "code",
   "execution_count": 8,
   "metadata": {},
   "outputs": [
    {
     "data": {
      "text/html": [
       "<table border=\"1\" class=\"dataframe\">\n",
       "  <thead>\n",
       "    <tr style=\"text-align: right;\">\n",
       "      <th>Column</th>\n",
       "      <th>Description</th>\n",
       "      <th>Type</th>\n",
       "    </tr>\n",
       "  </thead>\n",
       "  <tbody>\n",
       "    <tr>\n",
       "      <td>STATE</td>\n",
       "      <td>State in which the business is located</td>\n",
       "      <td>object</td>\n",
       "    </tr>\n",
       "    <tr>\n",
       "      <td>NAICS</td>\n",
       "      <td>North American Industry Classification System code for each business</td>\n",
       "      <td>object</td>\n",
       "    </tr>\n",
       "    <tr>\n",
       "      <td>ENTRSIZE</td>\n",
       "      <td>Size of the business or enterprise.</td>\n",
       "      <td>object</td>\n",
       "    </tr>\n",
       "    <tr>\n",
       "      <td>FIRM</td>\n",
       "      <td>Number of firms within a specific category</td>\n",
       "      <td>int64</td>\n",
       "    </tr>\n",
       "    <tr>\n",
       "      <td>ESTB</td>\n",
       "      <td>Number of establishments</td>\n",
       "      <td>int64</td>\n",
       "    </tr>\n",
       "    <tr>\n",
       "      <td>EMPL</td>\n",
       "      <td>Employment size for each business category</td>\n",
       "      <td>int64</td>\n",
       "    </tr>\n",
       "    <tr>\n",
       "      <td>PAYR</td>\n",
       "      <td>Annual payroll for the specific category</td>\n",
       "      <td>int64</td>\n",
       "    </tr>\n",
       "    <tr>\n",
       "      <td>STATEDSCR</td>\n",
       "      <td>Description or name of the state corresponding to the STATE code</td>\n",
       "      <td>object</td>\n",
       "    </tr>\n",
       "    <tr>\n",
       "      <td>NAICSDSCR</td>\n",
       "      <td>Description of the NAICS code</td>\n",
       "      <td>object</td>\n",
       "    </tr>\n",
       "    <tr>\n",
       "      <td>ENTRSIZEDSCR</td>\n",
       "      <td>Description of the enterprise size category</td>\n",
       "      <td>object</td>\n",
       "    </tr>\n",
       "  </tbody>\n",
       "</table>"
      ],
      "text/plain": [
       "<IPython.core.display.HTML object>"
      ]
     },
     "metadata": {},
     "output_type": "display_data"
    }
   ],
   "source": [
    "# Define the column descriptions\n",
    "column_descriptions = {\n",
    "    'STATE': 'State in which the business is located',\n",
    "    'NAICS': 'North American Industry Classification System code for each business',\n",
    "    'ENTRSIZE': 'Size of the business or enterprise. ',\n",
    "    'FIRM': 'Number of firms within a specific category',\n",
    "    'ESTB': 'Number of establishments',\n",
    "    'EMPL': 'Employment size for each business category',\n",
    "    'PAYR': 'Annual payroll for the specific category',\n",
    "    'STATEDSCR': 'Description or name of the state corresponding to the STATE code',\n",
    "    'NAICSDSCR': 'Description of the NAICS code',\n",
    "    'ENTRSIZEDSCR': 'Description of the enterprise size category'\n",
    "}\n",
    "\n",
    "# Create a dataframe to hold the column names, descriptions, and data types\n",
    "data_info = pd.DataFrame({\n",
    "    'Column': data.dtypes.index,\n",
    "    'Description': [column_descriptions[col] for col in data.dtypes.index],\n",
    "    'Type': data.dtypes.values\n",
    "})\n",
    "\n",
    "# Convert the dataframe to an HTML table\n",
    "data_info_html = data_info.to_html(index=False)\n",
    "\n",
    "# Display the HTML table in Jupyter\n",
    "from IPython.display import display, HTML\n",
    "display(HTML(data_info_html))\n"
   ]
  },
  {
   "cell_type": "markdown",
   "metadata": {},
   "source": [
    "<div class=\"alert alert-block alert-success\"><b>Step 10 (12 pts)</b>: For full credit in this problem you'll want to <i><u>take all necessary steps to report on the quality of the data</u></i> and <i><u>clean the data accordingly</u></i>. Some things to consider while doing this are listed below. <b>Depending on your data and goals, there may be additional steps needed than those listed here.</b>\n",
    "    \n",
    "1. Are there rows with missing or inconsistent values? If so, eliminate those rows from your data where appropriate.\n",
    "2. Are there any outliers or duplicate rows? If so, eliminate those rows from your data where appropriate. \n",
    "At each stage of cleaning the data, state how many rows were eliminated.\n",
    "3. Are you using all columns (variables) in the data? If not, are you eliminating those columns?\n",
    "4. Consider some type of visual display such as a boxplot to determine any outliers. Do any outliers need removed? If so, how many were removed?\n",
    "5. Every field needs to be inspected to ensure it is usable in your analysis.\n",
    "\n",
    "At each stage of cleaning the data, state how many rows were eliminated. <b><u><i>It is good practice to get the shape of the data before and after each step in cleaning the data and add typed explanations (in separate markdown cells) of the steps taken to clean the data.</i></u></b><br></div>\n",
    "    \n",
    "<div class=\"alert alert-block alert-info\">Include the rest of your work below and insert cells where needed.</div>"
   ]
  },
  {
   "cell_type": "code",
   "execution_count": 9,
   "metadata": {},
   "outputs": [
    {
     "name": "stdout",
     "output_type": "stream",
     "text": [
      "<class 'pandas.core.frame.DataFrame'>\n",
      "RangeIndex: 568614 entries, 0 to 568613\n",
      "Data columns (total 10 columns):\n",
      " #   Column        Non-Null Count   Dtype \n",
      "---  ------        --------------   ----- \n",
      " 0   STATE         568614 non-null  object\n",
      " 1   NAICS         568614 non-null  object\n",
      " 2   ENTRSIZE      568614 non-null  object\n",
      " 3   FIRM          568614 non-null  int64 \n",
      " 4   ESTB          568614 non-null  int64 \n",
      " 5   EMPL          568614 non-null  int64 \n",
      " 6   PAYR          568614 non-null  int64 \n",
      " 7   STATEDSCR     568614 non-null  object\n",
      " 8   NAICSDSCR     568614 non-null  object\n",
      " 9   ENTRSIZEDSCR  568614 non-null  object\n",
      "dtypes: int64(4), object(6)\n",
      "memory usage: 43.4+ MB\n"
     ]
    }
   ],
   "source": [
    "data.info()"
   ]
  },
  {
   "cell_type": "code",
   "execution_count": 10,
   "metadata": {},
   "outputs": [
    {
     "data": {
      "text/plain": [
       "468"
      ]
     },
     "execution_count": 10,
     "metadata": {},
     "output_type": "execute_result"
    },
    {
     "data": {
      "text/plain": [
       "['NAICSDSCR']"
      ]
     },
     "execution_count": 10,
     "metadata": {},
     "output_type": "execute_result"
    }
   ],
   "source": [
    "# Identify the number of cells and the rows that contain the totals for some category\n",
    "(data == 'Total').any(axis=1).sum()\n",
    "data.columns[(data == 'Total').any()].tolist()"
   ]
  },
  {
   "cell_type": "markdown",
   "metadata": {},
   "source": [
    "Only the 'NAICSDSCR' column contains the term 'Total,' and it does so in 468 rows. We can eliminate these rows from our dataset. This is because, if needed, we can always calculate totals for any category or sub-category at a later stage. Including these 'Total' rows in our analysis could potentially lead to inaccuracies or miscalculations."
   ]
  },
  {
   "cell_type": "code",
   "execution_count": 11,
   "metadata": {},
   "outputs": [
    {
     "name": "stdout",
     "output_type": "stream",
     "text": [
      "Number of rows in dataframe before rows with \"Total\" are dropped: 568614\n",
      "Number of rows in dataframe after rows with \"Total\" are dropped: 568146\n"
     ]
    }
   ],
   "source": [
    "# Number of rows in dataframe before rows with 'Total' are dropped\n",
    "print('Number of rows in dataframe before rows with \"Total\" are dropped: {}'.format(data.shape[0]))\n",
    "# Drop the rows with 'Total'\n",
    "data = data[data['NAICSDSCR'] != 'Total']\n",
    "# Number of rows in dataframe after rows with 'Total' are dropped\n",
    "print('Number of rows in dataframe after rows with \"Total\" are dropped: {}'.format(data.shape[0]))"
   ]
  },
  {
   "cell_type": "code",
   "execution_count": 12,
   "metadata": {},
   "outputs": [
    {
     "name": "stdout",
     "output_type": "stream",
     "text": [
      "Number of duplicate rows: 0\n"
     ]
    }
   ],
   "source": [
    "# Find the number of duplicate rows\n",
    "print('Number of duplicate rows: {}'.format(data.duplicated().sum()))"
   ]
  },
  {
   "cell_type": "code",
   "execution_count": 13,
   "metadata": {},
   "outputs": [
    {
     "name": "stdout",
     "output_type": "stream",
     "text": [
      "<class 'pandas.core.frame.DataFrame'>\n",
      "Int64Index: 568146 entries, 9 to 568613\n",
      "Data columns (total 10 columns):\n",
      " #   Column        Non-Null Count   Dtype \n",
      "---  ------        --------------   ----- \n",
      " 0   STATE         568146 non-null  object\n",
      " 1   NAICS         568146 non-null  object\n",
      " 2   ENTRSIZE      568146 non-null  object\n",
      " 3   FIRM          568146 non-null  int64 \n",
      " 4   ESTB          568146 non-null  int64 \n",
      " 5   EMPL          568146 non-null  int64 \n",
      " 6   PAYR          568146 non-null  int64 \n",
      " 7   STATEDSCR     568146 non-null  object\n",
      " 8   NAICSDSCR     568146 non-null  object\n",
      " 9   ENTRSIZEDSCR  568146 non-null  object\n",
      "dtypes: int64(4), object(6)\n",
      "memory usage: 47.7+ MB\n"
     ]
    }
   ],
   "source": [
    "# Get the column info for the dataframe\n",
    "data.info()"
   ]
  },
  {
   "cell_type": "code",
   "execution_count": 14,
   "metadata": {},
   "outputs": [
    {
     "name": "stdout",
     "output_type": "stream",
     "text": [
      "\n",
      "STATE\n",
      "Number of Categories: 52\n",
      "Top 5 Categories\n",
      "0     17753\n",
      "6     15994\n",
      "48    15264\n",
      "36    14397\n",
      "12    14293\n",
      "Name: STATE, dtype: int64\n",
      "\n",
      "NAICS\n",
      "Number of Categories: 2002\n",
      "Top 5 Categories\n",
      "7225    468\n",
      "531     468\n",
      "56      468\n",
      "71      468\n",
      "62      468\n",
      "Name: NAICS, dtype: int64\n",
      "\n",
      "ENTRSIZE\n",
      "Number of Categories: 9\n",
      "Top 5 Categories\n",
      "1    86226\n",
      "8    82819\n",
      "5    78075\n",
      "2    71527\n",
      "3    56893\n",
      "Name: ENTRSIZE, dtype: int64\n",
      "\n",
      "STATEDSCR\n",
      "Number of Categories: 52\n",
      "Top 5 Categories\n",
      "United States    17753\n",
      "California       15994\n",
      "Texas            15264\n",
      "New York         14397\n",
      "Florida          14293\n",
      "Name: STATEDSCR, dtype: int64\n",
      "\n",
      "NAICSDSCR\n",
      "Number of Categories: 1381\n",
      "Top 5 Categories\n",
      "Management of Companies and Enterprises           1852\n",
      "Data Processing, Hosting, and Related Services    1800\n",
      "Child Day Care Services                           1377\n",
      "Office Administrative Services                    1377\n",
      "Home Health Care Services                         1365\n",
      "Name: NAICSDSCR, dtype: int64\n",
      "\n",
      "ENTRSIZEDSCR\n",
      "Number of Categories: 9\n",
      "Top 5 Categories\n",
      "01: Total    86226\n",
      "08: <500     82819\n",
      "05: <20      78075\n",
      "02: <5       71527\n",
      "03: 5-9      56893\n",
      "Name: ENTRSIZEDSCR, dtype: int64\n"
     ]
    }
   ],
   "source": [
    "# Get the number of unique values and top 5 categories for all categorical variables\n",
    "for column in data.select_dtypes(include=['object']).columns:\n",
    "    print(\"\\n\" + column)\n",
    "    print(\"Number of Categories:\", data[column].nunique())\n",
    "    print('Top 5 Categories')\n",
    "    print(data[column].value_counts().head(5))\n"
   ]
  },
  {
   "cell_type": "code",
   "execution_count": 15,
   "metadata": {},
   "outputs": [
    {
     "data": {
      "text/plain": [
       "['FIRM', 'ESTB', 'EMPL', 'PAYR']"
      ]
     },
     "execution_count": 15,
     "metadata": {},
     "output_type": "execute_result"
    }
   ],
   "source": [
    "# Identify the numeric columns\n",
    "numeric_cols = data.select_dtypes(include=[np.number]).columns.tolist()\n",
    "numeric_cols"
   ]
  },
  {
   "cell_type": "code",
   "execution_count": 16,
   "metadata": {},
   "outputs": [
    {
     "name": "stdout",
     "output_type": "stream",
     "text": [
      "<class 'pandas.core.frame.DataFrame'>\n",
      "Int64Index: 568146 entries, 9 to 568613\n",
      "Data columns (total 10 columns):\n",
      " #   Column        Non-Null Count   Dtype \n",
      "---  ------        --------------   ----- \n",
      " 0   STATE         568146 non-null  object\n",
      " 1   NAICS         568146 non-null  object\n",
      " 2   ENTRSIZE      568146 non-null  object\n",
      " 3   FIRM          568146 non-null  int64 \n",
      " 4   ESTB          568146 non-null  int64 \n",
      " 5   EMPL          568146 non-null  int64 \n",
      " 6   PAYR          568146 non-null  int64 \n",
      " 7   STATEDSCR     568146 non-null  object\n",
      " 8   NAICSDSCR     568146 non-null  object\n",
      " 9   ENTRSIZEDSCR  568146 non-null  object\n",
      "dtypes: int64(4), object(6)\n",
      "memory usage: 47.7+ MB\n"
     ]
    },
    {
     "data": {
      "text/html": [
       "<div>\n",
       "<style scoped>\n",
       "    .dataframe tbody tr th:only-of-type {\n",
       "        vertical-align: middle;\n",
       "    }\n",
       "\n",
       "    .dataframe tbody tr th {\n",
       "        vertical-align: top;\n",
       "    }\n",
       "\n",
       "    .dataframe thead th {\n",
       "        text-align: right;\n",
       "    }\n",
       "</style>\n",
       "<table border=\"1\" class=\"dataframe\">\n",
       "  <thead>\n",
       "    <tr style=\"text-align: right;\">\n",
       "      <th></th>\n",
       "      <th>FIRM</th>\n",
       "      <th>ESTB</th>\n",
       "      <th>EMPL</th>\n",
       "      <th>PAYR</th>\n",
       "    </tr>\n",
       "  </thead>\n",
       "  <tbody>\n",
       "    <tr>\n",
       "      <th>count</th>\n",
       "      <td>568146.00</td>\n",
       "      <td>568146.00</td>\n",
       "      <td>568146.00</td>\n",
       "      <td>568146.00</td>\n",
       "    </tr>\n",
       "    <tr>\n",
       "      <th>mean</th>\n",
       "      <td>423.98</td>\n",
       "      <td>489.06</td>\n",
       "      <td>6039.97</td>\n",
       "      <td>314118.62</td>\n",
       "    </tr>\n",
       "    <tr>\n",
       "      <th>std</th>\n",
       "      <td>6397.35</td>\n",
       "      <td>7087.37</td>\n",
       "      <td>94670.46</td>\n",
       "      <td>5042505.49</td>\n",
       "    </tr>\n",
       "    <tr>\n",
       "      <th>min</th>\n",
       "      <td>3.00</td>\n",
       "      <td>3.00</td>\n",
       "      <td>0.00</td>\n",
       "      <td>7.00</td>\n",
       "    </tr>\n",
       "    <tr>\n",
       "      <th>25%</th>\n",
       "      <td>7.00</td>\n",
       "      <td>9.00</td>\n",
       "      <td>85.00</td>\n",
       "      <td>3532.00</td>\n",
       "    </tr>\n",
       "    <tr>\n",
       "      <th>50%</th>\n",
       "      <td>22.00</td>\n",
       "      <td>28.00</td>\n",
       "      <td>331.00</td>\n",
       "      <td>14484.00</td>\n",
       "    </tr>\n",
       "    <tr>\n",
       "      <th>75%</th>\n",
       "      <td>91.00</td>\n",
       "      <td>114.00</td>\n",
       "      <td>1383.00</td>\n",
       "      <td>64260.00</td>\n",
       "    </tr>\n",
       "    <tr>\n",
       "      <th>max</th>\n",
       "      <td>821129.00</td>\n",
       "      <td>1050175.00</td>\n",
       "      <td>20498753.00</td>\n",
       "      <td>1039361468.00</td>\n",
       "    </tr>\n",
       "  </tbody>\n",
       "</table>\n",
       "</div>"
      ],
      "text/plain": [
       "           FIRM       ESTB        EMPL          PAYR\n",
       "count 568146.00  568146.00   568146.00     568146.00\n",
       "mean     423.98     489.06     6039.97     314118.62\n",
       "std     6397.35    7087.37    94670.46    5042505.49\n",
       "min        3.00       3.00        0.00          7.00\n",
       "25%        7.00       9.00       85.00       3532.00\n",
       "50%       22.00      28.00      331.00      14484.00\n",
       "75%       91.00     114.00     1383.00      64260.00\n",
       "max   821129.00 1050175.00 20498753.00 1039361468.00"
      ]
     },
     "execution_count": 16,
     "metadata": {},
     "output_type": "execute_result"
    }
   ],
   "source": [
    "# Ensure that no numbers are displayed in scientific format\n",
    "pd.set_option('display.float_format', lambda x: '%.2f' % x)\n",
    "# Get the dataframe info\n",
    "data.info()\n",
    "# Get the data description\n",
    "data.describe()"
   ]
  },
  {
   "cell_type": "markdown",
   "metadata": {},
   "source": [
    "The fields 'FIRM', 'ESTB', 'EMPL', and 'PAYR' contain valuable information that could be used for analysis. Here's a brief overview of each:\n",
    "\n",
    "1. FIRM: This field indicates the number of firms, with a median of 22 and a maximum value of 821,129. The high maximum suggests the presence of a few very large entities. This variability can provide insights into the distribution of firm sizes.\n",
    "\n",
    "2. ESTB: This represents the number of establishments. The pattern here is similar to the 'FIRM' field with a median of 28 and a maximum value of 1,050,175, again indicating a presence of large entities.\n",
    "\n",
    "3. EMPL: This indicates the employment number. A minimum of 0 suggests some businesses don't have employees, which might represent sole proprietorships or businesses that only use contractors. The maximum value of 20,498,753 indicates that there are some very large employers, which could be of interest.\n",
    "\n",
    "4. PAYR: This refers to the annual payroll. The large standard deviation and maximum value suggest significant differences in payroll among different entities, reflecting disparities in compensation and scale of operations.\n",
    "\n",
    "    Given their descriptive statistics, all these fields appear to be useful for understanding the diversity of firm sizes, scale of operations, and employment levels across businesses. It seems there is a significant number of outliers and there ould be some skewness in these fields, care must be taken when analyzing the data and drawing conclusions. "
   ]
  },
  {
   "cell_type": "code",
   "execution_count": 17,
   "metadata": {},
   "outputs": [
    {
     "data": {
      "text/plain": [
       "<Figure size 2000x2000 with 0 Axes>"
      ]
     },
     "execution_count": 17,
     "metadata": {},
     "output_type": "execute_result"
    },
    {
     "data": {
      "text/plain": [
       "<Axes: >"
      ]
     },
     "execution_count": 17,
     "metadata": {},
     "output_type": "execute_result"
    },
    {
     "data": {
      "text/plain": [
       "Text(0.5, 1.0, 'Boxplots for all the numeric columns')"
      ]
     },
     "execution_count": 17,
     "metadata": {},
     "output_type": "execute_result"
    },
    {
     "data": {
      "image/png": "[encoded data removed]",
      "text/plain": [
       "<Figure size 2000x2000 with 1 Axes>"
      ]
     },
     "metadata": {},
     "output_type": "display_data"
    }
   ],
   "source": [
    "# Plot boxplots of all numeric columns\n",
    "plt.figure(figsize=(20,20))\n",
    "sns.boxplot(data=data[numeric_cols])\n",
    "plt.title('Boxplots for all the numeric columns')\n",
    "plt.show()"
   ]
  },
  {
   "cell_type": "code",
   "execution_count": 18,
   "metadata": {},
   "outputs": [
    {
     "data": {
      "text/plain": [
       "<Axes: >"
      ]
     },
     "execution_count": 18,
     "metadata": {},
     "output_type": "execute_result"
    },
    {
     "data": {
      "image/png": "[encoded data removed]",
      "text/plain": [
       "<Figure size 640x480 with 1 Axes>"
      ]
     },
     "metadata": {},
     "output_type": "display_data"
    },
    {
     "data": {
      "text/plain": [
       "<Axes: >"
      ]
     },
     "execution_count": 18,
     "metadata": {},
     "output_type": "execute_result"
    },
    {
     "data": {
      "image/png": "[encoded data removed]",
      "text/plain": [
       "<Figure size 640x480 with 1 Axes>"
      ]
     },
     "metadata": {},
     "output_type": "display_data"
    },
    {
     "data": {
      "text/plain": [
       "<Axes: >"
      ]
     },
     "execution_count": 18,
     "metadata": {},
     "output_type": "execute_result"
    },
    {
     "data": {
      "image/png": "[encoded data removed]",
      "text/plain": [
       "<Figure size 640x480 with 1 Axes>"
      ]
     },
     "metadata": {},
     "output_type": "display_data"
    },
    {
     "data": {
      "text/plain": [
       "<Axes: >"
      ]
     },
     "execution_count": 18,
     "metadata": {},
     "output_type": "execute_result"
    },
    {
     "data": {
      "image/png": "[encoded data removed]",
      "text/plain": [
       "<Figure size 640x480 with 1 Axes>"
      ]
     },
     "metadata": {},
     "output_type": "display_data"
    }
   ],
   "source": [
    "# Plot all the boxplots individually\n",
    "for col in numeric_cols:\n",
    "    #plt.figure(figsize=(6,6))\n",
    "    sns.boxplot(data=data[[col]])\n",
    "    plt.show()"
   ]
  },
  {
   "cell_type": "code",
   "execution_count": 19,
   "metadata": {},
   "outputs": [
    {
     "name": "stdout",
     "output_type": "stream",
     "text": [
      "Number of outliers in FIRM is 83639\n",
      "Number of outliers in ESTB is 83422\n",
      "Number of outliers in EMPL is 82299\n",
      "Number of outliers in PAYR is 83292\n"
     ]
    }
   ],
   "source": [
    "# Compute the number of outliers in each of the numeric columns\n",
    "for col in numeric_cols:\n",
    "    num_outliers = 0\n",
    "    Q1 = data[col].quantile(0.25)\n",
    "    Q3 = data[col].quantile(0.75)\n",
    "    IQR = Q3 - Q1\n",
    "    lower_bound = Q1 - 1.5 * IQR\n",
    "    upper_bound = Q3 + 1.5 * IQR\n",
    "    num_outliers = data[(data[col] < lower_bound) | (data[col] > upper_bound)].shape[0]\n",
    "    print('Number of outliers in {} is {}'.format(col, num_outliers ))"
   ]
  },
  {
   "cell_type": "markdown",
   "metadata": {},
   "source": [
    "Given the substantial number of outliers in the 'FIRM', 'ESTB', 'EMPL', and 'PAYR' fields, simply deleting these outliers may not be prudent, as it could lead to significant loss of information and diminish the validity of subsequent analysis. These outliers might represent the natural skewness in the data, indicating the presence of very small and large businesses. To handle these outliers, strategies such as data transformation (e.g., log or square root transformation), using robust statistical measures less sensitive to outliers (like median and interquartile range), binning the data, or capping the outliers (winsorizing) could be considered. "
   ]
  },
  {
   "cell_type": "code",
   "execution_count": 20,
   "metadata": {},
   "outputs": [
    {
     "data": {
      "text/plain": [
       "(568146, 10)"
      ]
     },
     "execution_count": 20,
     "metadata": {},
     "output_type": "execute_result"
    }
   ],
   "source": [
    "# Shape of the clean dataframe\n",
    "data.shape\n",
    "# Write the dataframe to a csv file\n",
    "data.to_csv('new_data.csv', index=False)"
   ]
  },
  {
   "cell_type": "markdown",
   "metadata": {},
   "source": [
    "<div class=\"alert alert-block alert-success\"><b>Step 11 (1 pt)</b>: <br>\n",
    "    \n",
    "Upload your cleaned data file, Jupyter Notebook and HTML to Canvas.\n",
    "</div>"
   ]
  },
  {
   "cell_type": "markdown",
   "metadata": {},
   "source": [
    "<div class=\"alert alert-block alert-danger\"><b>STOP HERE for your EDA Phase 1 assignment. </div>"
   ]
  },
  {
   "cell_type": "markdown",
   "metadata": {},
   "source": [
    "# EDA Phase 2"
   ]
  },
  {
   "cell_type": "markdown",
   "metadata": {},
   "source": [
    "<div class=\"alert alert-block alert-info\">All of your work for the EDA Phase 2 assignment will begin below here. Refer to the detailed instructions and expectations for this assignment in Canvas.</div>"
   ]
  },
  {
   "cell_type": "code",
   "execution_count": 21,
   "metadata": {},
   "outputs": [],
   "source": [
    "# Load up modules\n",
    "import pandas as pd\n",
    "import numpy as np\n",
    "# Load for visuals\n",
    "import seaborn as sns\n",
    "import matplotlib.pyplot as plt\n",
    "import plotly.express as px\n",
    "\n",
    "# Set up notebook to display multiple outputs in one cell\n",
    "from IPython.core.interactiveshell import InteractiveShell\n",
    "InteractiveShell.ast_node_interactivity = \"all\""
   ]
  },
  {
   "cell_type": "code",
   "execution_count": 22,
   "metadata": {},
   "outputs": [
    {
     "name": "stdout",
     "output_type": "stream",
     "text": [
      "<class 'pandas.core.frame.DataFrame'>\n",
      "RangeIndex: 568146 entries, 0 to 568145\n",
      "Data columns (total 10 columns):\n",
      " #   Column        Non-Null Count   Dtype \n",
      "---  ------        --------------   ----- \n",
      " 0   STATE         568146 non-null  int64 \n",
      " 1   NAICS         568146 non-null  object\n",
      " 2   ENTRSIZE      568146 non-null  int64 \n",
      " 3   FIRM          568146 non-null  int64 \n",
      " 4   ESTB          568146 non-null  int64 \n",
      " 5   EMPL          568146 non-null  int64 \n",
      " 6   PAYR          568146 non-null  int64 \n",
      " 7   STATEDSCR     568146 non-null  object\n",
      " 8   NAICSDSCR     568146 non-null  object\n",
      " 9   ENTRSIZEDSCR  568146 non-null  object\n",
      "dtypes: int64(6), object(4)\n",
      "memory usage: 43.3+ MB\n"
     ]
    }
   ],
   "source": [
    "# read the file from module 5\n",
    "df = pd.read_csv('new_data.csv')\n",
    "\n",
    "# data info\n",
    "df.info()"
   ]
  },
  {
   "cell_type": "code",
   "execution_count": 23,
   "metadata": {},
   "outputs": [],
   "source": [
    "# Changing the datatypes of State and Entrsize back to object\n",
    "df['STATE'] = df['STATE'].astype('object')\n",
    "df['ENTRSIZE'] = df['ENTRSIZE'].astype('object')"
   ]
  },
  {
   "cell_type": "code",
   "execution_count": 24,
   "metadata": {},
   "outputs": [
    {
     "name": "stdout",
     "output_type": "stream",
     "text": [
      "<class 'pandas.core.frame.DataFrame'>\n",
      "RangeIndex: 568146 entries, 0 to 568145\n",
      "Data columns (total 10 columns):\n",
      " #   Column        Non-Null Count   Dtype \n",
      "---  ------        --------------   ----- \n",
      " 0   STATE         568146 non-null  object\n",
      " 1   NAICS         568146 non-null  object\n",
      " 2   ENTRSIZE      568146 non-null  object\n",
      " 3   FIRM          568146 non-null  int64 \n",
      " 4   ESTB          568146 non-null  int64 \n",
      " 5   EMPL          568146 non-null  int64 \n",
      " 6   PAYR          568146 non-null  int64 \n",
      " 7   STATEDSCR     568146 non-null  object\n",
      " 8   NAICSDSCR     568146 non-null  object\n",
      " 9   ENTRSIZEDSCR  568146 non-null  object\n",
      "dtypes: int64(4), object(6)\n",
      "memory usage: 43.3+ MB\n"
     ]
    }
   ],
   "source": [
    "# data info\n",
    "df.info()"
   ]
  },
  {
   "cell_type": "code",
   "execution_count": 25,
   "metadata": {},
   "outputs": [
    {
     "data": {
      "text/html": [
       "<div>\n",
       "<style scoped>\n",
       "    .dataframe tbody tr th:only-of-type {\n",
       "        vertical-align: middle;\n",
       "    }\n",
       "\n",
       "    .dataframe tbody tr th {\n",
       "        vertical-align: top;\n",
       "    }\n",
       "\n",
       "    .dataframe thead th {\n",
       "        text-align: right;\n",
       "    }\n",
       "</style>\n",
       "<table border=\"1\" class=\"dataframe\">\n",
       "  <thead>\n",
       "    <tr style=\"text-align: right;\">\n",
       "      <th></th>\n",
       "      <th>STATE</th>\n",
       "      <th>NAICS</th>\n",
       "      <th>ENTRSIZE</th>\n",
       "      <th>FIRM</th>\n",
       "      <th>ESTB</th>\n",
       "      <th>EMPL</th>\n",
       "      <th>PAYR</th>\n",
       "      <th>STATEDSCR</th>\n",
       "      <th>NAICSDSCR</th>\n",
       "      <th>ENTRSIZEDSCR</th>\n",
       "    </tr>\n",
       "  </thead>\n",
       "  <tbody>\n",
       "    <tr>\n",
       "      <th>0</th>\n",
       "      <td>0</td>\n",
       "      <td>11</td>\n",
       "      <td>1</td>\n",
       "      <td>22724</td>\n",
       "      <td>23393</td>\n",
       "      <td>163996</td>\n",
       "      <td>7350109</td>\n",
       "      <td>United States</td>\n",
       "      <td>Agriculture, Forestry, Fishing and Hunting</td>\n",
       "      <td>01: Total</td>\n",
       "    </tr>\n",
       "    <tr>\n",
       "      <th>1</th>\n",
       "      <td>0</td>\n",
       "      <td>11</td>\n",
       "      <td>2</td>\n",
       "      <td>16031</td>\n",
       "      <td>16033</td>\n",
       "      <td>23080</td>\n",
       "      <td>1094385</td>\n",
       "      <td>United States</td>\n",
       "      <td>Agriculture, Forestry, Fishing and Hunting</td>\n",
       "      <td>02: &lt;5</td>\n",
       "    </tr>\n",
       "    <tr>\n",
       "      <th>2</th>\n",
       "      <td>0</td>\n",
       "      <td>11</td>\n",
       "      <td>3</td>\n",
       "      <td>3461</td>\n",
       "      <td>3463</td>\n",
       "      <td>22611</td>\n",
       "      <td>951785</td>\n",
       "      <td>United States</td>\n",
       "      <td>Agriculture, Forestry, Fishing and Hunting</td>\n",
       "      <td>03: 5-9</td>\n",
       "    </tr>\n",
       "    <tr>\n",
       "      <th>3</th>\n",
       "      <td>0</td>\n",
       "      <td>11</td>\n",
       "      <td>4</td>\n",
       "      <td>1780</td>\n",
       "      <td>1786</td>\n",
       "      <td>23385</td>\n",
       "      <td>1019778</td>\n",
       "      <td>United States</td>\n",
       "      <td>Agriculture, Forestry, Fishing and Hunting</td>\n",
       "      <td>04: 10-19</td>\n",
       "    </tr>\n",
       "    <tr>\n",
       "      <th>4</th>\n",
       "      <td>0</td>\n",
       "      <td>11</td>\n",
       "      <td>5</td>\n",
       "      <td>21272</td>\n",
       "      <td>21282</td>\n",
       "      <td>69076</td>\n",
       "      <td>3065948</td>\n",
       "      <td>United States</td>\n",
       "      <td>Agriculture, Forestry, Fishing and Hunting</td>\n",
       "      <td>05: &lt;20</td>\n",
       "    </tr>\n",
       "  </tbody>\n",
       "</table>\n",
       "</div>"
      ],
      "text/plain": [
       "  STATE NAICS ENTRSIZE   FIRM   ESTB    EMPL     PAYR      STATEDSCR  \\\n",
       "0     0    11        1  22724  23393  163996  7350109  United States   \n",
       "1     0    11        2  16031  16033   23080  1094385  United States   \n",
       "2     0    11        3   3461   3463   22611   951785  United States   \n",
       "3     0    11        4   1780   1786   23385  1019778  United States   \n",
       "4     0    11        5  21272  21282   69076  3065948  United States   \n",
       "\n",
       "                                    NAICSDSCR ENTRSIZEDSCR  \n",
       "0  Agriculture, Forestry, Fishing and Hunting    01: Total  \n",
       "1  Agriculture, Forestry, Fishing and Hunting       02: <5  \n",
       "2  Agriculture, Forestry, Fishing and Hunting      03: 5-9  \n",
       "3  Agriculture, Forestry, Fishing and Hunting    04: 10-19  \n",
       "4  Agriculture, Forestry, Fishing and Hunting      05: <20  "
      ]
     },
     "execution_count": 25,
     "metadata": {},
     "output_type": "execute_result"
    }
   ],
   "source": [
    "# first 5 records\n",
    "df.head()"
   ]
  },
  {
   "cell_type": "markdown",
   "metadata": {},
   "source": [
    "    The correlation matrix will show the linear relationship between the variables `FIRM`, `ESTB`, `EMPL`, and `PAYR`. The values range between -1 and 1, where:\n",
    "- 1 indicates a perfect positive linear relationship.\n",
    "- -1 indicates a perfect negative linear relationship.\n",
    "- 0 indicates no linear relationship."
   ]
  },
  {
   "cell_type": "code",
   "execution_count": 26,
   "metadata": {},
   "outputs": [
    {
     "data": {
      "text/html": [
       "<div>\n",
       "<style scoped>\n",
       "    .dataframe tbody tr th:only-of-type {\n",
       "        vertical-align: middle;\n",
       "    }\n",
       "\n",
       "    .dataframe tbody tr th {\n",
       "        vertical-align: top;\n",
       "    }\n",
       "\n",
       "    .dataframe thead th {\n",
       "        text-align: right;\n",
       "    }\n",
       "</style>\n",
       "<table border=\"1\" class=\"dataframe\">\n",
       "  <thead>\n",
       "    <tr style=\"text-align: right;\">\n",
       "      <th></th>\n",
       "      <th>FIRM</th>\n",
       "      <th>ESTB</th>\n",
       "      <th>EMPL</th>\n",
       "      <th>PAYR</th>\n",
       "    </tr>\n",
       "  </thead>\n",
       "  <tbody>\n",
       "    <tr>\n",
       "      <th>FIRM</th>\n",
       "      <td>1.00</td>\n",
       "      <td>0.98</td>\n",
       "      <td>0.64</td>\n",
       "      <td>0.55</td>\n",
       "    </tr>\n",
       "    <tr>\n",
       "      <th>ESTB</th>\n",
       "      <td>0.98</td>\n",
       "      <td>1.00</td>\n",
       "      <td>0.73</td>\n",
       "      <td>0.63</td>\n",
       "    </tr>\n",
       "    <tr>\n",
       "      <th>EMPL</th>\n",
       "      <td>0.64</td>\n",
       "      <td>0.73</td>\n",
       "      <td>1.00</td>\n",
       "      <td>0.87</td>\n",
       "    </tr>\n",
       "    <tr>\n",
       "      <th>PAYR</th>\n",
       "      <td>0.55</td>\n",
       "      <td>0.63</td>\n",
       "      <td>0.87</td>\n",
       "      <td>1.00</td>\n",
       "    </tr>\n",
       "  </tbody>\n",
       "</table>\n",
       "</div>"
      ],
      "text/plain": [
       "      FIRM  ESTB  EMPL  PAYR\n",
       "FIRM  1.00  0.98  0.64  0.55\n",
       "ESTB  0.98  1.00  0.73  0.63\n",
       "EMPL  0.64  0.73  1.00  0.87\n",
       "PAYR  0.55  0.63  0.87  1.00"
      ]
     },
     "execution_count": 26,
     "metadata": {},
     "output_type": "execute_result"
    },
    {
     "data": {
      "text/plain": [
       "<Axes: >"
      ]
     },
     "execution_count": 26,
     "metadata": {},
     "output_type": "execute_result"
    },
    {
     "data": {
      "text/plain": [
       "Text(0.5, 1.0, 'Heatmap - Firm Count, Establishment Count, Employment, and Payroll')"
      ]
     },
     "execution_count": 26,
     "metadata": {},
     "output_type": "execute_result"
    },
    {
     "data": {
      "image/png": "[encoded data removed]",
      "text/plain": [
       "<Figure size 900x600 with 2 Axes>"
      ]
     },
     "metadata": {},
     "output_type": "display_data"
    }
   ],
   "source": [
    "numeric_columns = ['FIRM', 'ESTB', 'EMPL', 'PAYR']\n",
    "df_corr = df[numeric_columns]\n",
    "df_corr.corr()\n",
    "\n",
    "cormat = df_corr.corr()\n",
    "f, ax = plt.subplots(figsize=(9,6))\n",
    "sns.heatmap(cormat, vmax=0.8, square=True, annot=True, cmap='Spectral', linewidths=0.5)\n",
    "plt.title('Heatmap - Firm Count, Establishment Count, Employment, and Payroll')"
   ]
  },
  {
   "cell_type": "markdown",
   "metadata": {},
   "source": [
    " 1. FIRM and ESTB (0.98)\n",
    "- This is a very strong positive correlation, meaning that as the number of firms (`FIRM`) increases, the number of establishments (`ESTB`) also tends to increase in a nearly linear fashion.\n",
    "- In practical terms, this indicates that industries or regions with more firms also generally have more establishments.\n",
    "\n",
    " 2. FIRM and EMPL (0.64)\n",
    "- This is a moderately strong positive correlation. As the number of firms increases, the employment (`EMPL`) tends to increase, but not as consistently as the relationship between `FIRM` and `ESTB`.\n",
    "- This suggests that while industries or regions with more firms tend to have more employees, other factors might be influencing the employment numbers.\n",
    "\n",
    " 3. FIRM and PAYR (0.55)\n",
    "- This is a moderate positive correlation. An increase in the number of firms tends to be associated with an increase in payroll (`PAYR`), but the relationship is not as strong as the previous two.\n",
    "- It indicates that while having more firms in an industry or region often results in a higher total payroll, the relationship is less direct, possibly due to variations in compensation, firm size, or industry type.\n",
    "\n",
    " 4. ESTB and EMPL (0.73)\n",
    "- This is a strong positive correlation. As the number of establishments rises, the employment numbers also generally increase.\n",
    "- This makes intuitive sense; industries or regions with more establishments would likely require more employees.\n",
    "\n",
    " 5. ESTB and PAYR (0.63)\n",
    "- This is a moderately strong positive correlation. An increase in establishments is associated with a rise in payroll.\n",
    "- This indicates that more establishments typically lead to higher payroll, but factors like average wages or the type of job roles within establishments might affect the exact payroll amount.\n",
    "\n",
    " 6. EMPL and PAYR (0.87)\n",
    "- This is a very strong positive correlation. As employment numbers grow, payroll tends to increase considerably.\n",
    "- This is expected since a higher number of employees should typically result in a higher overall payroll for firms, assuming average wages remain relatively stable.\n",
    "\n",
    "     Conclusion\n",
    "- Strong Correlations: These suggest a near linear and direct relationship between two variables. In this dataset, `FIRM` and `ESTB` and `EMPL` and `PAYR` exhibit strong correlations.\n",
    "- Moderate Correlations: These indicate a tangible but less direct relationship. In this matrix, correlations between `FIRM` & `EMPL`, `FIRM` & `PAYR`, and `ESTB` & `PAYR` are moderate.\n",
    "- Weak Correlations: These suggest that two variables might move in the same direction but not as consistently. A weak correlation might be closer to 0. This dataset doesn't have any notably weak correlations among the pairs.\n",
    "\n",
    "    Correlation does not imply causation. While these numbers give us insights into relationships between variables, they don't necessarily mean one variable is causing the change in another. "
   ]
  },
  {
   "cell_type": "code",
   "execution_count": 27,
   "metadata": {},
   "outputs": [
    {
     "data": {
      "text/html": [
       "<style type=\"text/css\">\n",
       "#T_c0ba0_row0_col0, #T_c0ba0_row1_col1, #T_c0ba0_row8_col2 {\n",
       "  background-color: #08306b;\n",
       "  color: #f1f1f1;\n",
       "}\n",
       "#T_c0ba0_row0_col1 {\n",
       "  background-color: #5da5d1;\n",
       "  color: #f1f1f1;\n",
       "}\n",
       "#T_c0ba0_row0_col2, #T_c0ba0_row2_col2, #T_c0ba0_row13_col2 {\n",
       "  background-color: #aacfe5;\n",
       "  color: #000000;\n",
       "}\n",
       "#T_c0ba0_row1_col0 {\n",
       "  background-color: #1967ad;\n",
       "  color: #f1f1f1;\n",
       "}\n",
       "#T_c0ba0_row1_col2, #T_c0ba0_row3_col2, #T_c0ba0_row4_col2, #T_c0ba0_row5_col2, #T_c0ba0_row7_col2, #T_c0ba0_row9_col2, #T_c0ba0_row10_col2, #T_c0ba0_row11_col2, #T_c0ba0_row12_col2, #T_c0ba0_row14_col2, #T_c0ba0_row15_col1, #T_c0ba0_row16_col2, #T_c0ba0_row17_col2, #T_c0ba0_row18_col0, #T_c0ba0_row18_col2, #T_c0ba0_row19_col0 {\n",
       "  background-color: #f7fbff;\n",
       "  color: #000000;\n",
       "}\n",
       "#T_c0ba0_row2_col0 {\n",
       "  background-color: #1e6db2;\n",
       "  color: #f1f1f1;\n",
       "}\n",
       "#T_c0ba0_row2_col1 {\n",
       "  background-color: #8cc0dd;\n",
       "  color: #000000;\n",
       "}\n",
       "#T_c0ba0_row3_col0 {\n",
       "  background-color: #65aad4;\n",
       "  color: #f1f1f1;\n",
       "}\n",
       "#T_c0ba0_row3_col1 {\n",
       "  background-color: #2777b8;\n",
       "  color: #f1f1f1;\n",
       "}\n",
       "#T_c0ba0_row4_col0 {\n",
       "  background-color: #69add5;\n",
       "  color: #f1f1f1;\n",
       "}\n",
       "#T_c0ba0_row4_col1 {\n",
       "  background-color: #2b7bba;\n",
       "  color: #f1f1f1;\n",
       "}\n",
       "#T_c0ba0_row5_col0 {\n",
       "  background-color: #92c4de;\n",
       "  color: #000000;\n",
       "}\n",
       "#T_c0ba0_row5_col1 {\n",
       "  background-color: #4695c8;\n",
       "  color: #f1f1f1;\n",
       "}\n",
       "#T_c0ba0_row6_col0 {\n",
       "  background-color: #97c6df;\n",
       "  color: #000000;\n",
       "}\n",
       "#T_c0ba0_row6_col1 {\n",
       "  background-color: #a4cce3;\n",
       "  color: #000000;\n",
       "}\n",
       "#T_c0ba0_row6_col2 {\n",
       "  background-color: #d6e5f4;\n",
       "  color: #000000;\n",
       "}\n",
       "#T_c0ba0_row7_col0, #T_c0ba0_row8_col0 {\n",
       "  background-color: #b5d4e9;\n",
       "  color: #000000;\n",
       "}\n",
       "#T_c0ba0_row7_col1 {\n",
       "  background-color: #68acd5;\n",
       "  color: #f1f1f1;\n",
       "}\n",
       "#T_c0ba0_row8_col1, #T_c0ba0_row15_col0 {\n",
       "  background-color: #f2f7fd;\n",
       "  color: #000000;\n",
       "}\n",
       "#T_c0ba0_row9_col0 {\n",
       "  background-color: #b8d5ea;\n",
       "  color: #000000;\n",
       "}\n",
       "#T_c0ba0_row9_col1 {\n",
       "  background-color: #6aaed6;\n",
       "  color: #f1f1f1;\n",
       "}\n",
       "#T_c0ba0_row10_col0 {\n",
       "  background-color: #bfd8ed;\n",
       "  color: #000000;\n",
       "}\n",
       "#T_c0ba0_row10_col1 {\n",
       "  background-color: #75b4d8;\n",
       "  color: #000000;\n",
       "}\n",
       "#T_c0ba0_row11_col0 {\n",
       "  background-color: #ddeaf7;\n",
       "  color: #000000;\n",
       "}\n",
       "#T_c0ba0_row11_col1 {\n",
       "  background-color: #abd0e6;\n",
       "  color: #000000;\n",
       "}\n",
       "#T_c0ba0_row12_col0 {\n",
       "  background-color: #deebf7;\n",
       "  color: #000000;\n",
       "}\n",
       "#T_c0ba0_row12_col1 {\n",
       "  background-color: #add0e6;\n",
       "  color: #000000;\n",
       "}\n",
       "#T_c0ba0_row13_col0, #T_c0ba0_row13_col1 {\n",
       "  background-color: #e9f2fa;\n",
       "  color: #000000;\n",
       "}\n",
       "#T_c0ba0_row14_col0 {\n",
       "  background-color: #ebf3fb;\n",
       "  color: #000000;\n",
       "}\n",
       "#T_c0ba0_row14_col1 {\n",
       "  background-color: #c2d9ee;\n",
       "  color: #000000;\n",
       "}\n",
       "#T_c0ba0_row15_col2 {\n",
       "  background-color: #4b98ca;\n",
       "  color: #f1f1f1;\n",
       "}\n",
       "#T_c0ba0_row16_col0 {\n",
       "  background-color: #f2f8fd;\n",
       "  color: #000000;\n",
       "}\n",
       "#T_c0ba0_row16_col1 {\n",
       "  background-color: #cadef0;\n",
       "  color: #000000;\n",
       "}\n",
       "#T_c0ba0_row17_col0 {\n",
       "  background-color: #f5fafe;\n",
       "  color: #000000;\n",
       "}\n",
       "#T_c0ba0_row17_col1 {\n",
       "  background-color: #cde0f1;\n",
       "  color: #000000;\n",
       "}\n",
       "#T_c0ba0_row18_col1 {\n",
       "  background-color: #d0e1f2;\n",
       "  color: #000000;\n",
       "}\n",
       "#T_c0ba0_row19_col1 {\n",
       "  background-color: #f0f6fd;\n",
       "  color: #000000;\n",
       "}\n",
       "#T_c0ba0_row19_col2 {\n",
       "  background-color: #afd1e7;\n",
       "  color: #000000;\n",
       "}\n",
       "</style>\n",
       "<table id=\"T_c0ba0\">\n",
       "  <thead>\n",
       "    <tr>\n",
       "      <th class=\"blank level0\" >&nbsp;</th>\n",
       "      <th id=\"T_c0ba0_level0_col0\" class=\"col_heading level0 col0\" >sum</th>\n",
       "      <th id=\"T_c0ba0_level0_col1\" class=\"col_heading level0 col1\" >mean</th>\n",
       "      <th id=\"T_c0ba0_level0_col2\" class=\"col_heading level0 col2\" >count</th>\n",
       "    </tr>\n",
       "    <tr>\n",
       "      <th class=\"index_name level0\" >NAICSDSCR</th>\n",
       "      <th class=\"blank col0\" >&nbsp;</th>\n",
       "      <th class=\"blank col1\" >&nbsp;</th>\n",
       "      <th class=\"blank col2\" >&nbsp;</th>\n",
       "    </tr>\n",
       "  </thead>\n",
       "  <tbody>\n",
       "    <tr>\n",
       "      <th id=\"T_c0ba0_level0_row0\" class=\"row_heading level0 row0\" >Restaurants and Other Eating Places</th>\n",
       "      <td id=\"T_c0ba0_row0_col0\" class=\"data row0 col0\" >125320272</td>\n",
       "      <td id=\"T_c0ba0_row0_col1\" class=\"data row0 col1\" >133889.179487</td>\n",
       "      <td id=\"T_c0ba0_row0_col2\" class=\"data row0 col2\" >936</td>\n",
       "    </tr>\n",
       "    <tr>\n",
       "      <th id=\"T_c0ba0_level0_row1\" class=\"row_heading level0 row1\" >Health Care and Social Assistance</th>\n",
       "      <td id=\"T_c0ba0_row1_col0\" class=\"data row1 col0\" >105459220</td>\n",
       "      <td id=\"T_c0ba0_row1_col1\" class=\"data row1 col1\" >225340.213675</td>\n",
       "      <td id=\"T_c0ba0_row1_col2\" class=\"data row1 col2\" >468</td>\n",
       "    </tr>\n",
       "    <tr>\n",
       "      <th id=\"T_c0ba0_level0_row2\" class=\"row_heading level0 row2\" >Professional, Scientific, and Technical Services</th>\n",
       "      <td id=\"T_c0ba0_row2_col0\" class=\"data row2 col0\" >103174620</td>\n",
       "      <td id=\"T_c0ba0_row2_col1\" class=\"data row2 col1\" >110229.294872</td>\n",
       "      <td id=\"T_c0ba0_row2_col2\" class=\"data row2 col2\" >936</td>\n",
       "    </tr>\n",
       "    <tr>\n",
       "      <th id=\"T_c0ba0_level0_row3\" class=\"row_heading level0 row3\" >Accommodation and Food Services</th>\n",
       "      <td id=\"T_c0ba0_row3_col0\" class=\"data row3 col0\" >79851302</td>\n",
       "      <td id=\"T_c0ba0_row3_col1\" class=\"data row3 col1\" >170622.440171</td>\n",
       "      <td id=\"T_c0ba0_row3_col2\" class=\"data row3 col2\" >468</td>\n",
       "    </tr>\n",
       "    <tr>\n",
       "      <th id=\"T_c0ba0_level0_row4\" class=\"row_heading level0 row4\" >Retail Trade</th>\n",
       "      <td id=\"T_c0ba0_row4_col0\" class=\"data row4 col0\" >78704832</td>\n",
       "      <td id=\"T_c0ba0_row4_col1\" class=\"data row4 col1\" >168172.717949</td>\n",
       "      <td id=\"T_c0ba0_row4_col2\" class=\"data row4 col2\" >468</td>\n",
       "    </tr>\n",
       "    <tr>\n",
       "      <th id=\"T_c0ba0_level0_row5\" class=\"row_heading level0 row5\" >Food Services and Drinking Places</th>\n",
       "      <td id=\"T_c0ba0_row5_col0\" class=\"data row5 col0\" >69096648</td>\n",
       "      <td id=\"T_c0ba0_row5_col1\" class=\"data row5 col1\" >147642.410256</td>\n",
       "      <td id=\"T_c0ba0_row5_col2\" class=\"data row5 col2\" >468</td>\n",
       "    </tr>\n",
       "    <tr>\n",
       "      <th id=\"T_c0ba0_level0_row6\" class=\"row_heading level0 row6\" >General Medical and Surgical Hospitals</th>\n",
       "      <td id=\"T_c0ba0_row6_col0\" class=\"data row6 col0\" >68305548</td>\n",
       "      <td id=\"T_c0ba0_row6_col1\" class=\"data row6 col1\" >97301.350427</td>\n",
       "      <td id=\"T_c0ba0_row6_col2\" class=\"data row6 col2\" >702</td>\n",
       "    </tr>\n",
       "    <tr>\n",
       "      <th id=\"T_c0ba0_level0_row7\" class=\"row_heading level0 row7\" >Manufacturing</th>\n",
       "      <td id=\"T_c0ba0_row7_col0\" class=\"data row7 col0\" >59800577</td>\n",
       "      <td id=\"T_c0ba0_row7_col1\" class=\"data row7 col1\" >128052.627409</td>\n",
       "      <td id=\"T_c0ba0_row7_col2\" class=\"data row7 col2\" >467</td>\n",
       "    </tr>\n",
       "    <tr>\n",
       "      <th id=\"T_c0ba0_level0_row8\" class=\"row_heading level0 row8\" >Management of Companies and Enterprises</th>\n",
       "      <td id=\"T_c0ba0_row8_col0\" class=\"data row8 col0\" >59720432</td>\n",
       "      <td id=\"T_c0ba0_row8_col1\" class=\"data row8 col1\" >32246.453564</td>\n",
       "      <td id=\"T_c0ba0_row8_col2\" class=\"data row8 col2\" >1852</td>\n",
       "    </tr>\n",
       "    <tr>\n",
       "      <th id=\"T_c0ba0_level0_row9\" class=\"row_heading level0 row9\" >Administrative and Support and Waste Management and Remediation Services</th>\n",
       "      <td id=\"T_c0ba0_row9_col0\" class=\"data row9 col0\" >58965938</td>\n",
       "      <td id=\"T_c0ba0_row9_col1\" class=\"data row9 col1\" >125995.594017</td>\n",
       "      <td id=\"T_c0ba0_row9_col2\" class=\"data row9 col2\" >468</td>\n",
       "    </tr>\n",
       "    <tr>\n",
       "      <th id=\"T_c0ba0_level0_row10\" class=\"row_heading level0 row10\" >Administrative and Support Services</th>\n",
       "      <td id=\"T_c0ba0_row10_col0\" class=\"data row10 col0\" >56650026</td>\n",
       "      <td id=\"T_c0ba0_row10_col1\" class=\"data row10 col1\" >121047.064103</td>\n",
       "      <td id=\"T_c0ba0_row10_col2\" class=\"data row10 col2\" >468</td>\n",
       "    </tr>\n",
       "    <tr>\n",
       "      <th id=\"T_c0ba0_level0_row11\" class=\"row_heading level0 row11\" >Ambulatory Health Care Services</th>\n",
       "      <td id=\"T_c0ba0_row11_col0\" class=\"data row11 col0\" >43440988</td>\n",
       "      <td id=\"T_c0ba0_row11_col1\" class=\"data row11 col1\" >92822.623932</td>\n",
       "      <td id=\"T_c0ba0_row11_col2\" class=\"data row11 col2\" >468</td>\n",
       "    </tr>\n",
       "    <tr>\n",
       "      <th id=\"T_c0ba0_level0_row12\" class=\"row_heading level0 row12\" >Construction</th>\n",
       "      <td id=\"T_c0ba0_row12_col0\" class=\"data row12 col0\" >43166174</td>\n",
       "      <td id=\"T_c0ba0_row12_col1\" class=\"data row12 col1\" >92235.414530</td>\n",
       "      <td id=\"T_c0ba0_row12_col2\" class=\"data row12 col2\" >468</td>\n",
       "    </tr>\n",
       "    <tr>\n",
       "      <th id=\"T_c0ba0_level0_row13\" class=\"row_heading level0 row13\" >Educational Services</th>\n",
       "      <td id=\"T_c0ba0_row13_col0\" class=\"data row13 col0\" >37964164</td>\n",
       "      <td id=\"T_c0ba0_row13_col1\" class=\"data row13 col1\" >40560.004274</td>\n",
       "      <td id=\"T_c0ba0_row13_col2\" class=\"data row13 col2\" >936</td>\n",
       "    </tr>\n",
       "    <tr>\n",
       "      <th id=\"T_c0ba0_level0_row14\" class=\"row_heading level0 row14\" >Other Services (except Public Administration)</th>\n",
       "      <td id=\"T_c0ba0_row14_col0\" class=\"data row14 col0\" >37037962</td>\n",
       "      <td id=\"T_c0ba0_row14_col1\" class=\"data row14 col1\" >79140.944444</td>\n",
       "      <td id=\"T_c0ba0_row14_col2\" class=\"data row14 col2\" >468</td>\n",
       "    </tr>\n",
       "    <tr>\n",
       "      <th id=\"T_c0ba0_level0_row15\" class=\"row_heading level0 row15\" >Religious Organizations</th>\n",
       "      <td id=\"T_c0ba0_row15_col0\" class=\"data row15 col0\" >34075956</td>\n",
       "      <td id=\"T_c0ba0_row15_col1\" class=\"data row15 col1\" >26354.180974</td>\n",
       "      <td id=\"T_c0ba0_row15_col2\" class=\"data row15 col2\" >1293</td>\n",
       "    </tr>\n",
       "    <tr>\n",
       "      <th id=\"T_c0ba0_level0_row16\" class=\"row_heading level0 row16\" >Wholesale Trade</th>\n",
       "      <td id=\"T_c0ba0_row16_col0\" class=\"data row16 col0\" >33531262</td>\n",
       "      <td id=\"T_c0ba0_row16_col1\" class=\"data row16 col1\" >71647.995726</td>\n",
       "      <td id=\"T_c0ba0_row16_col2\" class=\"data row16 col2\" >468</td>\n",
       "    </tr>\n",
       "    <tr>\n",
       "      <th id=\"T_c0ba0_level0_row17\" class=\"row_heading level0 row17\" >Full-Service Restaurants</th>\n",
       "      <td id=\"T_c0ba0_row17_col0\" class=\"data row17 col0\" >32210580</td>\n",
       "      <td id=\"T_c0ba0_row17_col1\" class=\"data row17 col1\" >68826.025641</td>\n",
       "      <td id=\"T_c0ba0_row17_col2\" class=\"data row17 col2\" >468</td>\n",
       "    </tr>\n",
       "    <tr>\n",
       "      <th id=\"T_c0ba0_level0_row18\" class=\"row_heading level0 row18\" >Finance and Insurance</th>\n",
       "      <td id=\"T_c0ba0_row18_col0\" class=\"data row18 col0\" >31202462</td>\n",
       "      <td id=\"T_c0ba0_row18_col1\" class=\"data row18 col1\" >66671.927350</td>\n",
       "      <td id=\"T_c0ba0_row18_col2\" class=\"data row18 col2\" >468</td>\n",
       "    </tr>\n",
       "    <tr>\n",
       "      <th id=\"T_c0ba0_level0_row19\" class=\"row_heading level0 row19\" >Temporary Help Services</th>\n",
       "      <td id=\"T_c0ba0_row19_col0\" class=\"data row19 col0\" >31170392</td>\n",
       "      <td id=\"T_c0ba0_row19_col1\" class=\"data row19 col1\" >34103.273523</td>\n",
       "      <td id=\"T_c0ba0_row19_col2\" class=\"data row19 col2\" >914</td>\n",
       "    </tr>\n",
       "  </tbody>\n",
       "</table>\n"
      ],
      "text/plain": [
       "<pandas.io.formats.style.Styler at 0x1e1ddde3d30>"
      ]
     },
     "execution_count": 27,
     "metadata": {},
     "output_type": "execute_result"
    }
   ],
   "source": [
    "# Categorizing the employment numbers (EMPL) by the description of the \n",
    "# North American Industry Classification System (NAICS) codes.\n",
    "employees = df['EMPL'].groupby(df['NAICSDSCR']).agg(['sum', 'mean', 'count']).sort_values(by=['sum'], ascending=False)\n",
    "# Top 20 industry classifications with the highest total employment\n",
    "employees[:20].style.background_gradient(cmap = 'Blues')"
   ]
  },
  {
   "cell_type": "markdown",
   "metadata": {},
   "source": [
    "Findings: Top Industries by Employment Metrics\n",
    "\n",
    "This output offers a detailed overview of the top industries based on their employment metrics, categorized by the NAICSDSCR descriptions. Here are the key insights:\n",
    "\n",
    "1. Dominant Industries by Total Employment (sum): \n",
    "    - Restaurants and Other Eating Places lead with over 125 million employees, underscoring the significance of the food and beverage sector in terms of job creation. \n",
    "    - Health Care and Social Assistance and Professional, Scientific, and Technical Services follow closely, emphasizing the paramount roles of healthcare and professional sectors in the job market.\n",
    "\n",
    "2. Average Employment (mean): \n",
    "    - Health Care and Social Assistance showcases the highest average employment per establishment, reflecting the large-scale operations typical in this sector.\n",
    "    - Accommodation and Food Services and Retail Trade also have significant average employments, indicating substantial businesses within these categories.\n",
    "\n",
    "3. Industry Prevalence (count):\n",
    "    - Restaurants and Other Eating Places and Professional, Scientific, and Technical Services have the highest counts, with 936 entries each, highlighting the abundance of such establishments.\n",
    "    - Management of Companies and Enterprises stands out with 1852 entries but a relatively lower average employment, suggesting the presence of many smaller firms or headquarters in this category.\n",
    "\n",
    "4. Sectoral Differences: The list reveals a mixture of industries from diverse sectors – from dining and healthcare to construction and finance. This diversity mirrors the multifaceted nature of the job market, catering to various needs and skills.\n",
    "\n",
    "5. Special Mentions:\n",
    "    - General Medical and Surgical Hospitals and Manufacturing stand out for their significant total employment, emphasizing their central roles in the economy.\n",
    "    - Religious Organizations, although not typically highlighted in standard economic analyses, emerges with a notable presence, showcasing the breadth of the data and the varied sources of employment.\n",
    "\n",
    "    In conclusion, the output paints a comprehensive picture of the job landscape across different sectors, offering invaluable insights for policymakers, economists, and business professionals. The data underscores the importance of certain industries in job creation and the diversity of the U.S. economy. Future studies can explore the dynamics within these industries, their growth potential, and challenges faced."
   ]
  },
  {
   "cell_type": "code",
   "execution_count": 28,
   "metadata": {},
   "outputs": [
    {
     "data": {
      "text/plain": [
       "1381"
      ]
     },
     "execution_count": 28,
     "metadata": {},
     "output_type": "execute_result"
    }
   ],
   "source": [
    "len(employees)"
   ]
  },
  {
   "cell_type": "code",
   "execution_count": 29,
   "metadata": {},
   "outputs": [
    {
     "data": {
      "text/html": [
       "<style type=\"text/css\">\n",
       "#T_91214_row0_col0 {\n",
       "  background-color: #61a7d2;\n",
       "  color: #f1f1f1;\n",
       "}\n",
       "#T_91214_row0_col1, #T_91214_row1_col0, #T_91214_row14_col2 {\n",
       "  background-color: #08306b;\n",
       "  color: #f1f1f1;\n",
       "}\n",
       "#T_91214_row0_col2, #T_91214_row3_col2, #T_91214_row6_col2, #T_91214_row7_col2, #T_91214_row8_col2, #T_91214_row9_col2, #T_91214_row10_col2, #T_91214_row11_col2, #T_91214_row13_col2, #T_91214_row15_col2, #T_91214_row16_col2, #T_91214_row17_col2, #T_91214_row18_col2 {\n",
       "  background-color: #dce9f6;\n",
       "  color: #000000;\n",
       "}\n",
       "#T_91214_row1_col1 {\n",
       "  background-color: #1b69af;\n",
       "  color: #f1f1f1;\n",
       "}\n",
       "#T_91214_row1_col2 {\n",
       "  background-color: #89bedc;\n",
       "  color: #000000;\n",
       "}\n",
       "#T_91214_row2_col0 {\n",
       "  background-color: #b5d4e9;\n",
       "  color: #000000;\n",
       "}\n",
       "#T_91214_row2_col1 {\n",
       "  background-color: #549fcd;\n",
       "  color: #f1f1f1;\n",
       "}\n",
       "#T_91214_row2_col2, #T_91214_row19_col2 {\n",
       "  background-color: #dceaf6;\n",
       "  color: #000000;\n",
       "}\n",
       "#T_91214_row3_col0 {\n",
       "  background-color: #c6dbef;\n",
       "  color: #000000;\n",
       "}\n",
       "#T_91214_row3_col1 {\n",
       "  background-color: #77b5d9;\n",
       "  color: #000000;\n",
       "}\n",
       "#T_91214_row4_col0, #T_91214_row15_col0, #T_91214_row16_col0 {\n",
       "  background-color: #eef5fc;\n",
       "  color: #000000;\n",
       "}\n",
       "#T_91214_row4_col1 {\n",
       "  background-color: #7fb9da;\n",
       "  color: #000000;\n",
       "}\n",
       "#T_91214_row4_col2, #T_91214_row18_col0, #T_91214_row18_col1, #T_91214_row19_col0, #T_91214_row19_col1 {\n",
       "  background-color: #f7fbff;\n",
       "  color: #000000;\n",
       "}\n",
       "#T_91214_row5_col0 {\n",
       "  background-color: #87bddc;\n",
       "  color: #000000;\n",
       "}\n",
       "#T_91214_row5_col1 {\n",
       "  background-color: #85bcdc;\n",
       "  color: #000000;\n",
       "}\n",
       "#T_91214_row5_col2 {\n",
       "  background-color: #bcd7eb;\n",
       "  color: #000000;\n",
       "}\n",
       "#T_91214_row6_col0 {\n",
       "  background-color: #d3e4f3;\n",
       "  color: #000000;\n",
       "}\n",
       "#T_91214_row6_col1 {\n",
       "  background-color: #a9cfe5;\n",
       "  color: #000000;\n",
       "}\n",
       "#T_91214_row7_col0 {\n",
       "  background-color: #d5e5f4;\n",
       "  color: #000000;\n",
       "}\n",
       "#T_91214_row7_col1 {\n",
       "  background-color: #aed1e7;\n",
       "  color: #000000;\n",
       "}\n",
       "#T_91214_row8_col0 {\n",
       "  background-color: #d7e6f5;\n",
       "  color: #000000;\n",
       "}\n",
       "#T_91214_row8_col1 {\n",
       "  background-color: #b7d4ea;\n",
       "  color: #000000;\n",
       "}\n",
       "#T_91214_row9_col0, #T_91214_row10_col0 {\n",
       "  background-color: #dae8f6;\n",
       "  color: #000000;\n",
       "}\n",
       "#T_91214_row9_col1, #T_91214_row10_col1 {\n",
       "  background-color: #bed8ec;\n",
       "  color: #000000;\n",
       "}\n",
       "#T_91214_row11_col0 {\n",
       "  background-color: #dbe9f6;\n",
       "  color: #000000;\n",
       "}\n",
       "#T_91214_row11_col1 {\n",
       "  background-color: #c1d9ed;\n",
       "  color: #000000;\n",
       "}\n",
       "#T_91214_row12_col0 {\n",
       "  background-color: #eff6fc;\n",
       "  color: #000000;\n",
       "}\n",
       "#T_91214_row12_col1 {\n",
       "  background-color: #dfecf7;\n",
       "  color: #000000;\n",
       "}\n",
       "#T_91214_row12_col2 {\n",
       "  background-color: #e2edf8;\n",
       "  color: #000000;\n",
       "}\n",
       "#T_91214_row13_col0 {\n",
       "  background-color: #eaf3fb;\n",
       "  color: #000000;\n",
       "}\n",
       "#T_91214_row13_col1 {\n",
       "  background-color: #e0ecf8;\n",
       "  color: #000000;\n",
       "}\n",
       "#T_91214_row14_col0 {\n",
       "  background-color: #2979b9;\n",
       "  color: #f1f1f1;\n",
       "}\n",
       "#T_91214_row14_col1 {\n",
       "  background-color: #e3eef9;\n",
       "  color: #000000;\n",
       "}\n",
       "#T_91214_row15_col1 {\n",
       "  background-color: #e6f0f9;\n",
       "  color: #000000;\n",
       "}\n",
       "#T_91214_row16_col1 {\n",
       "  background-color: #e7f0fa;\n",
       "  color: #000000;\n",
       "}\n",
       "#T_91214_row17_col0 {\n",
       "  background-color: #f3f8fe;\n",
       "  color: #000000;\n",
       "}\n",
       "#T_91214_row17_col1 {\n",
       "  background-color: #f1f7fd;\n",
       "  color: #000000;\n",
       "}\n",
       "</style>\n",
       "<table id=\"T_91214\">\n",
       "  <thead>\n",
       "    <tr>\n",
       "      <th class=\"blank level0\" >&nbsp;</th>\n",
       "      <th id=\"T_91214_level0_col0\" class=\"col_heading level0 col0\" >sum</th>\n",
       "      <th id=\"T_91214_level0_col1\" class=\"col_heading level0 col1\" >mean</th>\n",
       "      <th id=\"T_91214_level0_col2\" class=\"col_heading level0 col2\" >count</th>\n",
       "    </tr>\n",
       "    <tr>\n",
       "      <th class=\"index_name level0\" >NAICSDSCR</th>\n",
       "      <th class=\"blank col0\" >&nbsp;</th>\n",
       "      <th class=\"blank col1\" >&nbsp;</th>\n",
       "      <th class=\"blank col2\" >&nbsp;</th>\n",
       "    </tr>\n",
       "  </thead>\n",
       "  <tbody>\n",
       "    <tr>\n",
       "      <th id=\"T_91214_level0_row0\" class=\"row_heading level0 row0\" >Health Care and Social Assistance</th>\n",
       "      <td id=\"T_91214_row0_col0\" class=\"data row0 col0\" >5163631922</td>\n",
       "      <td id=\"T_91214_row0_col1\" class=\"data row0 col1\" >11033401.542735</td>\n",
       "      <td id=\"T_91214_row0_col2\" class=\"data row0 col2\" >468</td>\n",
       "    </tr>\n",
       "    <tr>\n",
       "      <th id=\"T_91214_level0_row1\" class=\"row_heading level0 row1\" >Professional, Scientific, and Technical Services</th>\n",
       "      <td id=\"T_91214_row1_col0\" class=\"data row1 col0\" >8620412636</td>\n",
       "      <td id=\"T_91214_row1_col1\" class=\"data row1 col1\" >9209842.559829</td>\n",
       "      <td id=\"T_91214_row1_col2\" class=\"data row1 col2\" >936</td>\n",
       "    </tr>\n",
       "    <tr>\n",
       "      <th id=\"T_91214_level0_row2\" class=\"row_heading level0 row2\" >Manufacturing</th>\n",
       "      <td id=\"T_91214_row2_col0\" class=\"data row2 col0\" >3478824645</td>\n",
       "      <td id=\"T_91214_row2_col1\" class=\"data row2 col1\" >7449303.308351</td>\n",
       "      <td id=\"T_91214_row2_col2\" class=\"data row2 col2\" >467</td>\n",
       "    </tr>\n",
       "    <tr>\n",
       "      <th id=\"T_91214_level0_row3\" class=\"row_heading level0 row3\" >Finance and Insurance</th>\n",
       "      <td id=\"T_91214_row3_col0\" class=\"data row3 col0\" >3109391876</td>\n",
       "      <td id=\"T_91214_row3_col1\" class=\"data row3 col1\" >6643999.735043</td>\n",
       "      <td id=\"T_91214_row3_col2\" class=\"data row3 col2\" >468</td>\n",
       "    </tr>\n",
       "    <tr>\n",
       "      <th id=\"T_91214_level0_row4\" class=\"row_heading level0 row4\" >Hospitals</th>\n",
       "      <td id=\"T_91214_row4_col0\" class=\"data row4 col0\" >1609637032</td>\n",
       "      <td id=\"T_91214_row4_col1\" class=\"data row4 col1\" >6490471.903226</td>\n",
       "      <td id=\"T_91214_row4_col2\" class=\"data row4 col2\" >248</td>\n",
       "    </tr>\n",
       "    <tr>\n",
       "      <th id=\"T_91214_level0_row5\" class=\"row_heading level0 row5\" >General Medical and Surgical Hospitals</th>\n",
       "      <td id=\"T_91214_row5_col0\" class=\"data row5 col0\" >4446437313</td>\n",
       "      <td id=\"T_91214_row5_col1\" class=\"data row5 col1\" >6333956.286325</td>\n",
       "      <td id=\"T_91214_row5_col2\" class=\"data row5 col2\" >702</td>\n",
       "    </tr>\n",
       "    <tr>\n",
       "      <th id=\"T_91214_level0_row6\" class=\"row_heading level0 row6\" >Construction</th>\n",
       "      <td id=\"T_91214_row6_col0\" class=\"data row6 col0\" >2607475922</td>\n",
       "      <td id=\"T_91214_row6_col1\" class=\"data row6 col1\" >5571529.747863</td>\n",
       "      <td id=\"T_91214_row6_col2\" class=\"data row6 col2\" >468</td>\n",
       "    </tr>\n",
       "    <tr>\n",
       "      <th id=\"T_91214_level0_row7\" class=\"row_heading level0 row7\" >Ambulatory Health Care Services</th>\n",
       "      <td id=\"T_91214_row7_col0\" class=\"data row7 col0\" >2550946254</td>\n",
       "      <td id=\"T_91214_row7_col1\" class=\"data row7 col1\" >5450739.858974</td>\n",
       "      <td id=\"T_91214_row7_col2\" class=\"data row7 col2\" >468</td>\n",
       "    </tr>\n",
       "    <tr>\n",
       "      <th id=\"T_91214_level0_row8\" class=\"row_heading level0 row8\" >Administrative and Support and Waste Management and Remediation Services</th>\n",
       "      <td id=\"T_91214_row8_col0\" class=\"data row8 col0\" >2441245314</td>\n",
       "      <td id=\"T_91214_row8_col1\" class=\"data row8 col1\" >5216336.141026</td>\n",
       "      <td id=\"T_91214_row8_col2\" class=\"data row8 col2\" >468</td>\n",
       "    </tr>\n",
       "    <tr>\n",
       "      <th id=\"T_91214_level0_row9\" class=\"row_heading level0 row9\" >Wholesale Trade</th>\n",
       "      <td id=\"T_91214_row9_col0\" class=\"data row9 col0\" >2350133014</td>\n",
       "      <td id=\"T_91214_row9_col1\" class=\"data row9 col1\" >5021651.739316</td>\n",
       "      <td id=\"T_91214_row9_col2\" class=\"data row9 col2\" >468</td>\n",
       "    </tr>\n",
       "    <tr>\n",
       "      <th id=\"T_91214_level0_row10\" class=\"row_heading level0 row10\" >Retail Trade</th>\n",
       "      <td id=\"T_91214_row10_col0\" class=\"data row10 col0\" >2349594222</td>\n",
       "      <td id=\"T_91214_row10_col1\" class=\"data row10 col1\" >5020500.474359</td>\n",
       "      <td id=\"T_91214_row10_col2\" class=\"data row10 col2\" >468</td>\n",
       "    </tr>\n",
       "    <tr>\n",
       "      <th id=\"T_91214_level0_row11\" class=\"row_heading level0 row11\" >Administrative and Support Services</th>\n",
       "      <td id=\"T_91214_row11_col0\" class=\"data row11 col0\" >2310936554</td>\n",
       "      <td id=\"T_91214_row11_col1\" class=\"data row11 col1\" >4937898.619658</td>\n",
       "      <td id=\"T_91214_row11_col2\" class=\"data row11 col2\" >468</td>\n",
       "    </tr>\n",
       "    <tr>\n",
       "      <th id=\"T_91214_level0_row12\" class=\"row_heading level0 row12\" >Corporate, Subsidiary, and Regional Managing Offices</th>\n",
       "      <td id=\"T_91214_row12_col0\" class=\"data row12 col0\" >1577241482</td>\n",
       "      <td id=\"T_91214_row12_col1\" class=\"data row12 col1\" >3728703.267139</td>\n",
       "      <td id=\"T_91214_row12_col2\" class=\"data row12 col2\" >423</td>\n",
       "    </tr>\n",
       "    <tr>\n",
       "      <th id=\"T_91214_level0_row13\" class=\"row_heading level0 row13\" >Information</th>\n",
       "      <td id=\"T_91214_row13_col0\" class=\"data row13 col0\" >1729969352</td>\n",
       "      <td id=\"T_91214_row13_col1\" class=\"data row13 col1\" >3696515.709402</td>\n",
       "      <td id=\"T_91214_row13_col2\" class=\"data row13 col2\" >468</td>\n",
       "    </tr>\n",
       "    <tr>\n",
       "      <th id=\"T_91214_level0_row14\" class=\"row_heading level0 row14\" >Management of Companies and Enterprises</th>\n",
       "      <td id=\"T_91214_row14_col0\" class=\"data row14 col0\" >6565522672</td>\n",
       "      <td id=\"T_91214_row14_col1\" class=\"data row14 col1\" >3545098.634989</td>\n",
       "      <td id=\"T_91214_row14_col2\" class=\"data row14 col2\" >1852</td>\n",
       "    </tr>\n",
       "    <tr>\n",
       "      <th id=\"T_91214_level0_row15\" class=\"row_heading level0 row15\" >Specialty Trade Contractors</th>\n",
       "      <td id=\"T_91214_row15_col0\" class=\"data row15 col0\" >1621274164</td>\n",
       "      <td id=\"T_91214_row15_col1\" class=\"data row15 col1\" >3464261.034188</td>\n",
       "      <td id=\"T_91214_row15_col2\" class=\"data row15 col2\" >468</td>\n",
       "    </tr>\n",
       "    <tr>\n",
       "      <th id=\"T_91214_level0_row16\" class=\"row_heading level0 row16\" >Accommodation and Food Services</th>\n",
       "      <td id=\"T_91214_row16_col0\" class=\"data row16 col0\" >1599768726</td>\n",
       "      <td id=\"T_91214_row16_col1\" class=\"data row16 col1\" >3418309.243590</td>\n",
       "      <td id=\"T_91214_row16_col2\" class=\"data row16 col2\" >468</td>\n",
       "    </tr>\n",
       "    <tr>\n",
       "      <th id=\"T_91214_level0_row17\" class=\"row_heading level0 row17\" >Merchant Wholesalers, Durable Goods</th>\n",
       "      <td id=\"T_91214_row17_col0\" class=\"data row17 col0\" >1410667510</td>\n",
       "      <td id=\"T_91214_row17_col1\" class=\"data row17 col1\" >3014246.816239</td>\n",
       "      <td id=\"T_91214_row17_col2\" class=\"data row17 col2\" >468</td>\n",
       "    </tr>\n",
       "    <tr>\n",
       "      <th id=\"T_91214_level0_row18\" class=\"row_heading level0 row18\" >Food Services and Drinking Places</th>\n",
       "      <td id=\"T_91214_row18_col0\" class=\"data row18 col0\" >1280041354</td>\n",
       "      <td id=\"T_91214_row18_col1\" class=\"data row18 col1\" >2735131.098291</td>\n",
       "      <td id=\"T_91214_row18_col2\" class=\"data row18 col2\" >468</td>\n",
       "    </tr>\n",
       "    <tr>\n",
       "      <th id=\"T_91214_level0_row19\" class=\"row_heading level0 row19\" >Employment Services</th>\n",
       "      <td id=\"T_91214_row19_col0\" class=\"data row19 col0\" >1261314202</td>\n",
       "      <td id=\"T_91214_row19_col1\" class=\"data row19 col1\" >2730117.320346</td>\n",
       "      <td id=\"T_91214_row19_col2\" class=\"data row19 col2\" >462</td>\n",
       "    </tr>\n",
       "  </tbody>\n",
       "</table>\n"
      ],
      "text/plain": [
       "<pandas.io.formats.style.Styler at 0x1e1e1be7fa0>"
      ]
     },
     "execution_count": 29,
     "metadata": {},
     "output_type": "execute_result"
    }
   ],
   "source": [
    "# Categorizing the payroll numbers (PAYR) by the description of the \n",
    "# North American Industry Classification System (NAICS) codes.\n",
    "pay = df['PAYR'].groupby(df['NAICSDSCR']).agg(['sum', 'mean', 'count']).sort_values(by=['mean'], ascending=False)\n",
    "# Top 20 industry classifications with the highest mean payroll\n",
    "pay[:20].style.background_gradient(cmap = 'Blues')"
   ]
  },
  {
   "cell_type": "markdown",
   "metadata": {},
   "source": [
    "Here are some key observations and insights from this data:\n",
    "\n",
    "1. Dominance of Health and Professional Services:\n",
    "   - The industries \"Health Care and Social Assistance\" and \"Professional, Scientific, and Technical Services\" not only lead in total payroll, but also boast substantial average payrolls. This suggests that businesses within these sectors, on average, have significant financial allocations for their employees, indicating lucrative professions or a high number of employees.\n",
    "   \n",
    "2. Significance of Manufacturing and Financial Sectors:\n",
    "   - Both \"Manufacturing\" and \"Finance and Insurance\" sectors have strong payrolls, reflecting the economic weight and importance of these sectors in the marketplace.\n",
    "\n",
    "3. Granularity in Health Sector:\n",
    "   - The data provides a breakdown within the health sector with distinctions like \"Hospitals\" and \"General Medical and Surgical Hospitals\". This offers a deeper view into which specific sub-sectors might be driving the high payroll values for the overarching \"Health Care and Social Assistance\" category.\n",
    "\n",
    "4. Broad Economic Players:\n",
    "   - \"Construction\", \"Wholesale Trade\", and \"Retail Trade\" are vital components of any large economy and their presence in this list solidifies their role as major employers with considerable payrolls.\n",
    "\n",
    "5. Service Sector's Role:\n",
    "   - Categories like \"Administrative and Support Services\" and \"Accommodation and Food Services\" represent the service sector's significant role in employment and economic activity.\n",
    "\n",
    "6. Variability in Count:\n",
    "   - The 'count' column indicates the number of data entries for each industry. For instance, \"Management of Companies and Enterprises\" has 1852 entries but its mean payroll is not the highest. This suggests that while it's a broad category with many firms, the average financial allocation per firm for payroll might not be as high as in more specialized sectors.\n",
    "\n",
    "    In summary, these findings spotlight industries that allocate considerable financial resources for their employees, either due to the nature of jobs requiring specialized skills, or due to the sheer volume of employees in those sectors. "
   ]
  },
  {
   "cell_type": "code",
   "execution_count": 30,
   "metadata": {},
   "outputs": [
    {
     "data": {
      "text/plain": [
       "1381"
      ]
     },
     "execution_count": 30,
     "metadata": {},
     "output_type": "execute_result"
    }
   ],
   "source": [
    "len(pay)"
   ]
  },
  {
   "cell_type": "markdown",
   "metadata": {},
   "source": [
    "### Curious about the number of times an Industry Code (NAICSDSCR) appears\n",
    "\n",
    "Not sure if the top 20 based on the mean or sum is best way to find the industries have the highest number of employees, or are paying the most. Let us try Industry codes that appear atleast 500 times."
   ]
  },
  {
   "cell_type": "code",
   "execution_count": 31,
   "metadata": {},
   "outputs": [
    {
     "data": {
      "text/html": [
       "<style type=\"text/css\">\n",
       "#T_cc5d1_row0_col0, #T_cc5d1_row0_col1, #T_cc5d1_row3_col2 {\n",
       "  background-color: #08306b;\n",
       "  color: #f1f1f1;\n",
       "}\n",
       "#T_cc5d1_row0_col2, #T_cc5d1_row1_col2, #T_cc5d1_row4_col2 {\n",
       "  background-color: #cfe1f2;\n",
       "  color: #000000;\n",
       "}\n",
       "#T_cc5d1_row1_col0 {\n",
       "  background-color: #2171b5;\n",
       "  color: #f1f1f1;\n",
       "}\n",
       "#T_cc5d1_row1_col1 {\n",
       "  background-color: #1d6cb1;\n",
       "  color: #f1f1f1;\n",
       "}\n",
       "#T_cc5d1_row2_col0 {\n",
       "  background-color: #a8cee4;\n",
       "  color: #000000;\n",
       "}\n",
       "#T_cc5d1_row2_col1 {\n",
       "  background-color: #3e8ec4;\n",
       "  color: #f1f1f1;\n",
       "}\n",
       "#T_cc5d1_row2_col2, #T_cc5d1_row3_col1, #T_cc5d1_row4_col0 {\n",
       "  background-color: #f7fbff;\n",
       "  color: #000000;\n",
       "}\n",
       "#T_cc5d1_row3_col0 {\n",
       "  background-color: #c7dbef;\n",
       "  color: #000000;\n",
       "}\n",
       "#T_cc5d1_row4_col1 {\n",
       "  background-color: #e7f1fa;\n",
       "  color: #000000;\n",
       "}\n",
       "</style>\n",
       "<table id=\"T_cc5d1\">\n",
       "  <thead>\n",
       "    <tr>\n",
       "      <th class=\"blank level0\" >&nbsp;</th>\n",
       "      <th id=\"T_cc5d1_level0_col0\" class=\"col_heading level0 col0\" >sum</th>\n",
       "      <th id=\"T_cc5d1_level0_col1\" class=\"col_heading level0 col1\" >mean</th>\n",
       "      <th id=\"T_cc5d1_level0_col2\" class=\"col_heading level0 col2\" >count</th>\n",
       "    </tr>\n",
       "    <tr>\n",
       "      <th class=\"index_name level0\" >NAICSDSCR</th>\n",
       "      <th class=\"blank col0\" >&nbsp;</th>\n",
       "      <th class=\"blank col1\" >&nbsp;</th>\n",
       "      <th class=\"blank col2\" >&nbsp;</th>\n",
       "    </tr>\n",
       "  </thead>\n",
       "  <tbody>\n",
       "    <tr>\n",
       "      <th id=\"T_cc5d1_level0_row0\" class=\"row_heading level0 row0\" >Restaurants and Other Eating Places</th>\n",
       "      <td id=\"T_cc5d1_row0_col0\" class=\"data row0 col0\" >125320272</td>\n",
       "      <td id=\"T_cc5d1_row0_col1\" class=\"data row0 col1\" >133889.179487</td>\n",
       "      <td id=\"T_cc5d1_row0_col2\" class=\"data row0 col2\" >936</td>\n",
       "    </tr>\n",
       "    <tr>\n",
       "      <th id=\"T_cc5d1_level0_row1\" class=\"row_heading level0 row1\" >Professional, Scientific, and Technical Services</th>\n",
       "      <td id=\"T_cc5d1_row1_col0\" class=\"data row1 col0\" >103174620</td>\n",
       "      <td id=\"T_cc5d1_row1_col1\" class=\"data row1 col1\" >110229.294872</td>\n",
       "      <td id=\"T_cc5d1_row1_col2\" class=\"data row1 col2\" >936</td>\n",
       "    </tr>\n",
       "    <tr>\n",
       "      <th id=\"T_cc5d1_level0_row2\" class=\"row_heading level0 row2\" >General Medical and Surgical Hospitals</th>\n",
       "      <td id=\"T_cc5d1_row2_col0\" class=\"data row2 col0\" >68305548</td>\n",
       "      <td id=\"T_cc5d1_row2_col1\" class=\"data row2 col1\" >97301.350427</td>\n",
       "      <td id=\"T_cc5d1_row2_col2\" class=\"data row2 col2\" >702</td>\n",
       "    </tr>\n",
       "    <tr>\n",
       "      <th id=\"T_cc5d1_level0_row3\" class=\"row_heading level0 row3\" >Management of Companies and Enterprises</th>\n",
       "      <td id=\"T_cc5d1_row3_col0\" class=\"data row3 col0\" >59720432</td>\n",
       "      <td id=\"T_cc5d1_row3_col1\" class=\"data row3 col1\" >32246.453564</td>\n",
       "      <td id=\"T_cc5d1_row3_col2\" class=\"data row3 col2\" >1852</td>\n",
       "    </tr>\n",
       "    <tr>\n",
       "      <th id=\"T_cc5d1_level0_row4\" class=\"row_heading level0 row4\" >Educational Services</th>\n",
       "      <td id=\"T_cc5d1_row4_col0\" class=\"data row4 col0\" >37964164</td>\n",
       "      <td id=\"T_cc5d1_row4_col1\" class=\"data row4 col1\" >40560.004274</td>\n",
       "      <td id=\"T_cc5d1_row4_col2\" class=\"data row4 col2\" >936</td>\n",
       "    </tr>\n",
       "  </tbody>\n",
       "</table>\n"
      ],
      "text/plain": [
       "<pandas.io.formats.style.Styler at 0x1e1e1be6a10>"
      ]
     },
     "execution_count": 31,
     "metadata": {},
     "output_type": "execute_result"
    }
   ],
   "source": [
    "# Filter industries with count > 500\n",
    "filtered_employees = employees[employees['count'] > 500].sort_values(by=['sum'], ascending=False)\n",
    "\n",
    "# Display the top 10 industry classifications with the highest total employment after filtering\n",
    "top_5_emp = filtered_employees[:5].style.background_gradient(cmap='Blues')\n",
    "top_5_emp"
   ]
  },
  {
   "cell_type": "markdown",
   "metadata": {},
   "source": [
    "\"Restaurants and Other Eating Places\" emerges as the top employer with over 125 million employees. Close behind are the \"Professional, Scientific, and Technical Services\" with over 103 million employees. The \"General Medical and Surgical Hospitals\" sector, vital for public health, employs over 68 million people. The \"Management of Companies and Enterprises\" sector, likely consisting of diverse business structures, has nearly 60 million employees. Lastly, the \"Educational Services\", pivotal for talent development, employ approximately 38 million. These figures highlight the industries' significance in the economy, emphasizing their role as major employment drivers."
   ]
  },
  {
   "cell_type": "code",
   "execution_count": 32,
   "metadata": {},
   "outputs": [
    {
     "data": {
      "text/html": [
       "<style type=\"text/css\">\n",
       "#T_1a9ab_row0_col0, #T_1a9ab_row0_col1, #T_1a9ab_row2_col2 {\n",
       "  background-color: #08306b;\n",
       "  color: #f1f1f1;\n",
       "}\n",
       "#T_1a9ab_row0_col2, #T_1a9ab_row4_col2 {\n",
       "  background-color: #cfe1f2;\n",
       "  color: #000000;\n",
       "}\n",
       "#T_1a9ab_row1_col0 {\n",
       "  background-color: #a9cfe5;\n",
       "  color: #000000;\n",
       "}\n",
       "#T_1a9ab_row1_col1 {\n",
       "  background-color: #529dcc;\n",
       "  color: #f1f1f1;\n",
       "}\n",
       "#T_1a9ab_row1_col2, #T_1a9ab_row4_col0, #T_1a9ab_row4_col1 {\n",
       "  background-color: #f7fbff;\n",
       "  color: #000000;\n",
       "}\n",
       "#T_1a9ab_row2_col0 {\n",
       "  background-color: #3484bf;\n",
       "  color: #f1f1f1;\n",
       "}\n",
       "#T_1a9ab_row2_col1 {\n",
       "  background-color: #d7e6f5;\n",
       "  color: #000000;\n",
       "}\n",
       "#T_1a9ab_row3_col0 {\n",
       "  background-color: #f2f7fd;\n",
       "  color: #000000;\n",
       "}\n",
       "#T_1a9ab_row3_col1 {\n",
       "  background-color: #f1f7fd;\n",
       "  color: #000000;\n",
       "}\n",
       "#T_1a9ab_row3_col2 {\n",
       "  background-color: #d0e1f2;\n",
       "  color: #000000;\n",
       "}\n",
       "</style>\n",
       "<table id=\"T_1a9ab\">\n",
       "  <thead>\n",
       "    <tr>\n",
       "      <th class=\"blank level0\" >&nbsp;</th>\n",
       "      <th id=\"T_1a9ab_level0_col0\" class=\"col_heading level0 col0\" >sum</th>\n",
       "      <th id=\"T_1a9ab_level0_col1\" class=\"col_heading level0 col1\" >mean</th>\n",
       "      <th id=\"T_1a9ab_level0_col2\" class=\"col_heading level0 col2\" >count</th>\n",
       "    </tr>\n",
       "    <tr>\n",
       "      <th class=\"index_name level0\" >NAICSDSCR</th>\n",
       "      <th class=\"blank col0\" >&nbsp;</th>\n",
       "      <th class=\"blank col1\" >&nbsp;</th>\n",
       "      <th class=\"blank col2\" >&nbsp;</th>\n",
       "    </tr>\n",
       "  </thead>\n",
       "  <tbody>\n",
       "    <tr>\n",
       "      <th id=\"T_1a9ab_level0_row0\" class=\"row_heading level0 row0\" >Professional, Scientific, and Technical Services</th>\n",
       "      <td id=\"T_1a9ab_row0_col0\" class=\"data row0 col0\" >8620412636</td>\n",
       "      <td id=\"T_1a9ab_row0_col1\" class=\"data row0 col1\" >9209842.559829</td>\n",
       "      <td id=\"T_1a9ab_row0_col2\" class=\"data row0 col2\" >936</td>\n",
       "    </tr>\n",
       "    <tr>\n",
       "      <th id=\"T_1a9ab_level0_row1\" class=\"row_heading level0 row1\" >General Medical and Surgical Hospitals</th>\n",
       "      <td id=\"T_1a9ab_row1_col0\" class=\"data row1 col0\" >4446437313</td>\n",
       "      <td id=\"T_1a9ab_row1_col1\" class=\"data row1 col1\" >6333956.286325</td>\n",
       "      <td id=\"T_1a9ab_row1_col2\" class=\"data row1 col2\" >702</td>\n",
       "    </tr>\n",
       "    <tr>\n",
       "      <th id=\"T_1a9ab_level0_row2\" class=\"row_heading level0 row2\" >Management of Companies and Enterprises</th>\n",
       "      <td id=\"T_1a9ab_row2_col0\" class=\"data row2 col0\" >6565522672</td>\n",
       "      <td id=\"T_1a9ab_row2_col1\" class=\"data row2 col1\" >3545098.634989</td>\n",
       "      <td id=\"T_1a9ab_row2_col2\" class=\"data row2 col2\" >1852</td>\n",
       "    </tr>\n",
       "    <tr>\n",
       "      <th id=\"T_1a9ab_level0_row3\" class=\"row_heading level0 row3\" >Offices of Physicians</th>\n",
       "      <td id=\"T_1a9ab_row3_col0\" class=\"data row3 col0\" >2475083694</td>\n",
       "      <td id=\"T_1a9ab_row3_col1\" class=\"data row3 col1\" >2655669.199571</td>\n",
       "      <td id=\"T_1a9ab_row3_col2\" class=\"data row3 col2\" >932</td>\n",
       "    </tr>\n",
       "    <tr>\n",
       "      <th id=\"T_1a9ab_level0_row4\" class=\"row_heading level0 row4\" >Restaurants and Other Eating Places</th>\n",
       "      <td id=\"T_1a9ab_row4_col0\" class=\"data row4 col0\" >2281590636</td>\n",
       "      <td id=\"T_1a9ab_row4_col1\" class=\"data row4 col1\" >2437596.833333</td>\n",
       "      <td id=\"T_1a9ab_row4_col2\" class=\"data row4 col2\" >936</td>\n",
       "    </tr>\n",
       "  </tbody>\n",
       "</table>\n"
      ],
      "text/plain": [
       "<pandas.io.formats.style.Styler at 0x1e1800cda50>"
      ]
     },
     "execution_count": 32,
     "metadata": {},
     "output_type": "execute_result"
    }
   ],
   "source": [
    "# Filter industries with count > 500\n",
    "filtered_pay = pay[pay['count'] > 500].sort_values(by=['mean'], ascending=False)\n",
    "\n",
    "# Display the top 10 industry classifications with the highest total employment after filtering\n",
    "top_5_pay = filtered_pay[:5].style.background_gradient(cmap='Blues')\n",
    "top_5_pay"
   ]
  },
  {
   "cell_type": "markdown",
   "metadata": {},
   "source": [
    "The payroll data showcases the significant economic contributions of various industry sectors. Notably, the 'Professional, Scientific, and Technical Services' sector leads with a substantial total payroll and a high mean value, underscoring its financial strength and perhaps higher average wages. The 'General Medical and Surgical Hospitals' sector, while having a lesser total payroll, also boasts a substantial mean value. Interestingly, despite the 'Management of Companies and Enterprises' sector's immense total payroll, its average is considerably lower, hinting at a vast number of entities within. The data highlights the contrasting economic dynamics between sectors, revealing areas of both dense investment and potential employment opportunities."
   ]
  },
  {
   "cell_type": "markdown",
   "metadata": {},
   "source": [
    "### Average Payroll \n",
    "Compute the Average payroll per employee for each industry"
   ]
  },
  {
   "cell_type": "code",
   "execution_count": 33,
   "metadata": {},
   "outputs": [
    {
     "data": {
      "text/plain": [
       "NAICSDSCR\n",
       "Aircraft Manufacturing                      363.81\n",
       "General Medical and Surgical Hospitals      223.36\n",
       "Hospitals                                   222.86\n",
       "Securities and Commodity Exchanges          218.00\n",
       "Pipeline Transportation of Natural Gas      216.29\n",
       "Investment Banking and Securities Dealing   186.65\n",
       "Reinsurance Carriers                        172.15\n",
       "Other Depository Credit Intermediation      168.50\n",
       "Industrial Sand Mining                      162.60\n",
       "International Trade Financing               161.70\n",
       "Name: Payroll_per_Employee, dtype: float64"
      ]
     },
     "execution_count": 33,
     "metadata": {},
     "output_type": "execute_result"
    }
   ],
   "source": [
    "df['Payroll_per_Employee'] = df['PAYR'] / df['EMPL']\n",
    "\n",
    "# Group by industry description and aggregate to get the mean payroll per employee\n",
    "industry_payroll = df.groupby('NAICSDSCR')['Payroll_per_Employee'].mean()\n",
    "\n",
    "# Sort the industries based on average payroll per employee in descending order\n",
    "sorted_industry_payroll = industry_payroll.sort_values(ascending=False)\n",
    "\n",
    "# Display the results (you can use head() to view the top industries)\n",
    "sorted_industry_payroll.head(10)\n"
   ]
  },
  {
   "cell_type": "code",
   "execution_count": 34,
   "metadata": {},
   "outputs": [
    {
     "data": {
      "text/plain": [
       "<Figure size 1200x700 with 0 Axes>"
      ]
     },
     "execution_count": 34,
     "metadata": {},
     "output_type": "execute_result"
    },
    {
     "data": {
      "text/plain": [
       "<Axes: xlabel='NAICSDSCR'>"
      ]
     },
     "execution_count": 34,
     "metadata": {},
     "output_type": "execute_result"
    },
    {
     "data": {
      "text/plain": [
       "Text(0.5, 1.0, 'Top 10 Industries by Average Payroll per Employee')"
      ]
     },
     "execution_count": 34,
     "metadata": {},
     "output_type": "execute_result"
    },
    {
     "data": {
      "text/plain": [
       "Text(0, 0.5, 'Average Payroll per Employee ($)')"
      ]
     },
     "execution_count": 34,
     "metadata": {},
     "output_type": "execute_result"
    },
    {
     "data": {
      "text/plain": [
       "Text(0.5, 0, 'Industry')"
      ]
     },
     "execution_count": 34,
     "metadata": {},
     "output_type": "execute_result"
    },
    {
     "data": {
      "text/plain": [
       "(array([0, 1, 2, 3, 4, 5, 6, 7, 8, 9]),\n",
       " [Text(0, 0, 'Aircraft Manufacturing'),\n",
       "  Text(1, 0, 'General Medical and Surgical Hospitals'),\n",
       "  Text(2, 0, 'Hospitals'),\n",
       "  Text(3, 0, 'Securities and Commodity Exchanges'),\n",
       "  Text(4, 0, 'Pipeline Transportation of Natural Gas'),\n",
       "  Text(5, 0, 'Investment Banking and Securities Dealing'),\n",
       "  Text(6, 0, 'Reinsurance Carriers'),\n",
       "  Text(7, 0, 'Other Depository Credit Intermediation'),\n",
       "  Text(8, 0, 'Industrial Sand Mining'),\n",
       "  Text(9, 0, 'International Trade Financing')])"
      ]
     },
     "execution_count": 34,
     "metadata": {},
     "output_type": "execute_result"
    },
    {
     "data": {
      "image/png": "[encoded data removed]",
      "text/plain": [
       "<Figure size 1200x700 with 1 Axes>"
      ]
     },
     "metadata": {},
     "output_type": "display_data"
    }
   ],
   "source": [
    "top_10_payroll = sorted_industry_payroll.head(10)\n",
    "\n",
    "# Plotting\n",
    "plt.figure(figsize=(12, 7))\n",
    "top_10_payroll.plot(kind='bar', color='lightseagreen')\n",
    "plt.title('Top 10 Industries by Average Payroll per Employee')\n",
    "plt.ylabel('Average Payroll per Employee ($)')\n",
    "plt.xlabel('Industry')\n",
    "plt.xticks(rotation=45, ha='right')\n",
    "plt.tight_layout()\n",
    "plt.show()\n"
   ]
  },
  {
   "cell_type": "markdown",
   "metadata": {},
   "source": [
    "The industry with the highest average payroll per employee is \"Aircraft Manufacturing\" with a notable value of 363.81, suggesting that roles within this industry are highly specialized and perhaps require technical expertise. \"General Medical and Surgical Hospitals\" and \"Hospitals\" follow closely, with figures around the 223 mark, reflecting the specialized skills and rigorous training often required in the medical field. Financial sectors, including \"Securities and Commodity Exchanges,\" \"Pipeline Transportation of Natural Gas,\" and \"Investment Banking and Securities Dealing,\" also feature prominently in the top ten, pointing to the lucrative nature of these industries. Interestingly, \"Industrial Sand Mining\" and \"International Trade Financing\" also make the list, showcasing the diverse range of industries where employees can expect higher-than-average compensation."
   ]
  },
  {
   "cell_type": "markdown",
   "metadata": {},
   "source": [
    "### Firm Size Analysis\n",
    "Exploring the distribution of firm sizes"
   ]
  },
  {
   "cell_type": "code",
   "execution_count": 35,
   "metadata": {},
   "outputs": [
    {
     "name": "stdout",
     "output_type": "stream",
     "text": [
      "Large     239306\n",
      "Medium    232975\n",
      "Small      95728\n",
      "Name: Firm_Size, dtype: int64\n"
     ]
    },
    {
     "data": {
      "text/plain": [
       "<Axes: >"
      ]
     },
     "execution_count": 35,
     "metadata": {},
     "output_type": "execute_result"
    },
    {
     "data": {
      "text/plain": [
       "Text(0.5, 1.0, 'Firm Size Distribution')"
      ]
     },
     "execution_count": 35,
     "metadata": {},
     "output_type": "execute_result"
    },
    {
     "data": {
      "text/plain": [
       "Text(0, 0.5, 'Number of Firms')"
      ]
     },
     "execution_count": 35,
     "metadata": {},
     "output_type": "execute_result"
    },
    {
     "data": {
      "text/plain": [
       "Text(0.5, 0, 'Firm Size')"
      ]
     },
     "execution_count": 35,
     "metadata": {},
     "output_type": "execute_result"
    },
    {
     "data": {
      "image/png": "[encoded data removed]",
      "text/plain": [
       "<Figure size 640x480 with 1 Axes>"
      ]
     },
     "metadata": {},
     "output_type": "display_data"
    }
   ],
   "source": [
    "# Create a new column 'Firm_Size' based on 'EMPL' column values\n",
    "df['Firm_Size'] = pd.cut(df['EMPL'],\n",
    "                         bins=[0, 49, 499, float('inf')],  # Setting upper bound to infinity for large firms\n",
    "                         labels=['Small', 'Medium', 'Large'])\n",
    "\n",
    "# Count the number of firms in each category\n",
    "firm_size_counts = df['Firm_Size'].value_counts()\n",
    "\n",
    "# Print the counts\n",
    "print(firm_size_counts)\n",
    "\n",
    "# Plotting a  bar chart:\n",
    "firm_size_counts.plot(kind='bar', color=['blue', 'green', 'red'])\n",
    "plt.title('Firm Size Distribution')\n",
    "plt.ylabel('Number of Firms')\n",
    "plt.xlabel('Firm Size')\n",
    "plt.show()\n"
   ]
  },
  {
   "cell_type": "markdown",
   "metadata": {},
   "source": [
    "The analysis of firm sizes reveals a distribution that offers insights into the landscape of businesses within the dataset. A majority of the firms are categorized as 'Large', with a total of 239,306 entities. This indicates that a substantial portion of businesses employ 500 or more individuals. Following closely behind are 'Medium' sized firms, which have an employee count ranging from 50 to 499, with a total of 232,975 firms. Interestingly, the 'Small' firms, those employing fewer than 50 individuals, are the least prevalent in the dataset, with a count of 95,728. This distribution suggests a business landscape where large and medium enterprises dominate over smaller entities."
   ]
  },
  {
   "cell_type": "markdown",
   "metadata": {},
   "source": [
    "### Location Based Analysis\n",
    "Analyzing the dataset based on location can provide insights into geographical distributions, economic activity hubs, and more. Here's a potential code for conducting a location-based analysis. Assuming you have a column \"Location\" or \"State\" in your dataset:"
   ]
  },
  {
   "cell_type": "code",
   "execution_count": 36,
   "metadata": {},
   "outputs": [
    {
     "data": {
      "text/plain": [
       "<Figure size 2000x1200 with 0 Axes>"
      ]
     },
     "execution_count": 36,
     "metadata": {},
     "output_type": "execute_result"
    },
    {
     "data": {
      "text/plain": [
       "<Axes: >"
      ]
     },
     "execution_count": 36,
     "metadata": {},
     "output_type": "execute_result"
    },
    {
     "data": {
      "text/plain": [
       "<Axes: xlabel='STATEDSCR', ylabel='FIRM'>"
      ]
     },
     "execution_count": 36,
     "metadata": {},
     "output_type": "execute_result"
    },
    {
     "data": {
      "text/plain": [
       "Text(0.5, 1.0, 'Number of Firms')"
      ]
     },
     "execution_count": 36,
     "metadata": {},
     "output_type": "execute_result"
    },
    {
     "data": {
      "text/plain": [
       "Text(0, 0.5, 'Number of Firms')"
      ]
     },
     "execution_count": 36,
     "metadata": {},
     "output_type": "execute_result"
    },
    {
     "data": {
      "text/plain": [
       "Text(0.5, 0, 'Location')"
      ]
     },
     "execution_count": 36,
     "metadata": {},
     "output_type": "execute_result"
    },
    {
     "data": {
      "text/plain": [
       "(array([0, 1, 2, 3, 4, 5, 6, 7, 8, 9]),\n",
       " [Text(0, 0, 'United States'),\n",
       "  Text(1, 0, 'California'),\n",
       "  Text(2, 0, 'Texas'),\n",
       "  Text(3, 0, 'New York'),\n",
       "  Text(4, 0, 'Florida'),\n",
       "  Text(5, 0, 'Illinois'),\n",
       "  Text(6, 0, 'Pennsylvania'),\n",
       "  Text(7, 0, 'Ohio'),\n",
       "  Text(8, 0, 'Michigan'),\n",
       "  Text(9, 0, 'Georgia')])"
      ]
     },
     "execution_count": 36,
     "metadata": {},
     "output_type": "execute_result"
    },
    {
     "data": {
      "text/plain": [
       "<Axes: >"
      ]
     },
     "execution_count": 36,
     "metadata": {},
     "output_type": "execute_result"
    },
    {
     "data": {
      "text/plain": [
       "<Axes: xlabel='STATEDSCR', ylabel='ESTB'>"
      ]
     },
     "execution_count": 36,
     "metadata": {},
     "output_type": "execute_result"
    },
    {
     "data": {
      "text/plain": [
       "Text(0.5, 1.0, 'Number of Establishments')"
      ]
     },
     "execution_count": 36,
     "metadata": {},
     "output_type": "execute_result"
    },
    {
     "data": {
      "text/plain": [
       "Text(0, 0.5, 'Number of Establishments')"
      ]
     },
     "execution_count": 36,
     "metadata": {},
     "output_type": "execute_result"
    },
    {
     "data": {
      "text/plain": [
       "Text(0.5, 0, 'Location')"
      ]
     },
     "execution_count": 36,
     "metadata": {},
     "output_type": "execute_result"
    },
    {
     "data": {
      "text/plain": [
       "(array([0, 1, 2, 3, 4, 5, 6, 7, 8, 9]),\n",
       " [Text(0, 0, 'United States'),\n",
       "  Text(1, 0, 'California'),\n",
       "  Text(2, 0, 'Texas'),\n",
       "  Text(3, 0, 'New York'),\n",
       "  Text(4, 0, 'Florida'),\n",
       "  Text(5, 0, 'Illinois'),\n",
       "  Text(6, 0, 'Pennsylvania'),\n",
       "  Text(7, 0, 'Ohio'),\n",
       "  Text(8, 0, 'Michigan'),\n",
       "  Text(9, 0, 'Georgia')])"
      ]
     },
     "execution_count": 36,
     "metadata": {},
     "output_type": "execute_result"
    },
    {
     "data": {
      "text/plain": [
       "<Axes: >"
      ]
     },
     "execution_count": 36,
     "metadata": {},
     "output_type": "execute_result"
    },
    {
     "data": {
      "text/plain": [
       "<Axes: xlabel='STATEDSCR', ylabel='EMPL'>"
      ]
     },
     "execution_count": 36,
     "metadata": {},
     "output_type": "execute_result"
    },
    {
     "data": {
      "text/plain": [
       "Text(0.5, 1.0, 'Number of Employees')"
      ]
     },
     "execution_count": 36,
     "metadata": {},
     "output_type": "execute_result"
    },
    {
     "data": {
      "text/plain": [
       "Text(0, 0.5, 'Number of Employees')"
      ]
     },
     "execution_count": 36,
     "metadata": {},
     "output_type": "execute_result"
    },
    {
     "data": {
      "text/plain": [
       "Text(0.5, 0, 'Location')"
      ]
     },
     "execution_count": 36,
     "metadata": {},
     "output_type": "execute_result"
    },
    {
     "data": {
      "text/plain": [
       "(array([0, 1, 2, 3, 4, 5, 6, 7, 8, 9]),\n",
       " [Text(0, 0, 'United States'),\n",
       "  Text(1, 0, 'California'),\n",
       "  Text(2, 0, 'Texas'),\n",
       "  Text(3, 0, 'New York'),\n",
       "  Text(4, 0, 'Florida'),\n",
       "  Text(5, 0, 'Illinois'),\n",
       "  Text(6, 0, 'Pennsylvania'),\n",
       "  Text(7, 0, 'Ohio'),\n",
       "  Text(8, 0, 'Michigan'),\n",
       "  Text(9, 0, 'Georgia')])"
      ]
     },
     "execution_count": 36,
     "metadata": {},
     "output_type": "execute_result"
    },
    {
     "data": {
      "text/plain": [
       "<Axes: >"
      ]
     },
     "execution_count": 36,
     "metadata": {},
     "output_type": "execute_result"
    },
    {
     "data": {
      "text/plain": [
       "<Axes: xlabel='STATEDSCR', ylabel='PAYR'>"
      ]
     },
     "execution_count": 36,
     "metadata": {},
     "output_type": "execute_result"
    },
    {
     "data": {
      "text/plain": [
       "Text(0.5, 1.0, 'Total Payroll')"
      ]
     },
     "execution_count": 36,
     "metadata": {},
     "output_type": "execute_result"
    },
    {
     "data": {
      "text/plain": [
       "Text(0, 0.5, 'Total Payroll')"
      ]
     },
     "execution_count": 36,
     "metadata": {},
     "output_type": "execute_result"
    },
    {
     "data": {
      "text/plain": [
       "Text(0.5, 0, 'Location')"
      ]
     },
     "execution_count": 36,
     "metadata": {},
     "output_type": "execute_result"
    },
    {
     "data": {
      "text/plain": [
       "(array([0, 1, 2, 3, 4, 5, 6, 7, 8, 9]),\n",
       " [Text(0, 0, 'United States'),\n",
       "  Text(1, 0, 'California'),\n",
       "  Text(2, 0, 'Texas'),\n",
       "  Text(3, 0, 'New York'),\n",
       "  Text(4, 0, 'Florida'),\n",
       "  Text(5, 0, 'Illinois'),\n",
       "  Text(6, 0, 'Pennsylvania'),\n",
       "  Text(7, 0, 'Ohio'),\n",
       "  Text(8, 0, 'Michigan'),\n",
       "  Text(9, 0, 'Georgia')])"
      ]
     },
     "execution_count": 36,
     "metadata": {},
     "output_type": "execute_result"
    },
    {
     "data": {
      "image/png": "[encoded data removed]",
      "text/plain": [
       "<Figure size 2000x1200 with 4 Axes>"
      ]
     },
     "metadata": {},
     "output_type": "display_data"
    }
   ],
   "source": [
    "# Grouping by location and aggregating the data\n",
    "location_data = df.groupby('STATEDSCR').agg({\n",
    "    'FIRM': 'sum',\n",
    "    'ESTB': 'sum',\n",
    "    'EMPL': 'sum',\n",
    "    'PAYR': 'sum'\n",
    "}).sort_values(by='EMPL', ascending=False)\n",
    "\n",
    "# Selecting top 10 locations\n",
    "top_10_locations = location_data.head(10)\n",
    "\n",
    "fields = ['FIRM', 'ESTB', 'EMPL', 'PAYR']\n",
    "titles = ['Number of Firms', 'Number of Establishments', 'Number of Employees', 'Total Payroll']\n",
    "\n",
    "plt.figure(figsize=(20, 12))\n",
    "\n",
    "# Looping through each field and generating a subplot\n",
    "for i, field in enumerate(fields):\n",
    "    plt.subplot(2, 2, i+1)\n",
    "    sns.barplot(x=top_10_locations.index, y=top_10_locations[field])\n",
    "    plt.title(titles[i])\n",
    "    plt.ylabel(titles[i])\n",
    "    plt.xlabel('Location')\n",
    "    plt.xticks(rotation=45)\n",
    "    plt.tight_layout()\n",
    "\n",
    "plt.show()"
   ]
  },
  {
   "cell_type": "code",
   "execution_count": 37,
   "metadata": {},
   "outputs": [
    {
     "data": {
      "text/html": [
       "<div>\n",
       "<style scoped>\n",
       "    .dataframe tbody tr th:only-of-type {\n",
       "        vertical-align: middle;\n",
       "    }\n",
       "\n",
       "    .dataframe tbody tr th {\n",
       "        vertical-align: top;\n",
       "    }\n",
       "\n",
       "    .dataframe thead th {\n",
       "        text-align: right;\n",
       "    }\n",
       "</style>\n",
       "<table border=\"1\" class=\"dataframe\">\n",
       "  <thead>\n",
       "    <tr style=\"text-align: right;\">\n",
       "      <th></th>\n",
       "      <th>FIRM</th>\n",
       "      <th>ESTB</th>\n",
       "      <th>EMPL</th>\n",
       "      <th>PAYR</th>\n",
       "    </tr>\n",
       "    <tr>\n",
       "      <th>STATEDSCR</th>\n",
       "      <th></th>\n",
       "      <th></th>\n",
       "      <th></th>\n",
       "      <th></th>\n",
       "    </tr>\n",
       "  </thead>\n",
       "  <tbody>\n",
       "    <tr>\n",
       "      <th>United States</th>\n",
       "      <td>119231241</td>\n",
       "      <td>139073230</td>\n",
       "      <td>1721416390</td>\n",
       "      <td>89553468189</td>\n",
       "    </tr>\n",
       "    <tr>\n",
       "      <th>California</th>\n",
       "      <td>15247808</td>\n",
       "      <td>17115764</td>\n",
       "      <td>201963160</td>\n",
       "      <td>12823448384</td>\n",
       "    </tr>\n",
       "    <tr>\n",
       "      <th>Texas</th>\n",
       "      <td>8794051</td>\n",
       "      <td>10360963</td>\n",
       "      <td>140115401</td>\n",
       "      <td>7237851374</td>\n",
       "    </tr>\n",
       "    <tr>\n",
       "      <th>New York</th>\n",
       "      <td>9135874</td>\n",
       "      <td>9966420</td>\n",
       "      <td>112034860</td>\n",
       "      <td>7175429593</td>\n",
       "    </tr>\n",
       "    <tr>\n",
       "      <th>Florida</th>\n",
       "      <td>9103247</td>\n",
       "      <td>10167995</td>\n",
       "      <td>111311061</td>\n",
       "      <td>5059504121</td>\n",
       "    </tr>\n",
       "    <tr>\n",
       "      <th>Illinois</th>\n",
       "      <td>5006201</td>\n",
       "      <td>5667241</td>\n",
       "      <td>71515239</td>\n",
       "      <td>3919077019</td>\n",
       "    </tr>\n",
       "    <tr>\n",
       "      <th>Pennsylvania</th>\n",
       "      <td>4491699</td>\n",
       "      <td>5244436</td>\n",
       "      <td>71389100</td>\n",
       "      <td>3533003743</td>\n",
       "    </tr>\n",
       "    <tr>\n",
       "      <th>Ohio</th>\n",
       "      <td>3567864</td>\n",
       "      <td>4276451</td>\n",
       "      <td>62843245</td>\n",
       "      <td>2930464062</td>\n",
       "    </tr>\n",
       "    <tr>\n",
       "      <th>Michigan</th>\n",
       "      <td>3391132</td>\n",
       "      <td>3896397</td>\n",
       "      <td>51971784</td>\n",
       "      <td>2518782261</td>\n",
       "    </tr>\n",
       "    <tr>\n",
       "      <th>Georgia</th>\n",
       "      <td>3562118</td>\n",
       "      <td>4094482</td>\n",
       "      <td>50978962</td>\n",
       "      <td>2511072067</td>\n",
       "    </tr>\n",
       "  </tbody>\n",
       "</table>\n",
       "</div>"
      ],
      "text/plain": [
       "                    FIRM       ESTB        EMPL         PAYR\n",
       "STATEDSCR                                                   \n",
       "United States  119231241  139073230  1721416390  89553468189\n",
       "California      15247808   17115764   201963160  12823448384\n",
       "Texas            8794051   10360963   140115401   7237851374\n",
       "New York         9135874    9966420   112034860   7175429593\n",
       "Florida          9103247   10167995   111311061   5059504121\n",
       "Illinois         5006201    5667241    71515239   3919077019\n",
       "Pennsylvania     4491699    5244436    71389100   3533003743\n",
       "Ohio             3567864    4276451    62843245   2930464062\n",
       "Michigan         3391132    3896397    51971784   2518782261\n",
       "Georgia          3562118    4094482    50978962   2511072067"
      ]
     },
     "execution_count": 37,
     "metadata": {},
     "output_type": "execute_result"
    }
   ],
   "source": [
    "top_10_locations"
   ]
  },
  {
   "cell_type": "markdown",
   "metadata": {},
   "source": [
    "At the national level, the United States boasts over 119 million firms, 139 million establishments, employs over 1.7 billion people, with a staggering payroll surpassing 89.5 trillion. Among states, California leads with more than 15.2 million firms, employing over 201 million people and a payroll exceeding 12.8 trillion. Texas and New York follow, both with over 8 million firms and payrolls of 7.2 trillion and 7.1 trillion respectively. Florida also stands out with a similar number of firms as New York but has a comparatively lower payroll at $5 trillion. Other prominent states in the business landscape include Illinois, Pennsylvania, Ohio, Michigan, and Georgia, all showcasing significant firm counts, employment figures, and substantial payrolls."
   ]
  },
  {
   "cell_type": "markdown",
   "metadata": {},
   "source": [
    "### Comparative Analysis - Establishments / Firm: \n",
    "Comparing the number of establishments to the number of firms in each industry. This can provide insights into industries that might have a larger number of multi-establishment firms."
   ]
  },
  {
   "cell_type": "code",
   "execution_count": 38,
   "metadata": {},
   "outputs": [
    {
     "data": {
      "text/plain": [
       "<Figure size 1200x800 with 0 Axes>"
      ]
     },
     "execution_count": 38,
     "metadata": {},
     "output_type": "execute_result"
    },
    {
     "data": {
      "text/plain": [
       "<Axes: xlabel='NAICSDSCR'>"
      ]
     },
     "execution_count": 38,
     "metadata": {},
     "output_type": "execute_result"
    },
    {
     "data": {
      "text/plain": [
       "Text(0.5, 1.0, 'Comparison of Number of Establishments to Number of Firms for Top 10 Industries')"
      ]
     },
     "execution_count": 38,
     "metadata": {},
     "output_type": "execute_result"
    },
    {
     "data": {
      "text/plain": [
       "Text(0, 0.5, 'Count')"
      ]
     },
     "execution_count": 38,
     "metadata": {},
     "output_type": "execute_result"
    },
    {
     "data": {
      "text/plain": [
       "Text(0.5, 0, 'Industry')"
      ]
     },
     "execution_count": 38,
     "metadata": {},
     "output_type": "execute_result"
    },
    {
     "data": {
      "text/plain": [
       "<Figure size 1200x800 with 0 Axes>"
      ]
     },
     "metadata": {},
     "output_type": "display_data"
    },
    {
     "data": {
      "image/png": "[encoded data removed]",
      "text/plain": [
       "<Figure size 1500x700 with 1 Axes>"
      ]
     },
     "metadata": {},
     "output_type": "display_data"
    }
   ],
   "source": [
    "# Grouping by industry and aggregating the sums for 'FIRM' and 'ESTB'\n",
    "industry_comparison = df.groupby('NAICSDSCR').agg({'FIRM': 'sum', 'ESTB': 'sum'})\n",
    "\n",
    "# Sorting values for better visualization\n",
    "industry_comparison = industry_comparison.sort_values(by='ESTB', ascending=False)\n",
    "\n",
    "# Plotting\n",
    "plt.figure(figsize=(12,8))\n",
    "industry_comparison.head(10).plot(kind='bar', figsize=(15, 7))\n",
    "plt.title('Comparison of Number of Establishments to Number of Firms for Top 10 Industries')\n",
    "plt.ylabel('Count')\n",
    "plt.xlabel('Industry')\n",
    "plt.tight_layout()\n",
    "plt.show()"
   ]
  },
  {
   "cell_type": "code",
   "execution_count": 39,
   "metadata": {},
   "outputs": [
    {
     "data": {
      "text/html": [
       "<div>\n",
       "<style scoped>\n",
       "    .dataframe tbody tr th:only-of-type {\n",
       "        vertical-align: middle;\n",
       "    }\n",
       "\n",
       "    .dataframe tbody tr th {\n",
       "        vertical-align: top;\n",
       "    }\n",
       "\n",
       "    .dataframe thead th {\n",
       "        text-align: right;\n",
       "    }\n",
       "</style>\n",
       "<table border=\"1\" class=\"dataframe\">\n",
       "  <thead>\n",
       "    <tr style=\"text-align: right;\">\n",
       "      <th></th>\n",
       "      <th>FIRM</th>\n",
       "      <th>ESTB</th>\n",
       "    </tr>\n",
       "    <tr>\n",
       "      <th>NAICSDSCR</th>\n",
       "      <th></th>\n",
       "      <th></th>\n",
       "    </tr>\n",
       "  </thead>\n",
       "  <tbody>\n",
       "    <tr>\n",
       "      <th>Professional, Scientific, and Technical Services</th>\n",
       "      <td>13046938</td>\n",
       "      <td>13854692</td>\n",
       "    </tr>\n",
       "    <tr>\n",
       "      <th>Restaurants and Other Eating Places</th>\n",
       "      <td>6516346</td>\n",
       "      <td>7851652</td>\n",
       "    </tr>\n",
       "    <tr>\n",
       "      <th>Retail Trade</th>\n",
       "      <td>5076850</td>\n",
       "      <td>6826948</td>\n",
       "    </tr>\n",
       "    <tr>\n",
       "      <th>Health Care and Social Assistance</th>\n",
       "      <td>5135833</td>\n",
       "      <td>6281326</td>\n",
       "    </tr>\n",
       "    <tr>\n",
       "      <th>Other Services (except Public Administration)</th>\n",
       "      <td>5536554</td>\n",
       "      <td>5846774</td>\n",
       "    </tr>\n",
       "    <tr>\n",
       "      <th>Construction</th>\n",
       "      <td>5645206</td>\n",
       "      <td>5700622</td>\n",
       "    </tr>\n",
       "    <tr>\n",
       "      <th>Accommodation and Food Services</th>\n",
       "      <td>4153311</td>\n",
       "      <td>4977260</td>\n",
       "    </tr>\n",
       "    <tr>\n",
       "      <th>Food Services and Drinking Places</th>\n",
       "      <td>3724127</td>\n",
       "      <td>4495246</td>\n",
       "    </tr>\n",
       "    <tr>\n",
       "      <th>Ambulatory Health Care Services</th>\n",
       "      <td>3834610</td>\n",
       "      <td>4479206</td>\n",
       "    </tr>\n",
       "    <tr>\n",
       "      <th>Religious Organizations</th>\n",
       "      <td>4337202</td>\n",
       "      <td>4346748</td>\n",
       "    </tr>\n",
       "  </tbody>\n",
       "</table>\n",
       "</div>"
      ],
      "text/plain": [
       "                                                      FIRM      ESTB\n",
       "NAICSDSCR                                                           \n",
       "Professional, Scientific, and Technical Services  13046938  13854692\n",
       "Restaurants and Other Eating Places                6516346   7851652\n",
       "Retail Trade                                       5076850   6826948\n",
       "Health Care and Social Assistance                  5135833   6281326\n",
       "Other Services (except Public Administration)      5536554   5846774\n",
       "Construction                                       5645206   5700622\n",
       "Accommodation and Food Services                    4153311   4977260\n",
       "Food Services and Drinking Places                  3724127   4495246\n",
       "Ambulatory Health Care Services                    3834610   4479206\n",
       "Religious Organizations                            4337202   4346748"
      ]
     },
     "execution_count": 39,
     "metadata": {},
     "output_type": "execute_result"
    }
   ],
   "source": [
    "industry_comparison.head(10)"
   ]
  },
  {
   "cell_type": "markdown",
   "metadata": {},
   "source": [
    "The 'Professional, Scientific, and Technical Services' sector leads the list with over 13 million establishments, slightly surpassing its number of firms. This indicates that firms in this industry might operate multiple establishments on average. Similarly, 'Restaurants and Other Eating Places' show a discrepancy of over a million between firms and establishments, suggesting a prevalence of multi-outlet restaurant chains. The 'Retail Trade' and 'Health Care and Social Assistance' sectors also showcase a notable difference. Interestingly, for 'Religious Organizations', the numbers are almost at parity, hinting that most religious entities operate a single establishment. Overall, this data sheds light on industries where firms tend to have multiple operational outlets, suggesting a more extensive reach and potentially greater market dominance."
   ]
  },
  {
   "cell_type": "markdown",
   "metadata": {},
   "source": [
    "### Average Number of Establishments per Firm\n",
    "Industries with a higher average might be using the franchising strategy to a greater extent"
   ]
  },
  {
   "cell_type": "code",
   "execution_count": 40,
   "metadata": {},
   "outputs": [
    {
     "data": {
      "text/html": [
       "<div>\n",
       "<style scoped>\n",
       "    .dataframe tbody tr th:only-of-type {\n",
       "        vertical-align: middle;\n",
       "    }\n",
       "\n",
       "    .dataframe tbody tr th {\n",
       "        vertical-align: top;\n",
       "    }\n",
       "\n",
       "    .dataframe thead th {\n",
       "        text-align: right;\n",
       "    }\n",
       "</style>\n",
       "<table border=\"1\" class=\"dataframe\">\n",
       "  <thead>\n",
       "    <tr style=\"text-align: right;\">\n",
       "      <th></th>\n",
       "      <th>FIRM</th>\n",
       "      <th>ESTB</th>\n",
       "      <th>Avg_Establishments_per_Firm</th>\n",
       "    </tr>\n",
       "    <tr>\n",
       "      <th>NAICSDSCR</th>\n",
       "      <th></th>\n",
       "      <th></th>\n",
       "      <th></th>\n",
       "    </tr>\n",
       "  </thead>\n",
       "  <tbody>\n",
       "    <tr>\n",
       "      <th>Retail Trade</th>\n",
       "      <td>5076850</td>\n",
       "      <td>6826948</td>\n",
       "      <td>1.34</td>\n",
       "    </tr>\n",
       "    <tr>\n",
       "      <th>Health Care and Social Assistance</th>\n",
       "      <td>5135833</td>\n",
       "      <td>6281326</td>\n",
       "      <td>1.22</td>\n",
       "    </tr>\n",
       "    <tr>\n",
       "      <th>Restaurants and Other Eating Places</th>\n",
       "      <td>6516346</td>\n",
       "      <td>7851652</td>\n",
       "      <td>1.20</td>\n",
       "    </tr>\n",
       "    <tr>\n",
       "      <th>Professional, Scientific, and Technical Services</th>\n",
       "      <td>13046938</td>\n",
       "      <td>13854692</td>\n",
       "      <td>1.06</td>\n",
       "    </tr>\n",
       "    <tr>\n",
       "      <th>Other Services (except Public Administration)</th>\n",
       "      <td>5536554</td>\n",
       "      <td>5846774</td>\n",
       "      <td>1.06</td>\n",
       "    </tr>\n",
       "  </tbody>\n",
       "</table>\n",
       "</div>"
      ],
      "text/plain": [
       "                                                      FIRM      ESTB  \\\n",
       "NAICSDSCR                                                              \n",
       "Retail Trade                                       5076850   6826948   \n",
       "Health Care and Social Assistance                  5135833   6281326   \n",
       "Restaurants and Other Eating Places                6516346   7851652   \n",
       "Professional, Scientific, and Technical Services  13046938  13854692   \n",
       "Other Services (except Public Administration)      5536554   5846774   \n",
       "\n",
       "                                                  Avg_Establishments_per_Firm  \n",
       "NAICSDSCR                                                                      \n",
       "Retail Trade                                                             1.34  \n",
       "Health Care and Social Assistance                                        1.22  \n",
       "Restaurants and Other Eating Places                                      1.20  \n",
       "Professional, Scientific, and Technical Services                         1.06  \n",
       "Other Services (except Public Administration)                            1.06  "
      ]
     },
     "execution_count": 40,
     "metadata": {},
     "output_type": "execute_result"
    }
   ],
   "source": [
    "# Calculate the average number of establishments per firm for each industry\n",
    "industry_comparison['Avg_Establishments_per_Firm'] = industry_comparison['ESTB'] / industry_comparison['FIRM']\n",
    "# Filter for the large firms\n",
    "industry_comparison = industry_comparison[industry_comparison['ESTB'] >= 5000000]\n",
    "# Sort the dataset\n",
    "industry_comparison = industry_comparison.sort_values(by='Avg_Establishments_per_Firm', ascending=False)\n",
    "# Print the top 5\n",
    "industry_comparison.head(5)"
   ]
  },
  {
   "cell_type": "markdown",
   "metadata": {},
   "source": [
    "The output displays a comparative analysis of the average number of establishments per firm across various industries. The \"Retail Trade\" industry has the highest average number of establishments per firm at 1.34, indicating that firms in this sector typically operate more than one retail outlet. The \"Health Care and Social Assistance\" industry follows with an average of 1.22 establishments per firm, suggesting that healthcare entities might have multiple service locations. Both \"Restaurants and Other Eating Places\" and \"Professional, Scientific, and Technical Services\" also have firms with multiple branches, with averages of 1.20 and 1.06, respectively. The \"Other Services (except Public Administration)\" sector matches the professional services average at 1.06. These figures highlight industries where businesses are more likely to operate in multiple locations, suggesting a trend of expansion or franchise-based operations."
   ]
  },
  {
   "cell_type": "markdown",
   "metadata": {},
   "source": [
    "## Summary: \n",
    "Correlation in the dataset reveals:\n",
    "- Strong Correlations: FIRM with ESTB and EMPL with PAYR.\n",
    "- Moderate Correlations: FIRM with EMPL and PAYR, and ESTB with PAYR.\n",
    "\n",
    "Insights from the Industry Overview:\n",
    "1. Total Employment: \"Restaurants and Other Eating Places\" have the highest employment of 125 million. \"Health Care and Social Assistance\" and \"Professional, Scientific, and Technical Services\" are also top employers.\n",
    "2. Average Employment: \"Health Care and Social Assistance\" leads, suggesting large-scale operations. \"Accommodation and Food Services\" and \"Retail Trade\" also show high average employment.\n",
    "3. Industry Prevalence: Restaurants and professional services dominate with 936 entries each. \"Management of Companies and Enterprises\" features many entities but smaller employments.\n",
    "4. Sectoral Differences: The dataset showcases a diverse job market, including healthcare, dining, and finance sectors.\n",
    "5. Dominance of Health and Professional Services: Both industries have significant payrolls, indicating lucrative opportunities or high employment.\n",
    "6. Significance of Manufacturing & Financial Sectors: They have strong payrolls, reflecting their marketplace importance.\n",
    "7. Granularity in Health Sector: Data breaks down the health sector, distinguishing areas like \"Hospitals\" which provide deeper insights.\n",
    "8. Broad Economic Players: \"Construction\", \"Wholesale Trade\", and \"Retail Trade\" are major employers with significant payrolls.\n",
    "\n",
    "Key figures:\n",
    "- Top Employers: Restaurants lead with 125 million employees, followed by professional services (103 million) and general hospitals (68 million).\n",
    "- Highest Average Payroll: \"Aircraft Manufacturing\" tops, followed by medical fields and financial sectors. \n",
    "- Firm Sizes: Most firms are 'Large' (239,306), with 'Medium' (232,975) close behind and 'Small' (95,728) being least.\n",
    "- National Data: US has 119 million firms and a payroll of 89.5 trillion. California leads states with 15.2 million firms.\n",
    "- Multiple Establishments: For the highest number of establishments, Professional services and restaurants have more establishments than firms, hinting at multiple outlets.\n",
    "- Average Establishments per Firm: Retail Industry has the highest establishments per firm, followed by Healthcare and Social Assistance.\n",
    "\n",
    "In summary, the US job market displays strong diversity with different sectors showcasing distinct dynamics. The food, healthcare, and professional services sectors emerge as significant employment and economic contributors. The data also indicates a trend of businesses operating multiple establishments, especially in retail and healthcare."
   ]
  },
  {
   "cell_type": "code",
   "execution_count": 41,
   "metadata": {},
   "outputs": [],
   "source": [
    "# Saving the datafiles\n",
    "df.to_csv('data_eda_2.csv', index=False)\n",
    "employees.to_csv('employees.csv', index=False)\n",
    "pay.to_csv('pay.csv', index=False)\n",
    "industry_payroll.to_csv('industry_payroll.csv', index=False)\n",
    "industry_comparison.to_csv('industry_comparison.csv', index=False)"
   ]
  },
  {
   "cell_type": "code",
   "execution_count": 42,
   "metadata": {},
   "outputs": [
    {
     "data": {
      "text/plain": [
       "Index(['STATE', 'NAICS', 'ENTRSIZE', 'FIRM', 'ESTB', 'EMPL', 'PAYR',\n",
       "       'STATEDSCR', 'NAICSDSCR', 'ENTRSIZEDSCR', 'Payroll_per_Employee',\n",
       "       'Firm_Size'],\n",
       "      dtype='object')"
      ]
     },
     "execution_count": 42,
     "metadata": {},
     "output_type": "execute_result"
    }
   ],
   "source": [
    "df.columns"
   ]
  },
  {
   "cell_type": "code",
   "execution_count": 49,
   "metadata": {},
   "outputs": [
    {
     "data": {
      "text/html": [
       "<table border=\"1\" class=\"dataframe\">\n",
       "  <thead>\n",
       "    <tr style=\"text-align: right;\">\n",
       "      <th>Column</th>\n",
       "      <th>Description</th>\n",
       "      <th>Type</th>\n",
       "    </tr>\n",
       "  </thead>\n",
       "  <tbody>\n",
       "    <tr>\n",
       "      <td>STATE</td>\n",
       "      <td>State in which the business is located</td>\n",
       "      <td>object</td>\n",
       "    </tr>\n",
       "    <tr>\n",
       "      <td>NAICS</td>\n",
       "      <td>North American Industry Classification System code for each business</td>\n",
       "      <td>object</td>\n",
       "    </tr>\n",
       "    <tr>\n",
       "      <td>ENTRSIZE</td>\n",
       "      <td>Size of the business or enterprise.</td>\n",
       "      <td>object</td>\n",
       "    </tr>\n",
       "    <tr>\n",
       "      <td>FIRM</td>\n",
       "      <td>Number of firms within a specific category</td>\n",
       "      <td>int64</td>\n",
       "    </tr>\n",
       "    <tr>\n",
       "      <td>ESTB</td>\n",
       "      <td>Number of establishments</td>\n",
       "      <td>int64</td>\n",
       "    </tr>\n",
       "    <tr>\n",
       "      <td>EMPL</td>\n",
       "      <td>Employment size for each business category</td>\n",
       "      <td>int64</td>\n",
       "    </tr>\n",
       "    <tr>\n",
       "      <td>PAYR</td>\n",
       "      <td>Annual payroll for the specific category</td>\n",
       "      <td>int64</td>\n",
       "    </tr>\n",
       "    <tr>\n",
       "      <td>STATEDSCR</td>\n",
       "      <td>Description or name of the state corresponding to the STATE code</td>\n",
       "      <td>object</td>\n",
       "    </tr>\n",
       "    <tr>\n",
       "      <td>NAICSDSCR</td>\n",
       "      <td>Description of the NAICS code</td>\n",
       "      <td>object</td>\n",
       "    </tr>\n",
       "    <tr>\n",
       "      <td>ENTRSIZEDSCR</td>\n",
       "      <td>Description of the enterprise size category</td>\n",
       "      <td>object</td>\n",
       "    </tr>\n",
       "    <tr>\n",
       "      <td>Payroll_per_Employee</td>\n",
       "      <td>Average payroll per employee</td>\n",
       "      <td>float64</td>\n",
       "    </tr>\n",
       "    <tr>\n",
       "      <td>Firm_Size</td>\n",
       "      <td>Small(0-49), Medium(50-499), Large(500+)</td>\n",
       "      <td>category</td>\n",
       "    </tr>\n",
       "  </tbody>\n",
       "</table>"
      ],
      "text/plain": [
       "<IPython.core.display.HTML object>"
      ]
     },
     "metadata": {},
     "output_type": "display_data"
    }
   ],
   "source": [
    "# Define the column descriptions\n",
    "column_descriptions = {\n",
    "    'STATE': 'State in which the business is located',\n",
    "    'NAICS': 'North American Industry Classification System code for each business',\n",
    "    'ENTRSIZE': 'Size of the business or enterprise. ',\n",
    "    'FIRM': 'Number of firms within a specific category',\n",
    "    'ESTB': 'Number of establishments',\n",
    "    'EMPL': 'Employment size for each business category',\n",
    "    'PAYR': 'Annual payroll for the specific category',\n",
    "    'STATEDSCR': 'Description or name of the state corresponding to the STATE code',\n",
    "    'NAICSDSCR': 'Description of the NAICS code',\n",
    "    'ENTRSIZEDSCR': 'Description of the enterprise size category',\n",
    "    'Payroll_per_Employee': 'Average payroll per employee',\n",
    "    'Firm_Size': 'Small(0-49), Medium(50-499), Large(500+)'\n",
    "}\n",
    "\n",
    "# Create a dataframe to hold the column names, descriptions, and data types\n",
    "df_info = pd.DataFrame({\n",
    "    'Column': df.dtypes.index,\n",
    "    'Description': [column_descriptions[col] for col in df.dtypes.index],\n",
    "    'Type': df.dtypes.values\n",
    "})\n",
    "\n",
    "# Convert the dataframe to an HTML table\n",
    "df_info_html = df_info.to_html(index=False)\n",
    "\n",
    "# Display the HTML table in Jupyter\n",
    "from IPython.display import display, HTML\n",
    "display(HTML(df_info_html))"
   ]
  }
 ],
 "metadata": {
  "kernelspec": {
   "display_name": "Python 3 (ipykernel)",
   "language": "python",
   "name": "python3"
  },
  "language_info": {
   "codemirror_mode": {
    "name": "ipython",
    "version": 3
   },
   "file_extension": ".py",
   "mimetype": "text/x-python",
   "name": "python",
   "nbconvert_exporter": "python",
   "pygments_lexer": "ipython3",
   "version": "3.10.9"
  }
 },
 "nbformat": 4,
 "nbformat_minor": 1
}
