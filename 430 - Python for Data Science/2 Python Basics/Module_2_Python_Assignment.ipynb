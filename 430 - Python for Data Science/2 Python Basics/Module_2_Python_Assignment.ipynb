{
  "cells": [
    {
      "cell_type": "markdown",
      "metadata": {
        "id": "Hp10DS1GS3pe"
      },
      "source": [
        "# MSDS 430 Module 2 Python Assignment"
      ]
    },
    {
      "cell_type": "markdown",
      "metadata": {
        "id": "x8Rh55y5S3pg"
      },
      "source": [
        "<div class=\"alert alert-block alert-warning\"><b>In this assignment you will read through this notebook then complete the exercises. Once you are satisfied with your results, submit your notebook and html file to Canvas. Your files should include all output, i.e. run each cell and save your files before submitting.</b></div>"
      ]
    },
    {
      "cell_type": "markdown",
      "metadata": {
        "id": "6wHFn3ExS3pg"
      },
      "source": [
        "<div class=\"alert alert-block alert-info\"> This week we are starting to learn how to write short programs in Python beyond print statements and mathematical calculations. We learned about a few different data types last week such as integers, floats, and strings. This week we will learn about:\n",
        "\n",
        "- The bool data type and Boolean expressions that will be used when we use conditional statements.\n",
        "- Conditional statements (or conditionals) are also referred to as <i><u>selection</u></i> since Python only \"selects\" the block of code to execute based on the Boolean value of the condition.\n",
        "- The <b>if/elif/else</b> structure is quite useful in programming when numerous cases need to be considered and handled accordingly.</div>"
      ]
    },
    {
      "cell_type": "markdown",
      "metadata": {
        "id": "ZIegdLwkS3ph"
      },
      "source": [
        "<div class=\"alert alert-block alert-danger\"><b>As mentioned before, in all of the problems you will see <font color=black>#TODO</font> instructions added as comments on the code cell provided. You will need to complete each of these as indicated to avoid losing points. Do not rearrange or delete these.</b></div>"
      ]
    },
    {
      "cell_type": "markdown",
      "metadata": {
        "id": "FD6TylA9S3ph"
      },
      "source": [
        "### Python Libraries and Modules"
      ]
    },
    {
      "cell_type": "markdown",
      "metadata": {
        "id": "rj64oP8vS3ph"
      },
      "source": [
        "Throughout this course we will be using various modules and libraries. Python libraries are collections of related modules. Modules are blocks of code that can be imported into our programs and accessed as needed. The use of libraries and the modules contained within them is a way to repeatedly use code without having to recreate it each time. Refer to __[Libraries in Python](https://www.geeksforgeeks.org/libraries-in-python/)__ for more information on Python libraries and common ones used in data science."
      ]
    },
    {
      "cell_type": "markdown",
      "metadata": {
        "id": "p12kLQ6RS3pi"
      },
      "source": [
        "Python has a standard library that contains many built-in functions, modules, and constants. From your readings this week, you have seen uses for the `math` module and the `random` module. These are just two of the many built-in modules that Python comes with. More documentation on all of Python's built-ins can be found in __[The Python Standard Library](https://docs.python.org/3/library/index.html)__. You are certainly encouraged to explore Python's standard library beyond what is discussed in this assignment and what you learn from your readings this week."
      ]
    },
    {
      "cell_type": "markdown",
      "metadata": {
        "id": "_-Xh8AoBS3pi"
      },
      "source": [
        "To use any module, we need to `import` it prior to its use. For example:\n",
        "```python\n",
        "import [module]\n",
        "```\n",
        "This approach creates a new name (the name of the module), which refers to a `module object`. In the example below, we import the `math` module so that `math` is a module object. And we call the function `factorial(n)` using the `math` module object."
      ]
    },
    {
      "cell_type": "code",
      "execution_count": null,
      "metadata": {
        "colab": {
          "base_uri": "https://localhost:8080/"
        },
        "id": "5nmAyBScS3pj",
        "outputId": "c00aee33-7ea7-4005-9311-4d9c7b8bb039"
      },
      "outputs": [
        {
          "output_type": "execute_result",
          "data": {
            "text/plain": [
              "1307674368000"
            ]
          },
          "metadata": {},
          "execution_count": 20
        }
      ],
      "source": [
        "import math\n",
        "\n",
        "math.factorial(15)"
      ]
    },
    {
      "cell_type": "markdown",
      "metadata": {
        "id": "webb4LgZS3pk"
      },
      "source": [
        "The `math` module also has some built-in constants such as `pi` and `e`. If we want to calculate the volume of a sphere with radius 5, we would use the constant `math.pi`. Because we imported the math module in the cell above, we do not need to import it again for this next calculation. However, the cell above this must be run first for our calculation below to work. This is also the case each time you shut down and restart your kernel."
      ]
    },
    {
      "cell_type": "code",
      "execution_count": null,
      "metadata": {
        "colab": {
          "base_uri": "https://localhost:8080/"
        },
        "id": "Y3qzsMQHS3pk",
        "outputId": "9936e3a2-175a-4fc1-8a5e-63c87d178226"
      },
      "outputs": [
        {
          "output_type": "stream",
          "name": "stdout",
          "text": [
            "523.599\n"
          ]
        }
      ],
      "source": [
        "r = 5 # Set the radius equal to 5\n",
        "\n",
        "volume = 4/3*math.pi*r**3  # Calculate the volume of a sphere with radius 5\n",
        "\n",
        "print(round(volume, 3))  # Print the volume rounded to 3 decimals using Python's built-in `round()` function"
      ]
    },
    {
      "cell_type": "markdown",
      "metadata": {
        "id": "rY-YkDBSS3pk"
      },
      "source": [
        "There are other ways to import a module, such as:\n",
        "```python\n",
        "import [module] as xyz\n",
        "```\n",
        "This approach defines an alias for the module so that when we call a function (or constant) within that module we can prefix it with `xyz.`"
      ]
    },
    {
      "cell_type": "markdown",
      "metadata": {
        "id": "CuCpk5PmS3pk"
      },
      "source": [
        "Below are a couple of examples using the `statistics` module. Here we import `statistics` using the alias `stats`. In the first example we call the `median()` function that takes an unordered list of numbers and returns the median of the list. So, behind the scenes it is ordering the list from least to greatest then finding the middle value."
      ]
    },
    {
      "cell_type": "code",
      "execution_count": null,
      "metadata": {
        "colab": {
          "base_uri": "https://localhost:8080/"
        },
        "id": "z48IZohlS3pl",
        "outputId": "862d0669-55ba-4699-ca45-b0ec34b59fc4"
      },
      "outputs": [
        {
          "output_type": "execute_result",
          "data": {
            "text/plain": [
              "8.0"
            ]
          },
          "metadata": {},
          "execution_count": 22
        }
      ],
      "source": [
        "import statistics as stats\n",
        "\n",
        "L1 = [5,2,19,11,0,2,13,47]  # Define the list of data\n",
        "\n",
        "stats.median(L1)"
      ]
    },
    {
      "cell_type": "markdown",
      "metadata": {
        "id": "50OqVQpBS3pl"
      },
      "source": [
        "This next example finds the sample standard deviation of the same list we used above. Similar to a graphing calculator, Python is determining all of the necessary intermediate values that go into calculating the standard deviation."
      ]
    },
    {
      "cell_type": "code",
      "execution_count": null,
      "metadata": {
        "colab": {
          "base_uri": "https://localhost:8080/"
        },
        "id": "cm1FmhwAS3pl",
        "outputId": "69e13d98-1abc-4ceb-b7d6-a64a965ad5a2"
      },
      "outputs": [
        {
          "output_type": "execute_result",
          "data": {
            "text/plain": [
              "15.435927479191431"
            ]
          },
          "metadata": {},
          "execution_count": 23
        }
      ],
      "source": [
        "stats.stdev(L1)  # Pass L1 through the `stdev()` function"
      ]
    },
    {
      "cell_type": "markdown",
      "metadata": {
        "id": "g-qDpjupS3pl"
      },
      "source": [
        "A third method for importing a module is to use this syntax:\n",
        "```python\n",
        "from [module] import *\n",
        "```\n",
        "This will import _`everything`_ defined in the module and give us _`direct`_ access to constants, functions, etc. in the module without having to to _prefix_ the module name like we did above. However, this is _**not**_ a good practice in general since two modules might define two different methods with the same name. We only mention it here for informational purposes."
      ]
    },
    {
      "cell_type": "markdown",
      "metadata": {
        "id": "ImhIJuJOS3pm"
      },
      "source": [
        "Another module from your readings this week is the `random` module. One of the most basic uses of this is to generate a random real-valued number within the interval [0.0, 1.0) using the `random()` function."
      ]
    },
    {
      "cell_type": "code",
      "execution_count": null,
      "metadata": {
        "colab": {
          "base_uri": "https://localhost:8080/"
        },
        "id": "6mQj6n2vS3pn",
        "outputId": "a5b82568-840a-414a-f9b9-2802defa7e21"
      },
      "outputs": [
        {
          "output_type": "execute_result",
          "data": {
            "text/plain": [
              "0.7343435229330235"
            ]
          },
          "metadata": {},
          "execution_count": 24
        }
      ],
      "source": [
        "import random\n",
        "\n",
        "my_number = random.random()\n",
        "\n",
        "my_number"
      ]
    },
    {
      "cell_type": "markdown",
      "metadata": {
        "id": "asNYGjeBS3pn"
      },
      "source": [
        "Or we could use the `uniform` method to generate a random floating point number between two values."
      ]
    },
    {
      "cell_type": "code",
      "execution_count": null,
      "metadata": {
        "colab": {
          "base_uri": "https://localhost:8080/"
        },
        "id": "S0w7bVUwS3pn",
        "outputId": "cd0e6ff8-9ea0-4153-a70b-5e6c263d3e4e"
      },
      "outputs": [
        {
          "output_type": "execute_result",
          "data": {
            "text/plain": [
              "48.90967297214532"
            ]
          },
          "metadata": {},
          "execution_count": 25
        }
      ],
      "source": [
        "random.uniform(10, 100)"
      ]
    },
    {
      "cell_type": "markdown",
      "metadata": {
        "id": "IzdeFRX6S3pn"
      },
      "source": [
        "If we wish to generate a random integer we have a few options. For example, we can use the function `randrange(start, stop, step)` to generate a random integer from a range of integers starting at `start` but less than `stop` with specified increment of `step`.\n",
        "\n",
        "In this next example, the `randrange` function will randomly generate a number between 3 and 49, inclusive, with step 2. In other words, it will generate a random integer from range of integers: `-3, -1, 3, 5, 7, ..., 47, 49`."
      ]
    },
    {
      "cell_type": "code",
      "execution_count": null,
      "metadata": {
        "colab": {
          "base_uri": "https://localhost:8080/"
        },
        "id": "aQuJs4SVS3po",
        "outputId": "5c1d5916-69da-47bf-aeab-e06ced9dc7dc"
      },
      "outputs": [
        {
          "output_type": "execute_result",
          "data": {
            "text/plain": [
              "33"
            ]
          },
          "metadata": {},
          "execution_count": 26
        }
      ],
      "source": [
        "random.randrange(-3, 50, 2)"
      ]
    },
    {
      "cell_type": "markdown",
      "metadata": {
        "id": "XFC_K07ES3po"
      },
      "source": [
        "The value for `step` is optional unless you have specific needs. By default, `step` is one if nothing is specified. So, `randrange(a, b)` will return a random integer `N` such that `a ≤ N < b`."
      ]
    },
    {
      "cell_type": "code",
      "execution_count": null,
      "metadata": {
        "colab": {
          "base_uri": "https://localhost:8080/"
        },
        "id": "R3JDVh1JS3po",
        "outputId": "a38c7ca8-5540-4e68-8a87-4eb68f167530"
      },
      "outputs": [
        {
          "output_type": "execute_result",
          "data": {
            "text/plain": [
              "46"
            ]
          },
          "metadata": {},
          "execution_count": 27
        }
      ],
      "source": [
        "random.randrange(-3, 50)"
      ]
    },
    {
      "cell_type": "markdown",
      "metadata": {
        "id": "jherbVi1S3pp"
      },
      "source": [
        "We can also simply use `randrange(stop)`. Using this syntax, both `start` and `step` are not specified. In the previous example we saw the default for `step` is one.  The default for `start` is zero. So, this next example generates a random integer between 0 and 49, inclusive."
      ]
    },
    {
      "cell_type": "code",
      "execution_count": null,
      "metadata": {
        "colab": {
          "base_uri": "https://localhost:8080/"
        },
        "id": "a2vV6_1hS3pp",
        "outputId": "c553bdb2-8c87-4a33-f4d8-299e31150c83"
      },
      "outputs": [
        {
          "output_type": "execute_result",
          "data": {
            "text/plain": [
              "44"
            ]
          },
          "metadata": {},
          "execution_count": 28
        }
      ],
      "source": [
        "random.randrange(50)"
      ]
    },
    {
      "cell_type": "markdown",
      "metadata": {
        "id": "7WNlw2jhS3pp"
      },
      "source": [
        "Lastly, an alternative to `randrange` is `randint(a, b)`. This accomplishes the same thing as `randrange(a, b + 1)`. The `step` in `randint` is fixed at one, so we can't pass a third argument to indicate a different step size."
      ]
    },
    {
      "cell_type": "markdown",
      "metadata": {
        "id": "NBLqFTrvS3pp"
      },
      "source": [
        "<div class=\"alert alert-block alert-success\"><b>Problem 1 (5 pts.)</b>: Generate a random number and convert it to a fraction.<br><br>\n",
        "1. Import the necessary modules as indicated in the cell provided.<br>\n",
        "2. Generate a random float type that is greater than or equal to -100 and less than 150 and round to 5 decimals.<br>\n",
        "    3. Convert the random number to a fraction using the <mark><b>fractions</b></mark> module from the Python standard library.<br>\n",
        "4. Create a formatted print statement that generates a message shown below this cell. <i><u>Note: Your values will differ.</u></i><br><br>\n",
        "<font color=black><i><u>Be sure to complete each <b>#TODO</b> statement as indicated in the cell provided.</u></i></font></div>"
      ]
    },
    {
      "cell_type": "markdown",
      "metadata": {
        "id": "OiDOsxoYS3pp"
      },
      "source": [
        "`The fractional form of 135.43846 is 4765317171778389/35184372088832.`"
      ]
    },
    {
      "cell_type": "code",
      "execution_count": null,
      "metadata": {
        "colab": {
          "base_uri": "https://localhost:8080/"
        },
        "id": "ZZZCRJAdS3pq",
        "outputId": "ab3c67bd-5c36-4243-8834-da310e3e26f5"
      },
      "outputs": [
        {
          "output_type": "stream",
          "name": "stdout",
          "text": [
            "A random number ≥ -100 and < 150 is 132.60438\n",
            "Random Number 132.60438 converted to fraction is 6630219/50000\n",
            "The fractional form of 132.60438 is 6630219/50000\n"
          ]
        }
      ],
      "source": [
        "#TODO: Import the fractions module with the alias 'frac'\n",
        "import fractions as frac\n",
        "\n",
        "#TODO: Import the random module again with the alias 'rand'\n",
        "import random as rand\n",
        "\n",
        "#TODO: Generate a random number ≥ -100 and < 150. Assign this to a variable and round to 5 decimal places.\n",
        "var = round(rand.uniform(-100,150),5)\n",
        "print('A random number ≥ -100 and < 150 is', var)\n",
        "\n",
        "#TODO: Convert your random number to a fraction using the appropriate function from the fractions module.\n",
        "fraction = frac.Fraction(var).limit_denominator()\n",
        "print('Random Number', var, 'converted to fraction is', fraction)\n",
        "\n",
        "#TODO: Create a formatted print statement like above that displays the number and its fractional form.\n",
        "print('The fractional form of {:.5f} is {}'.format(var, fraction))"
      ]
    },
    {
      "cell_type": "markdown",
      "metadata": {
        "id": "g2qlWfdTS3pq"
      },
      "source": [
        "### Boolean expressions"
      ]
    },
    {
      "cell_type": "markdown",
      "metadata": {
        "id": "UTmPTOf1S3pr"
      },
      "source": [
        "Last week we briefly introduced the built-in `bool` data type. The `bool` data type only has two values - `True` and `False`. It is important to recognize that Boolean values are not strings and they are case sensitive (`true` and `false` are not Boolean values). We can assign a Boolean value to a variable or we can create **Boolean expressions** that will evaluate to a Boolean value. In order to understand what a Boolean expression is, we have to introduce some built-in operators that are used in those expressions."
      ]
    },
    {
      "cell_type": "markdown",
      "metadata": {
        "id": "uOR2i57xS3pr"
      },
      "source": [
        "### Comparison and Logical Operators"
      ]
    },
    {
      "cell_type": "markdown",
      "metadata": {
        "id": "l1E_FM16S3pr"
      },
      "source": [
        "We worked with mathematical operators last week and will continue to do so in this assignment and others, but there are other types of built-in operators within Python. The operators we are introducing this week are `comparison` and `logical` operators.\n",
        "\n",
        "Comparison operators are `==`, `!=`, `<=`, `>=`, `<`, `>`, `is`, and `is not`. These operators are used in Boolean expressions to compare something on the left side with something else on the right side. When the expression is executed, it will result in a Boolean value. The comparison operators `is` and `is not` are sometimes referred to as `identity operators` since they are used to determine if two objects are identical."
      ]
    },
    {
      "cell_type": "markdown",
      "metadata": {
        "id": "lQfeudnbS3pr"
      },
      "source": [
        "This next example has assigned the value `3` to `x` and the value `5` to `y`. We then have the Boolean expression `x > y`. Since `3` is not greater than `5`, the expression will evaluate to `False`. Run the cell then try changing the values of `x` and `y` and the comparison operator."
      ]
    },
    {
      "cell_type": "code",
      "execution_count": null,
      "metadata": {
        "colab": {
          "base_uri": "https://localhost:8080/"
        },
        "id": "0bGaekABS3pr",
        "outputId": "78380c04-dfc3-4cdd-a749-5f88226f7e53"
      },
      "outputs": [
        {
          "output_type": "execute_result",
          "data": {
            "text/plain": [
              "False"
            ]
          },
          "metadata": {},
          "execution_count": 32
        }
      ],
      "source": [
        "x = 3\n",
        "y = 5\n",
        "x > y # Boolean expression"
      ]
    },
    {
      "cell_type": "markdown",
      "metadata": {
        "id": "IZdVi3rkS3pr"
      },
      "source": [
        "The `==` is used to determine equivalence. It is different than `=`, which is an assignment token used in an assignment statement."
      ]
    },
    {
      "cell_type": "code",
      "execution_count": null,
      "metadata": {
        "colab": {
          "base_uri": "https://localhost:8080/"
        },
        "id": "dToK-E5AS3ps",
        "outputId": "76d5690a-1119-45a3-f331-a3d909848379"
      },
      "outputs": [
        {
          "output_type": "execute_result",
          "data": {
            "text/plain": [
              "True"
            ]
          },
          "metadata": {},
          "execution_count": 33
        }
      ],
      "source": [
        "car1 = 'sedan'\n",
        "car2 = 'sedan'\n",
        "car1 == car2"
      ]
    },
    {
      "cell_type": "markdown",
      "metadata": {
        "id": "NVBs2GsqS3p0"
      },
      "source": [
        "The operators `is` and `is not` are used to test for identical objects. Everything in Python is an object and is assigned (behind the scenes) an object identification number. We can check the identity of a variable using the built-in function `id()`. Depending on the data type, Python may assign a different ID to distinguish them or may assign the same ID to save memory."
      ]
    },
    {
      "cell_type": "code",
      "execution_count": null,
      "metadata": {
        "colab": {
          "base_uri": "https://localhost:8080/"
        },
        "id": "GTS7PhIuS3p0",
        "outputId": "171eb546-6651-4d25-a8ec-39f99d2b2823"
      },
      "outputs": [
        {
          "output_type": "execute_result",
          "data": {
            "text/plain": [
              "True"
            ]
          },
          "metadata": {},
          "execution_count": 34
        }
      ],
      "source": [
        "car1 is car2"
      ]
    },
    {
      "cell_type": "markdown",
      "metadata": {
        "id": "LNHftnuuS3p0"
      },
      "source": [
        "As you can see after running the previous cell, `car1` and `car2` are the same object since the Boolean expression evaluated to `True`. It turns out that this will always be the case for string objects. For clarification, we can see from the next cell that `car1` and `car2` have the same ID."
      ]
    },
    {
      "cell_type": "code",
      "execution_count": null,
      "metadata": {
        "colab": {
          "base_uri": "https://localhost:8080/"
        },
        "id": "J1uz1UW4S3p1",
        "outputId": "941e34da-f9c3-4cd4-eeb2-d6204805c796"
      },
      "outputs": [
        {
          "output_type": "execute_result",
          "data": {
            "text/plain": [
              "(140553551549552, 140553551549552)"
            ]
          },
          "metadata": {},
          "execution_count": 35
        }
      ],
      "source": [
        "id(car1), id(car2)"
      ]
    },
    {
      "cell_type": "markdown",
      "metadata": {
        "id": "-UTTflhMS3p1"
      },
      "source": [
        "Though identical strings assigned to different variables will be the same object, this is not necessarily true for other data types. If we look at the `float` type, we see that the values are equivalent but the objects are not. You are encouraged to try this with other data types such as integers, lists, tuples, etc."
      ]
    },
    {
      "cell_type": "code",
      "execution_count": null,
      "metadata": {
        "colab": {
          "base_uri": "https://localhost:8080/"
        },
        "id": "XafyXymKS3p1",
        "outputId": "f7fa696b-6963-43b5-dc96-02bf161107e3"
      },
      "outputs": [
        {
          "output_type": "execute_result",
          "data": {
            "text/plain": [
              "(True, False)"
            ]
          },
          "metadata": {},
          "execution_count": 36
        }
      ],
      "source": [
        "num1 = -7.8903\n",
        "num2 = -7.8903\n",
        "num1 == num2, num1 is num2"
      ]
    },
    {
      "cell_type": "markdown",
      "metadata": {
        "id": "_GbYnSL9S3p1"
      },
      "source": [
        "Logical operators are `and`, `or`, and `not`. These are used to combine Boolean expressions and will also result in a Boolean value. The following example assigns a value to `a` and a value to `b` then compares the two. If either `a == b` or `a > b`, the result is the Boolean value `True`. As earlier, try changing the values of `a` and `b`, the comparison operators, and the logical operator to see how the resulting Boolean value changes in each case."
      ]
    },
    {
      "cell_type": "code",
      "execution_count": null,
      "metadata": {
        "colab": {
          "base_uri": "https://localhost:8080/"
        },
        "id": "eA2zi7C4S3p1",
        "outputId": "135fe88e-fccd-47f4-aecb-436d86fde457"
      },
      "outputs": [
        {
          "output_type": "execute_result",
          "data": {
            "text/plain": [
              "True"
            ]
          },
          "metadata": {},
          "execution_count": 37
        }
      ],
      "source": [
        "a = 7\n",
        "b = 2\n",
        "a == b or a >= b # Since at least one of these is true, this will evaluate to True."
      ]
    },
    {
      "cell_type": "markdown",
      "metadata": {
        "id": "h26svSvtS3p1"
      },
      "source": [
        "We can also use parentheses to separate our Boolean expressions. Sometimes this is preferred for aesthetics, to designate the order of operation, or to quickly check that each side of the logical operator is a Boolean expression."
      ]
    },
    {
      "cell_type": "code",
      "execution_count": null,
      "metadata": {
        "colab": {
          "base_uri": "https://localhost:8080/"
        },
        "id": "1Fo0iQXrS3p2",
        "outputId": "c55655f9-5f50-49e5-e509-8110c21efce6"
      },
      "outputs": [
        {
          "output_type": "execute_result",
          "data": {
            "text/plain": [
              "True"
            ]
          },
          "metadata": {},
          "execution_count": 38
        }
      ],
      "source": [
        "(a == b) or (a >= b)  # using parentheses to make the order of operation explicit"
      ]
    },
    {
      "cell_type": "markdown",
      "metadata": {
        "id": "sDJW-DNAS3p3"
      },
      "source": [
        "### `if` Statement"
      ]
    },
    {
      "cell_type": "markdown",
      "metadata": {
        "id": "OnFvu-v8S3p3"
      },
      "source": [
        "Python will execute a program or code snippet in the order it is presented unless told otherwise. To alter this path of execution, we can use one or more `conditional statements` that check the value of a test expression and choose the path of execution based on the Boolean value. The simplest form of conditional statement is the `if` statement with the following syntax:\n",
        "```python\n",
        "if TestExpression:\n",
        "    body_of_if\n",
        "    ...\n",
        "```\n",
        "\n",
        "There can be one statement or multiple statements in the `body_of_if`. The `TestExpression` will be a Boolean expression and the `body_of_if` will only be executed if the Boolean value of that expression is `True`. If it is `False`, Python will skip the body of `if` and jump to the code that follows. If no other lines of code follow this, the program will terminate."
      ]
    },
    {
      "cell_type": "markdown",
      "metadata": {
        "id": "2U3l4hYMS3p4"
      },
      "source": [
        "<div class=\"alert alert-block alert-info\">\n",
        "\n",
        "### Jupyter Notebook will indent for you\n",
        "\n",
        "- After typing in your if statement followed by a colon (:), hit return.\n",
        "- Test this feature in the cell below.   \n",
        "</div>"
      ]
    },
    {
      "cell_type": "code",
      "execution_count": null,
      "metadata": {
        "colab": {
          "base_uri": "https://localhost:8080/"
        },
        "id": "dQZoa_o1S3p4",
        "outputId": "68f7dd99-4d35-4cb5-ae8a-35ad57989090"
      },
      "outputs": [
        {
          "output_type": "stream",
          "name": "stdout",
          "text": [
            "x < y is True\n"
          ]
        }
      ],
      "source": [
        "# Place your cursor at the end of the following line and hit return to see how JN indents for you\n",
        "x = 1\n",
        "y = 2\n",
        "if x < y:\n",
        "  print('x < y is', x < y)\n",
        "\n",
        "# After colon in the if statement, the next line is indented\n"
      ]
    },
    {
      "cell_type": "markdown",
      "metadata": {
        "id": "0LI3wi58S3p5"
      },
      "source": [
        "<div class=\"alert alert-block alert-info\">\n",
        "\n",
        "### Test cases should represent each possible executable path in a conditional:\n",
        "\n",
        "When creating conditionals, it is recommended you try some test cases. This is especially true as you get into more complicated conditionals. A best practice is to have at least one test case per condition to ensure that you have accounted for each possible path. <br><br>\n",
        "For the next two examples, use the following test cases:\n",
        "- Test case 1: Enter 100\n",
        "- Test case 2: Enter a number different than 100\n",
        "</div>"
      ]
    },
    {
      "cell_type": "code",
      "execution_count": null,
      "metadata": {
        "colab": {
          "base_uri": "https://localhost:8080/"
        },
        "id": "zLJddcV6S3p5",
        "outputId": "8dec70df-3a78-45a3-e8ba-0c5c44e7db5e"
      },
      "outputs": [
        {
          "output_type": "stream",
          "name": "stdout",
          "text": [
            "Enter an integer: 100\n",
            "We both picked the number 100!\n"
          ]
        }
      ],
      "source": [
        "my_number = 100\n",
        "\n",
        "your_number = int(input('Enter an integer: '))\n",
        "\n",
        "if your_number == my_number:\n",
        "    print(f'We both picked the number {my_number}!')"
      ]
    },
    {
      "cell_type": "code",
      "source": [
        "my_number = 100\n",
        "\n",
        "your_number = int(input('Enter an integer: '))\n",
        "\n",
        "if your_number == my_number:\n",
        "    print(f'We both picked the number {my_number}!')"
      ],
      "metadata": {
        "colab": {
          "base_uri": "https://localhost:8080/"
        },
        "id": "oC-DqsbFwkiY",
        "outputId": "74915341-994c-40d7-b9c4-19bfad895f41"
      },
      "execution_count": null,
      "outputs": [
        {
          "name": "stdout",
          "output_type": "stream",
          "text": [
            "Enter an integer: 200\n"
          ]
        }
      ]
    },
    {
      "cell_type": "markdown",
      "metadata": {
        "id": "mlZaJHkYS3p6"
      },
      "source": [
        "Notice in the previous example there is no output if you enter a number other than 100. We can add some code to the end to have Python do something else even if the `body_of_if` is not executed. To do this, we need to put any additional lines of code outside of the `if` structure."
      ]
    },
    {
      "cell_type": "code",
      "execution_count": null,
      "metadata": {
        "colab": {
          "base_uri": "https://localhost:8080/"
        },
        "id": "qyJ-F31ES3p6",
        "outputId": "91b4f544-9423-4344-9d2b-45fd607fb160"
      },
      "outputs": [
        {
          "output_type": "stream",
          "name": "stdout",
          "text": [
            "Enter an integer: 200\n",
            "Have a nice day!\n"
          ]
        }
      ],
      "source": [
        "my_number = 100\n",
        "\n",
        "your_number = int(input('Enter an integer: '))\n",
        "\n",
        "if your_number == my_number:\n",
        "    print(f'We both picked the number {my_number}!')\n",
        "\n",
        "print(\"Have a nice day!\")"
      ]
    },
    {
      "cell_type": "markdown",
      "metadata": {
        "id": "GLU3NMRGS3p6"
      },
      "source": [
        "In the previous example, the print statement outside of the `body_of_if` will print regardless of the value of the `TestExpression`."
      ]
    },
    {
      "cell_type": "markdown",
      "metadata": {
        "id": "jqj_Q1jJS3p7"
      },
      "source": [
        "### `if/else` Statement"
      ]
    },
    {
      "cell_type": "markdown",
      "metadata": {
        "id": "ubtzpY3kS3p7"
      },
      "source": [
        "We can also build on the basic `if` statement by adding an `else` clause. The basic syntax of an `if/else` statement looks like this:\n",
        "```python\n",
        "if TestExpression:\n",
        "    body_of_if\n",
        "else:\n",
        "    body_of_else\n",
        "```"
      ]
    },
    {
      "cell_type": "markdown",
      "metadata": {
        "id": "Vy0clWXsS3p8"
      },
      "source": [
        "If the `TestExpression` for `if` is `True`, then the `body_of_if` will be executed. Otherwise, the `body_of_else` will be executed. As with the `body_of_if`, the `body_of_else` can have one or multiple statements."
      ]
    },
    {
      "cell_type": "markdown",
      "metadata": {
        "id": "iE1V92VnS3p9"
      },
      "source": [
        "We can also use the built-in **`in`** operator in conjunction with a list to determine if an element is in that list. If the element is in the list, the Boolean expression evaluates to `True` and if not, it evaluates to `False`."
      ]
    },
    {
      "cell_type": "markdown",
      "metadata": {
        "id": "0XuZIiJrS3p9"
      },
      "source": [
        "<div class=\"alert alert-block alert-info\">\n",
        "\n",
        "For the next example, use the following test cases:<br>\n",
        "- Test case 1: Enter <mark>salmon</mark>\n",
        "- Test case 2: Enter <mark>bananas</mark>\n",
        "</div>"
      ]
    },
    {
      "cell_type": "code",
      "execution_count": null,
      "metadata": {
        "colab": {
          "base_uri": "https://localhost:8080/"
        },
        "id": "HPSTev2bS3p9",
        "outputId": "b8424eff-036d-4d5d-edfb-066658fa7687"
      },
      "outputs": [
        {
          "output_type": "stream",
          "name": "stdout",
          "text": [
            "Enter an item you need from the grocery: salmon\n",
            "That's on my list.\n",
            "Let me know if you need anything else.\n"
          ]
        }
      ],
      "source": [
        "groceries = ['apples', 'spinach', 'strawberries', 'salmon', 'rice', 'olive oil', 'tissues']\n",
        "\n",
        "food = input('Enter an item you need from the grocery: ')\n",
        "\n",
        "if food in groceries:\n",
        "    print(\"That's on my list.\")\n",
        "\n",
        "else:\n",
        "    print(\"I'll add that to my list\")\n",
        "\n",
        "print('Let me know if you need anything else.')"
      ]
    },
    {
      "cell_type": "code",
      "source": [
        "groceries = ['apples', 'spinach', 'strawberries', 'salmon', 'rice', 'olive oil', 'tissues']\n",
        "\n",
        "food = input('Enter an item you need from the grocery: ')\n",
        "\n",
        "if food in groceries:\n",
        "    print(\"That's on my list.\")\n",
        "\n",
        "else:\n",
        "    print(\"I'll add that to my list\")\n",
        "\n",
        "print('Let me know if you need anything else.')"
      ],
      "metadata": {
        "colab": {
          "base_uri": "https://localhost:8080/"
        },
        "id": "C-WEbCSew0N2",
        "outputId": "1d19e152-ed78-403d-d059-f17b5fe1e1d9"
      },
      "execution_count": null,
      "outputs": [
        {
          "output_type": "stream",
          "name": "stdout",
          "text": [
            "Enter an item you need from the grocery: bananas\n",
            "I'll add that to my list\n",
            "Let me know if you need anything else.\n"
          ]
        }
      ]
    },
    {
      "cell_type": "markdown",
      "metadata": {
        "id": "ZzbiIUw2S3p9"
      },
      "source": [
        "Below is an example that uses the comparison operator **`or`** in the test expression. Notice the each side of **`or`** is a Boolean expression. In particular, had this been `if pet == 'y'` **or** `'Y'`, an error would be generated since the right side `'Y'` would not be a Boolean expression."
      ]
    },
    {
      "cell_type": "markdown",
      "metadata": {
        "id": "Jz1-8k-4S3p9"
      },
      "source": [
        "<div class=\"alert alert-block alert-info\">\n",
        "\n",
        "For the next example, use the following test cases:<br>\n",
        "- Test case 1: Enter <mark>y</mark> then any (lowercase) pet name<br>\n",
        "- Test case 2: Enter <mark>Y</mark> then any pet name<br>\n",
        "- Test case 3: Enter anything other than <mark>y</mark> or <mark>Y</mark>\n",
        "</div>"
      ]
    },
    {
      "cell_type": "code",
      "execution_count": null,
      "metadata": {
        "colab": {
          "base_uri": "https://localhost:8080/"
        },
        "id": "0hGH6ekyS3p9",
        "outputId": "0e8f4933-dcfc-4810-e98f-4cb7c04ec195"
      },
      "outputs": [
        {
          "output_type": "stream",
          "name": "stdout",
          "text": [
            "Do you have a pet (Y or N)? y\n",
            "What is your pet's name? tommy\n",
            "Tommy is a great name for a pet!\n"
          ]
        }
      ],
      "source": [
        "pet = input('Do you have a pet (Y or N)? ')\n",
        "\n",
        "if pet == 'y' or pet =='Y':\n",
        "    p_name = input(\"What is your pet's name? \")\n",
        "    pet_name = p_name.capitalize()\n",
        "    print(f'{pet_name} is a great name for a pet!')\n",
        "else:\n",
        "    print(\"Maybe someday you'll get a pet.\")"
      ]
    },
    {
      "cell_type": "code",
      "source": [
        "pet = input('Do you have a pet (Y or N)? ')\n",
        "\n",
        "if pet == 'y' or pet =='Y':\n",
        "    p_name = input(\"What is your pet's name? \")\n",
        "    pet_name = p_name.capitalize()\n",
        "    print(f'{pet_name} is a great name for a pet!')\n",
        "else:\n",
        "    print(\"Maybe someday you'll get a pet.\")"
      ],
      "metadata": {
        "colab": {
          "base_uri": "https://localhost:8080/"
        },
        "id": "BQMjwaN-w-KE",
        "outputId": "47ff8935-4f8e-4939-e113-8f26523187c4"
      },
      "execution_count": null,
      "outputs": [
        {
          "output_type": "stream",
          "name": "stdout",
          "text": [
            "Do you have a pet (Y or N)? Y\n",
            "What is your pet's name? TIMMY\n",
            "Timmy is a great name for a pet!\n"
          ]
        }
      ]
    },
    {
      "cell_type": "code",
      "source": [
        "pet = input('Do you have a pet (Y or N)? ')\n",
        "\n",
        "if pet == 'y' or pet =='Y':\n",
        "    p_name = input(\"What is your pet's name? \")\n",
        "    pet_name = p_name.capitalize()\n",
        "    print(f'{pet_name} is a great name for a pet!')\n",
        "else:\n",
        "    print(\"Maybe someday you'll get a pet.\")"
      ],
      "metadata": {
        "colab": {
          "base_uri": "https://localhost:8080/"
        },
        "id": "aBxwKbwzw_DQ",
        "outputId": "0a9093c5-e94e-4f8c-8bc2-e46ad746e968"
      },
      "execution_count": null,
      "outputs": [
        {
          "output_type": "stream",
          "name": "stdout",
          "text": [
            "Do you have a pet (Y or N)? a\n",
            "Maybe someday you'll get a pet.\n"
          ]
        }
      ]
    },
    {
      "cell_type": "markdown",
      "metadata": {
        "id": "PPT3Ik28S3p-"
      },
      "source": [
        "With the logical operator **`or`**, only one of the Boolean expressions needs to be `True` for the entire `TestExpression` to evaluate to `True`. So, the `TestExpression` will only be `False` if **both** expressions are `False`. In the case of the logical operator **`and`**, both but must be `True` for the entire expression to evaluate to `True`. So, the expression will evaluate to `False` if one or both of the Boolean expressions is `False`."
      ]
    },
    {
      "cell_type": "markdown",
      "metadata": {
        "id": "aGLkALWvS3p-"
      },
      "source": [
        "<div class=\"alert alert-block alert-info\">\n",
        "\n",
        "For the next example, use the following test cases:<br>\n",
        "- Test case 1: Enter <mark>2</mark> then <mark>8</mark>\n",
        "- Test case 2: Enter <mark>2</mark> then any number between 5 and 10 other than <mark>8</mark><br>\n",
        "- Test case 3: Enter a number between 0 and 5 other than 2. Then enter <mark>8</mark><br>\n",
        "- Test case 4: Enter anything other than <mark>2</mark> and <mark>8</mark>\n",
        "</div>"
      ]
    },
    {
      "cell_type": "code",
      "execution_count": null,
      "metadata": {
        "colab": {
          "base_uri": "https://localhost:8080/"
        },
        "id": "IL_5zxJCS3p-",
        "outputId": "a6eb5322-3029-4e14-8aba-b4a26870bde3"
      },
      "outputs": [
        {
          "output_type": "stream",
          "name": "stdout",
          "text": [
            "Pick an integer greater than 0 but less than 5: 2\n",
            "Pick an integer greater than 5 but less than 10: 8\n",
            "You win!\n"
          ]
        }
      ],
      "source": [
        "num1 = int(input('Pick an integer greater than 0 but less than 5: '))\n",
        "num2 = int(input('Pick an integer greater than 5 but less than 10: '))\n",
        "\n",
        "num_a = 2\n",
        "num_b = 8\n",
        "\n",
        "if num1 == num_a and num2 == num_b:\n",
        "    print('You win!')\n",
        "\n",
        "else:\n",
        "    print(f\"I'm sorry. The winning numbers were {num_a} and {num_b}.\")"
      ]
    },
    {
      "cell_type": "code",
      "source": [
        "num1 = int(input('Pick an integer greater than 0 but less than 5: '))\n",
        "num2 = int(input('Pick an integer greater than 5 but less than 10: '))\n",
        "\n",
        "num_a = 2\n",
        "num_b = 8\n",
        "\n",
        "if num1 == num_a and num2 == num_b:\n",
        "    print('You win!')\n",
        "\n",
        "else:\n",
        "    print(f\"I'm sorry. The winning numbers were {num_a} and {num_b}.\")"
      ],
      "metadata": {
        "colab": {
          "base_uri": "https://localhost:8080/"
        },
        "id": "RYW-7mjYxQp0",
        "outputId": "eaf27445-151f-4c70-959d-a8cd049151cf"
      },
      "execution_count": null,
      "outputs": [
        {
          "output_type": "stream",
          "name": "stdout",
          "text": [
            "Pick an integer greater than 0 but less than 5: 2\n",
            "Pick an integer greater than 5 but less than 10: 9\n",
            "I'm sorry. The winning numbers were 2 and 8.\n"
          ]
        }
      ]
    },
    {
      "cell_type": "code",
      "source": [
        "num1 = int(input('Pick an integer greater than 0 but less than 5: '))\n",
        "num2 = int(input('Pick an integer greater than 5 but less than 10: '))\n",
        "\n",
        "num_a = 2\n",
        "num_b = 8\n",
        "\n",
        "if num1 == num_a and num2 == num_b:\n",
        "    print('You win!')\n",
        "\n",
        "else:\n",
        "    print(f\"I'm sorry. The winning numbers were {num_a} and {num_b}.\")"
      ],
      "metadata": {
        "colab": {
          "base_uri": "https://localhost:8080/"
        },
        "id": "7clb3FAXxRor",
        "outputId": "ed3d2cc7-5fa3-42d4-853e-d1a816ea12a4"
      },
      "execution_count": null,
      "outputs": [
        {
          "output_type": "stream",
          "name": "stdout",
          "text": [
            "Pick an integer greater than 0 but less than 5: 1\n",
            "Pick an integer greater than 5 but less than 10: 8\n",
            "I'm sorry. The winning numbers were 2 and 8.\n"
          ]
        }
      ]
    },
    {
      "cell_type": "code",
      "source": [
        "num1 = int(input('Pick an integer greater than 0 but less than 5: '))\n",
        "num2 = int(input('Pick an integer greater than 5 but less than 10: '))\n",
        "\n",
        "num_a = 2\n",
        "num_b = 8\n",
        "\n",
        "if num1 == num_a and num2 == num_b:\n",
        "    print('You win!')\n",
        "\n",
        "else:\n",
        "    print(f\"I'm sorry. The winning numbers were {num_a} and {num_b}.\")"
      ],
      "metadata": {
        "colab": {
          "base_uri": "https://localhost:8080/"
        },
        "id": "EHolIXk2xSRY",
        "outputId": "723d616d-022a-424d-9782-ac72ce1f39a3"
      },
      "execution_count": null,
      "outputs": [
        {
          "output_type": "stream",
          "name": "stdout",
          "text": [
            "Pick an integer greater than 0 but less than 5: 3\n",
            "Pick an integer greater than 5 but less than 10: 7\n",
            "I'm sorry. The winning numbers were 2 and 8.\n"
          ]
        }
      ]
    },
    {
      "cell_type": "markdown",
      "metadata": {
        "id": "Mkc6ZyaPS3p-"
      },
      "source": [
        "<div class=\"alert alert-block alert-success\"><b>Problem 2 (3 pts.)</b>: According to the syllabus for this class, any score less than 70 is a failing grade. Based on this, create a program to do the following:<br><br>\n",
        "1. Prompt the user for a score.<br>\n",
        "2. Create a simple <mark>if/else</mark> structure to inform the user if they passed or failed by displaying one of the messages shown below this cell.<br><br>\n",
        "    <font color=b><i><u>Be sure to follow the <b>#TODO</b> instuctions in the cell provided.</u></i></font>\n",
        "</div>"
      ]
    },
    {
      "cell_type": "markdown",
      "metadata": {
        "id": "8oJcvCj-S3p-"
      },
      "source": [
        "`What score did you earn for the class? 70.1\n",
        "Congratulations! You passed the class!`"
      ]
    },
    {
      "cell_type": "markdown",
      "metadata": {
        "id": "qX4KXzt4S3p_"
      },
      "source": [
        "`What score did you earn for the class? 70\n",
        "Congratulations! You passed the class!`"
      ]
    },
    {
      "cell_type": "markdown",
      "metadata": {
        "id": "WZn3Nm3rS3p_"
      },
      "source": [
        "`What score did you earn for the class? 69.9\n",
        "I'm sorry but you will need to retake the class.`"
      ]
    },
    {
      "cell_type": "markdown",
      "metadata": {
        "id": "WXPATzv1S3p_"
      },
      "source": [
        "<div class=\"alert alert-block alert-info\">\n",
        "\n",
        "### Test cases for Problem 2:\n",
        "- Test case 1: Enter 70.1\n",
        "- Test case 2: Enter 70\n",
        "- Test case 3: Enter 69.9<br><br>\n",
        "<font color=b><b><u>Show all three cases by copying and pasting your code into additional cells</u></b></font>\n",
        "</div>"
      ]
    },
    {
      "cell_type": "code",
      "execution_count": null,
      "metadata": {
        "colab": {
          "base_uri": "https://localhost:8080/"
        },
        "id": "XrMeuWcyS3p_",
        "outputId": "ba5148b7-ae5c-4b2c-e868-6a6f55245822"
      },
      "outputs": [
        {
          "output_type": "stream",
          "name": "stdout",
          "text": [
            "What score did you earn for the class? 70.1\n",
            "Congratulations! You passed the class!\n"
          ]
        }
      ],
      "source": [
        "#TODO: Prompt the user for their score for the class\n",
        "score = float(input('What score did you earn for the class? '))\n",
        "\n",
        "#TODO: Create a simple if/else that generates each of the sample messages shown above.\n",
        "if score >= 70:\n",
        "  print('Congratulations! You passed the class!')\n",
        "else:\n",
        "  print('I\\'m sorry but you will need to retake the class.')\n"
      ]
    },
    {
      "cell_type": "code",
      "source": [
        "#TODO: Prompt the user for their score for the class\n",
        "score = float(input('What score did you earn for the class? '))\n",
        "\n",
        "# Testing for score 70\n",
        "if score >= 70:\n",
        "  print('Congratulations! You passed the class!')\n",
        "else:\n",
        "  print('I\\'m sorry but you will need to retake the class.')"
      ],
      "metadata": {
        "colab": {
          "base_uri": "https://localhost:8080/"
        },
        "id": "vUbHPYeshXuN",
        "outputId": "2f4eaa58-b838-4350-c37f-905f2d11c6f0"
      },
      "execution_count": null,
      "outputs": [
        {
          "output_type": "stream",
          "name": "stdout",
          "text": [
            "What score did you earn for the class? 70\n",
            "Congratulations! You passed the class!\n"
          ]
        }
      ]
    },
    {
      "cell_type": "code",
      "source": [
        "#TODO: Prompt the user for their score for the class\n",
        "score = float(input('What score did you earn for the class? '))\n",
        "\n",
        "# Testing for score < 70\n",
        "if score >= 70:\n",
        "  print('Congratulations! You passed the class!')\n",
        "else:\n",
        "  print('I\\'m sorry but you will need to retake the class.')"
      ],
      "metadata": {
        "colab": {
          "base_uri": "https://localhost:8080/"
        },
        "id": "24EboPXghX2x",
        "outputId": "3699a6ce-1d62-416c-c5aa-4e8a0545c3c5"
      },
      "execution_count": null,
      "outputs": [
        {
          "output_type": "stream",
          "name": "stdout",
          "text": [
            "What score did you earn for the class? 69.9\n",
            "I'm sorry but you will need to retake the class.\n"
          ]
        }
      ]
    },
    {
      "cell_type": "markdown",
      "metadata": {
        "id": "J40jiSi0S3p_"
      },
      "source": [
        "### `if/elif/else` Statement"
      ]
    },
    {
      "cell_type": "markdown",
      "metadata": {
        "id": "PwWQ6fBAS3p_"
      },
      "source": [
        "Often times we need an additional `TestExpression` to change the path of execution and to account for every scenario. One way to do this is to use the `if/elif/else` statement. The general syntax looks like this:\n",
        "```python\n",
        "if TestExpression1:\n",
        "    body_of_if\n",
        "elif TestExpression2:\n",
        "    body_of_elif\n",
        "else:\n",
        "    body_of_else\n",
        "```"
      ]
    },
    {
      "cell_type": "markdown",
      "metadata": {
        "id": "xkCAHLEMS3p_"
      },
      "source": [
        "Some things to make a note of here are that as with `if` and `if/else`, the bodies of each of these can have any number of statements. Also, there can be multiple `elif` statements and Python will test their conditions in the order they appear. If an `elif` test expression is `True`, then all other `elif` clauses will be skipped. Lastly, the `else` clause is optional but if it is present, there can only be one and it must come at the end of the `if/elif/else` statement."
      ]
    },
    {
      "cell_type": "markdown",
      "metadata": {
        "id": "el8CiPyBS3qA"
      },
      "source": [
        "<div class=\"alert alert-block alert-info\">\n",
        "\n",
        "For the next example, use the following test cases:<br>\n",
        "- Test case 1: Enter <mark>2</mark> then <mark>8</mark>\n",
        "- Test case 2: Enter <mark>2</mark> then any number between 5 and 10 other than <mark>8</mark><br>\n",
        "- Test case 3: Enter a number between 0 and 5 other than 2. Then enter <mark>8</mark><br>\n",
        "- Test case 4: Enter anything other than <mark>2</mark> and <mark>8</mark>\n",
        "</div>"
      ]
    },
    {
      "cell_type": "code",
      "execution_count": null,
      "metadata": {
        "colab": {
          "base_uri": "https://localhost:8080/"
        },
        "id": "LBpCi4WMS3qA",
        "outputId": "2b2c0983-f3be-4d0e-8fab-8e1f5dbe2657"
      },
      "outputs": [
        {
          "output_type": "stream",
          "name": "stdout",
          "text": [
            "Pick an integer greater than 0 but less than 5: 2\n",
            "Pick an integer greater than 5 but less than 10: 8\n",
            "You win!\n"
          ]
        }
      ],
      "source": [
        "num1 = int(input('Pick an integer greater than 0 but less than 5: '))\n",
        "num2 = int(input('Pick an integer greater than 5 but less than 10: '))\n",
        "\n",
        "num_a = 2\n",
        "num_b = 8\n",
        "\n",
        "if num1 == num_a and num2 == num_b:\n",
        "    print('You win!')\n",
        "\n",
        "elif num1 == num_a:\n",
        "    print(f\"You're close. You guessed {num_a} correctly.\")\n",
        "    print('Maybe next time.')\n",
        "\n",
        "elif num2 == num_b:\n",
        "    print(f\"You're close. You guessed {num_b} correctly.\")\n",
        "    print('This is fun!')\n",
        "\n",
        "else:\n",
        "    print(f\"I'm sorry. The winning numbers were {num_a} and {num_b}.\")"
      ]
    },
    {
      "cell_type": "code",
      "source": [
        "num1 = int(input('Pick an integer greater than 0 but less than 5: '))\n",
        "num2 = int(input('Pick an integer greater than 5 but less than 10: '))\n",
        "\n",
        "num_a = 2\n",
        "num_b = 8\n",
        "\n",
        "if num1 == num_a and num2 == num_b:\n",
        "    print('You win!')\n",
        "\n",
        "elif num1 == num_a:\n",
        "    print(f\"You're close. You guessed {num_a} correctly.\")\n",
        "    print('Maybe next time.')\n",
        "\n",
        "elif num2 == num_b:\n",
        "    print(f\"You're close. You guessed {num_b} correctly.\")\n",
        "    print('This is fun!')\n",
        "\n",
        "else:\n",
        "    print(f\"I'm sorry. The winning numbers were {num_a} and {num_b}.\")"
      ],
      "metadata": {
        "colab": {
          "base_uri": "https://localhost:8080/"
        },
        "id": "nBlqRV-px6Hh",
        "outputId": "100449b7-172c-4494-c3d4-b9b47a4a65c4"
      },
      "execution_count": null,
      "outputs": [
        {
          "output_type": "stream",
          "name": "stdout",
          "text": [
            "Pick an integer greater than 0 but less than 5: 2\n",
            "Pick an integer greater than 5 but less than 10: 9\n",
            "You're close. You guessed 2 correctly.\n",
            "Maybe next time.\n"
          ]
        }
      ]
    },
    {
      "cell_type": "code",
      "source": [
        "num1 = int(input('Pick an integer greater than 0 but less than 5: '))\n",
        "num2 = int(input('Pick an integer greater than 5 but less than 10: '))\n",
        "\n",
        "num_a = 2\n",
        "num_b = 8\n",
        "\n",
        "if num1 == num_a and num2 == num_b:\n",
        "    print('You win!')\n",
        "\n",
        "elif num1 == num_a:\n",
        "    print(f\"You're close. You guessed {num_a} correctly.\")\n",
        "    print('Maybe next time.')\n",
        "\n",
        "elif num2 == num_b:\n",
        "    print(f\"You're close. You guessed {num_b} correctly.\")\n",
        "    print('This is fun!')\n",
        "\n",
        "else:\n",
        "    print(f\"I'm sorry. The winning numbers were {num_a} and {num_b}.\")"
      ],
      "metadata": {
        "colab": {
          "base_uri": "https://localhost:8080/"
        },
        "id": "9RFuU9ZFx68f",
        "outputId": "4004d2b9-a4ec-432d-d820-ab298f25d720"
      },
      "execution_count": null,
      "outputs": [
        {
          "output_type": "stream",
          "name": "stdout",
          "text": [
            "Pick an integer greater than 0 but less than 5: 1\n",
            "Pick an integer greater than 5 but less than 10: 8\n",
            "You're close. You guessed 8 correctly.\n",
            "This is fun!\n"
          ]
        }
      ]
    },
    {
      "cell_type": "code",
      "source": [
        "num1 = int(input('Pick an integer greater than 0 but less than 5: '))\n",
        "num2 = int(input('Pick an integer greater than 5 but less than 10: '))\n",
        "\n",
        "num_a = 2\n",
        "num_b = 8\n",
        "\n",
        "if num1 == num_a and num2 == num_b:\n",
        "    print('You win!')\n",
        "\n",
        "elif num1 == num_a:\n",
        "    print(f\"You're close. You guessed {num_a} correctly.\")\n",
        "    print('Maybe next time.')\n",
        "\n",
        "elif num2 == num_b:\n",
        "    print(f\"You're close. You guessed {num_b} correctly.\")\n",
        "    print('This is fun!')\n",
        "\n",
        "else:\n",
        "    print(f\"I'm sorry. The winning numbers were {num_a} and {num_b}.\")"
      ],
      "metadata": {
        "colab": {
          "base_uri": "https://localhost:8080/"
        },
        "id": "Ua-Acp9MyFqU",
        "outputId": "c9dcd149-32a8-4ba5-8440-c3b5812179ce"
      },
      "execution_count": null,
      "outputs": [
        {
          "output_type": "stream",
          "name": "stdout",
          "text": [
            "Pick an integer greater than 0 but less than 5: 1\n",
            "Pick an integer greater than 5 but less than 10: 6\n",
            "I'm sorry. The winning numbers were 2 and 8.\n"
          ]
        }
      ]
    },
    {
      "cell_type": "markdown",
      "metadata": {
        "id": "QTjfqFHkS3qA"
      },
      "source": [
        "Now that we know the code above is working, we could create a simple game with this. Our game would generate two  random numbers instead of fixing the two numbers, then compare those to the user's input."
      ]
    },
    {
      "cell_type": "code",
      "execution_count": null,
      "metadata": {
        "colab": {
          "base_uri": "https://localhost:8080/"
        },
        "id": "cKl9xnv5S3qA",
        "outputId": "ebd0da17-b91b-43f3-cb1c-a5a5f3fbb4c6"
      },
      "outputs": [
        {
          "output_type": "stream",
          "name": "stdout",
          "text": [
            "Pick an integer greater than 0 but less than 5: 1\n",
            "Pick an integer greater than 5 but less than 10: 9\n",
            "I'm sorry. The winning numbers were 4 and 7.\n",
            "Play again!\n"
          ]
        }
      ],
      "source": [
        "import random\n",
        "\n",
        "num1 = int(input('Pick an integer greater than 0 but less than 5: '))\n",
        "num2 = int(input('Pick an integer greater than 5 but less than 10: '))\n",
        "\n",
        "num_a = random.randrange(1,5)\n",
        "num_b = random.randrange(6,10)\n",
        "\n",
        "if num1 == num_a and num2 == num_b:\n",
        "    print('You win!')\n",
        "\n",
        "elif num1 == num_a:\n",
        "    print(f\"You're close. You guessed {num_a} correctly.\")\n",
        "    print('Maybe next time.')\n",
        "\n",
        "elif num2 == num_b:\n",
        "    print(f\"You're close. You guessed {num_b} correctly.\")\n",
        "    print('This is fun!')\n",
        "\n",
        "else:\n",
        "    print(f\"I'm sorry. The winning numbers were {num_a} and {num_b}.\")\n",
        "\n",
        "print('Play again!')"
      ]
    },
    {
      "cell_type": "markdown",
      "metadata": {
        "id": "pmX5vPrOS3qA"
      },
      "source": [
        "### Mathematical Formula for Problem 3"
      ]
    },
    {
      "cell_type": "markdown",
      "metadata": {
        "id": "s-JmEmaKS3qA"
      },
      "source": [
        "Last week you created a program to calculate a loan payment based on a purchase price. For this next problem we will calculate an amount that can be borrowed based on a monthly payment provided. The formula you will need for this calculation along with an example are provided below. For simplicity, we will assume payments will be made monthly and the interest will be compounded monthly.\n",
        "\n",
        "Use the following formula to calculate the loan amount:\n",
        "\\begin{equation}\n",
        "P = M\\left[ \\frac{\\left( 1+r\\right)^n-1}{r\\left( 1+r\\right)^n} \\right]\n",
        "\\end{equation}\n",
        "\n",
        "The variables are defined as follows:<br><br>\n",
        "\\$ r\\$ = The annual interest rate converted to a decimal then divided by \\$ 12\\$<br>\n",
        "\\$ n\\$ = The total number of monthly payments for the duration of the loan<br>\n",
        "\\$P \\$ = The principal (or loan) amount<br>\n",
        "\\$M \\$ = The monthly payment"
      ]
    },
    {
      "cell_type": "markdown",
      "metadata": {
        "id": "OuPjBJG3S3qB"
      },
      "source": [
        "For example, to calculate how much you can borrow for 6 years with a monthly payment of 800 dollars and an annual interest rate of 3\\%, the variable amounts would be:<br><br>\n",
        "\\$ r =\\$ 0.03/12 = 0.0025<br>\n",
        "\\$ n =\\$ 72<br>\n",
        "\\$ M =\\$ 800<br>\n",
        "\n",
        "This will result in a loan amount of \\$ P =\\$ 52,653."
      ]
    },
    {
      "cell_type": "markdown",
      "metadata": {
        "id": "bAaYAcO-S3qB"
      },
      "source": [
        "<div class=\"alert alert-block alert-success\"><b>Problem 3 (8 pts.)</b>: You would like to buy a new house but you have certain must-haves to consider looking at a new home. You have a maximum monthly mortgage payment you are willing to make and you need a certain minimum number of bedrooms. For this next problem, complete the following steps to determine if a home is worth looking at:<br><br>\n",
        "1. Prompt the user to enter the maximum monthly payment they can afford.<br>\n",
        "2. Prompt the user to enter the price of a home that they're considering looking at.<br>\n",
        "3. Prompt the user to enter the minimum number of bedrooms they would like in their home.<br>\n",
        "4. Prompt the user to enter the number of bedrooms the house has.<br>\n",
        "5. Using the monthly payment the user entered, calculate the amount they can afford to borrow based on a 30-year fixed mortgage at 6.5% interest.<br>\n",
        "6. Create an <mark>if/elif/else</mark> structure that compares the parameters of the house the user would like to tour with their preferences and displays the appropriate message shown below.<br><br>\n",
        "<font color=black><i><u>Be sure to complete each <b>#TODO</b> statement as indicated in the cell provided.</u></i></font>\n",
        "</div>"
      ]
    },
    {
      "cell_type": "markdown",
      "metadata": {
        "id": "FfLVns4TS3qB"
      },
      "source": [
        "<b>Test case 1:</b><br>\n",
        "`What is the maximum monthly payment you can afford? 1800\n",
        "What is the price of the home you would like to tour? 250000\n",
        "What is the minimum number of bedrooms you would like? 3\n",
        "What is the number of bedrooms in the house you are considering? 3\n",
        "This property is affordable and has enough bedrooms.`"
      ]
    },
    {
      "cell_type": "markdown",
      "metadata": {
        "id": "Vvou629qS3qB"
      },
      "source": [
        "<b>Test case 2:</b><br>\n",
        "`What is the maximum monthly payment you can afford? 1800\n",
        "What is the price of the home you would like to tour? 250000\n",
        "What is the minimum number of bedrooms you would like? 3\n",
        "What is the number of bedrooms in the house you are considering? 2\n",
        "This property is affordable but 2 bedrooms is not enough.`"
      ]
    },
    {
      "cell_type": "markdown",
      "metadata": {
        "id": "uLbzDyOAS3qB"
      },
      "source": [
        "<b>Test case 3:</b><br>\n",
        "`What is the maximum monthly payment you can afford? 1800\n",
        "What is the price of the home you would like to tour? 300000\n",
        "What is the minimum number of bedrooms you would like? 3\n",
        "What is the number of bedrooms in the house you are considering? 4\n",
        "This property has enough bedrooms but is not affordable. You can only borrow $284779.00.`"
      ]
    },
    {
      "cell_type": "markdown",
      "metadata": {
        "id": "1dpoEQjWS3qB"
      },
      "source": [
        "<b>Test case 4:</b><br>\n",
        "`What is the maximum monthly payment you can afford? 1800\n",
        "What is the price of the home you would like to tour? 300000\n",
        "What is the minimum number of bedrooms you would like? 3\n",
        "What is the number of bedrooms in the house you are considering? 2\n",
        "This property is not affordable and doesn't have enough bedrooms.`"
      ]
    },
    {
      "cell_type": "markdown",
      "metadata": {
        "id": "Kmd4Qo27S3qB"
      },
      "source": [
        "<div class=\"alert alert-block alert-info\">\n",
        "\n",
        "### Test cases for Problem 3:\n",
        "- Test case 1: 1800, 250000, 3, 3\n",
        "- Test case 2: 1800, 250000, 3, 2\n",
        "- Test case 3: 1800, 300000, 3, 4 (<font color=b><b><u>show this one in your final JN</u></b></font>)\n",
        "- Test case 4: 1800, 300000, 3, 2    \n",
        "</div>"
      ]
    },
    {
      "cell_type": "code",
      "execution_count": 3,
      "metadata": {
        "scrolled": true,
        "id": "Acy7Ub66S3qC",
        "colab": {
          "base_uri": "https://localhost:8080/"
        },
        "outputId": "640ea571-b841-4b92-bcb3-e0ac85ea347f"
      },
      "outputs": [
        {
          "output_type": "stream",
          "name": "stdout",
          "text": [
            "Enter the maximum monthly payment you can afford: 1800\n",
            "Enter the price of the home you're considering looking at: 250000\n",
            "Enter the minimum number of bedrooms you would like in your home: 3\n",
            "Enter the number of bedrooms the house has: 3\n",
            "This property is affordable and has enough bedrooms.\n"
          ]
        }
      ],
      "source": [
        "#TODO: Create the first 4 prompts listed in the instructions for this problem\n",
        "M = float(input(\"Enter the maximum monthly payment you can afford: \"))\n",
        "home_price = float(input(\"Enter the price of the home you're considering looking at: \"))\n",
        "min_bedrooms = int(input(\"Enter the minimum number of bedrooms you would like in your home: \"))\n",
        "home_bedrooms = int(input(\"Enter the number of bedrooms the house has: \"))\n",
        "\n",
        "#TODO: Calculate the amount the user can borrow based on the payment entered. Assume a 30-year fixed\n",
        "# mortgage at 6.5%\n",
        "rate = 6.5\n",
        "r = rate / 12 / 100\n",
        "n = 30 * 12\n",
        "P = M * (((1+r)**n) - 1) / ((r*(1+r)**n))\n",
        "\n",
        "#TODO: Notice there are four different messages that can be displayed to the user and they vary based on\n",
        "# the user input. Create an if/elif/else structure that will accommodate all four test cases shown above.\n",
        "if home_price <= P and home_bedrooms >= min_bedrooms:\n",
        "  print(\"This property is affordable and has enough bedrooms.\")\n",
        "elif home_price <= P and home_bedrooms < min_bedrooms:\n",
        "  print(f\"This property is affordable but {home_bedrooms} bedrooms is not enough.\")\n",
        "elif home_price > P and home_bedrooms >= min_bedrooms:\n",
        "  print(f\"This property has enough bedrooms but is not affordable. You can only borrow ${P:.2f}.\")\n",
        "else:\n",
        "  print(\"This property is not affordable and doesn't have enough bedrooms.\")"
      ]
    },
    {
      "cell_type": "code",
      "source": [
        "#TODO: Create the first 4 prompts listed in the instructions for this problem\n",
        "M = float(input(\"Enter the maximum monthly payment you can afford: \"))\n",
        "home_price = float(input(\"Enter the price of the home you're considering looking at: \"))\n",
        "min_bedrooms = int(input(\"Enter the minimum number of bedrooms you would like in your home: \"))\n",
        "home_bedrooms = int(input(\"Enter the number of bedrooms the house has: \"))\n",
        "\n",
        "#TODO: Calculate the amount the user can borrow based on the payment entered. Assume a 30-year fixed\n",
        "# mortgage at 6.5%\n",
        "rate = 6.5\n",
        "r = rate / 12 / 100\n",
        "n = 30 * 12\n",
        "P = M * (((1+r)**n) - 1) / ((r*(1+r)**n))\n",
        "\n",
        "#TODO: Notice there are four different messages that can be displayed to the user and they vary based on\n",
        "# the user input. Create an if/elif/else structure that will accommodate all four test cases shown above.\n",
        "if home_price <= P and home_bedrooms >= min_bedrooms:\n",
        "  print(\"This property is affordable and has enough bedrooms.\")\n",
        "elif home_price <= P and home_bedrooms < min_bedrooms:\n",
        "  print(f\"This property is affordable but {home_bedrooms} bedrooms is not enough.\")\n",
        "elif home_price > P and home_bedrooms >= min_bedrooms:\n",
        "  print(f\"This property has enough bedrooms but is not affordable. You can only borrow ${P:.2f}.\")\n",
        "else:\n",
        "  print(\"This property is not affordable and doesn't have enough bedrooms.\")"
      ],
      "metadata": {
        "colab": {
          "base_uri": "https://localhost:8080/"
        },
        "id": "n49s1H1mta8D",
        "outputId": "c58b76bb-9efa-48ae-d384-7cb81d65602c"
      },
      "execution_count": 4,
      "outputs": [
        {
          "output_type": "stream",
          "name": "stdout",
          "text": [
            "Enter the maximum monthly payment you can afford: 1800\n",
            "Enter the price of the home you're considering looking at: 250000\n",
            "Enter the minimum number of bedrooms you would like in your home: 3\n",
            "Enter the number of bedrooms the house has: 2\n",
            "This property is affordable but 2 bedrooms is not enough.\n"
          ]
        }
      ]
    },
    {
      "cell_type": "code",
      "source": [
        "#TODO: Create the first 4 prompts listed in the instructions for this problem\n",
        "M = float(input(\"Enter the maximum monthly payment you can afford: \"))\n",
        "home_price = float(input(\"Enter the price of the home you're considering looking at: \"))\n",
        "min_bedrooms = int(input(\"Enter the minimum number of bedrooms you would like in your home: \"))\n",
        "home_bedrooms = int(input(\"Enter the number of bedrooms the house has: \"))\n",
        "\n",
        "#TODO: Calculate the amount the user can borrow based on the payment entered. Assume a 30-year fixed\n",
        "# mortgage at 6.5%\n",
        "rate = 6.5\n",
        "r = rate / 12 / 100\n",
        "n = 30 * 12\n",
        "P = M * (((1+r)**n) - 1) / ((r*(1+r)**n))\n",
        "\n",
        "#TODO: Notice there are four different messages that can be displayed to the user and they vary based on\n",
        "# the user input. Create an if/elif/else structure that will accommodate all four test cases shown above.\n",
        "if home_price <= P and home_bedrooms >= min_bedrooms:\n",
        "  print(\"This property is affordable and has enough bedrooms.\")\n",
        "elif home_price <= P and home_bedrooms < min_bedrooms:\n",
        "  print(f\"This property is affordable but {home_bedrooms} bedrooms is not enough.\")\n",
        "elif home_price > P and home_bedrooms >= min_bedrooms:\n",
        "  print(f\"This property has enough bedrooms but is not affordable. You can only borrow ${P:.2f}.\")\n",
        "else:\n",
        "  print(\"This property is not affordable and doesn't have enough bedrooms.\")"
      ],
      "metadata": {
        "colab": {
          "base_uri": "https://localhost:8080/"
        },
        "id": "yzoMed3atiZL",
        "outputId": "1f67bdb0-b1e6-4a34-bbf9-c19b115761a7"
      },
      "execution_count": 5,
      "outputs": [
        {
          "output_type": "stream",
          "name": "stdout",
          "text": [
            "Enter the maximum monthly payment you can afford: 1800\n",
            "Enter the price of the home you're considering looking at: 300000\n",
            "Enter the minimum number of bedrooms you would like in your home: 3\n",
            "Enter the number of bedrooms the house has: 4\n",
            "This property has enough bedrooms but is not affordable. You can only borrow $284779.48.\n"
          ]
        }
      ]
    },
    {
      "cell_type": "code",
      "source": [
        "#TODO: Create the first 4 prompts listed in the instructions for this problem\n",
        "M = float(input(\"Enter the maximum monthly payment you can afford: \"))\n",
        "home_price = float(input(\"Enter the price of the home you're considering looking at: \"))\n",
        "min_bedrooms = int(input(\"Enter the minimum number of bedrooms you would like in your home: \"))\n",
        "home_bedrooms = int(input(\"Enter the number of bedrooms the house has: \"))\n",
        "\n",
        "#TODO: Calculate the amount the user can borrow based on the payment entered. Assume a 30-year fixed\n",
        "# mortgage at 6.5%\n",
        "rate = 6.5\n",
        "r = rate / 12 / 100\n",
        "n = 30 * 12\n",
        "P = (M * (((1+r)**n) - 1) / ((r*(1+r)**n)),0)\n",
        "\n",
        "#TODO: Notice there are four different messages that can be displayed to the user and they vary based on\n",
        "# the user input. Create an if/elif/else structure that will accommodate all four test cases shown above.\n",
        "if home_price <= P and home_bedrooms >= min_bedrooms:\n",
        "  print(\"This property is affordable and has enough bedrooms.\")\n",
        "elif home_price <= P and home_bedrooms < min_bedrooms:\n",
        "  print(f\"This property is affordable but {home_bedrooms} bedrooms is not enough.\")\n",
        "elif home_price > P and home_bedrooms >= min_bedrooms:\n",
        "  print(f\"This property has enough bedrooms but is not affordable. You can only borrow ${P:.2f}.\")\n",
        "else:\n",
        "  print(\"This property is not affordable and doesn't have enough bedrooms.\")"
      ],
      "metadata": {
        "colab": {
          "base_uri": "https://localhost:8080/"
        },
        "id": "VO90DxjHt37u",
        "outputId": "ecf3ff10-8125-4690-b8fa-bd071038e28b"
      },
      "execution_count": 6,
      "outputs": [
        {
          "output_type": "stream",
          "name": "stdout",
          "text": [
            "Enter the maximum monthly payment you can afford: 1800\n",
            "Enter the price of the home you're considering looking at: 300000\n",
            "Enter the minimum number of bedrooms you would like in your home: 3\n",
            "Enter the number of bedrooms the house has: 2\n",
            "This property is not affordable and doesn't have enough bedrooms.\n"
          ]
        }
      ]
    },
    {
      "cell_type": "markdown",
      "metadata": {
        "id": "1egLv2b1S3qC"
      },
      "source": [
        "### Nested Conditionals"
      ]
    },
    {
      "cell_type": "markdown",
      "metadata": {
        "id": "PMl9AUSwS3qC"
      },
      "source": [
        "Conditional statements can be more complex than the examples shown so far. It is sometimes necessary to create nested conditionals to account for all possible scenarios. These are conditionals that are nested within another conditional statement. For example, a basic nested conditional may look something like this:\n",
        "```python\n",
        "if TestExpression1:\n",
        "    if TestExpression2:\n",
        "        body_of_TestExpression2\n",
        "    else:\n",
        "        body_of_nested_else\n",
        "else:\n",
        "    body_of_else\n",
        "    \n",
        "[code following conditional block]\n",
        "```"
      ]
    },
    {
      "cell_type": "markdown",
      "metadata": {
        "id": "UwaYo7ncS3qC"
      },
      "source": [
        "Keep in mind there are an unlimited number of ways nested conditionals can be structured. In this particular structure, Python would check for the value of `TestExpression1` then one of the following paths would be executed:\n",
        "\n",
        "* `TestExpression1` (**True**) ---> `TestExpression2` (**True**) ---> `body_of_TestExpression2` ---> [code following conditional block]<br><br>\n",
        "\n",
        "* `TestExpression1` (**True**) ---> `TestExpression2` (**False**) ---> `body_of_nested_else` ---> [code following conditional block]<br><br>\n",
        "\n",
        "* `TestExpression1` (**False**) ---> `body_of_else` ---> [code following conditional block]<br><br>\n",
        "\n",
        "We could also have a nested conditional within the `body_of_else` instead of within the body of the outermost `if`, or we could have nested conditionals in both, or nested conditionals within nested conditionals, etc. Again, there are an unlimited number of ways these can be structured."
      ]
    },
    {
      "cell_type": "markdown",
      "metadata": {
        "id": "_kcuS2bkS3qC"
      },
      "source": [
        "This next example of a nested conditional takes two numbers input by the user and compares them to see if the second number is greater than 3 times the first number, less than 3 times the first number, or equal to 3 times the first number."
      ]
    },
    {
      "cell_type": "markdown",
      "metadata": {
        "id": "BmGcDEG3S3qC"
      },
      "source": [
        "<div class=\"alert alert-block alert-info\">\n",
        "\n",
        "For the next example, use the following test cases:\n",
        "- Test case 1: Enter 4 and 15\n",
        "- Test case 2: Enter 4 and 10\n",
        "- Test case 3: Enter 4 and 12\n",
        "</div>"
      ]
    },
    {
      "cell_type": "code",
      "execution_count": 7,
      "metadata": {
        "id": "DmVjr6QJS3qD",
        "colab": {
          "base_uri": "https://localhost:8080/"
        },
        "outputId": "52320595-5095-455d-b102-8742ce89a4fa"
      },
      "outputs": [
        {
          "output_type": "stream",
          "name": "stdout",
          "text": [
            "Enter an integer: 4\n",
            "Enter a larger integer: 12\n",
            "12 is exactly 3 times 4\n"
          ]
        }
      ],
      "source": [
        "number1 = int(input('Enter an integer: '))\n",
        "number2 = int(input('Enter a larger integer: '))\n",
        "\n",
        "if number2 > 3*number1:\n",
        "    print(f'{number2} is at least 3 times {number1}')\n",
        "\n",
        "else:\n",
        "    if number2 < 3*number1:\n",
        "        print(f'{number2} is less than 3 times {number1}')\n",
        "\n",
        "    else:\n",
        "        print(f'{number2} is exactly 3 times {number1}')"
      ]
    },
    {
      "cell_type": "markdown",
      "metadata": {
        "id": "rHyKlUpDS3qD"
      },
      "source": [
        "### Example of `if/elif/else` with nested conditionals"
      ]
    },
    {
      "cell_type": "markdown",
      "metadata": {
        "id": "ir2rKP2VS3qD"
      },
      "source": [
        "For this next example, suppose you would love to get a job in Hawaii but would only accept it if the annual pay is at least 85,000. You would also be willing to take a job in New York if the annual pay is at least 100,000 or anywhere else if the annual pay is at least 75,000. The following example takes two inputs from the user, `location` and `pay` and returns a particular response based on the inputs.\n",
        "\n",
        "Notice the outer `if` and the first `elif` test for the location to be either Hawaii or New York. If the location entered is neither of those, then the second `elif` handles all other locations and will test the amount of pay. The `else` statement will only be executed if everything before it evaluates to `False`."
      ]
    },
    {
      "cell_type": "markdown",
      "metadata": {
        "id": "99s0U6UMS3qD"
      },
      "source": [
        "<div class=\"alert alert-block alert-info\">\n",
        "\n",
        "For the next example, use the following test cases:\n",
        "- New York, 110000\n",
        "- New York, 80000\n",
        "- Hawaii, 86000\n",
        "- Hawaii, 50000\n",
        "- Miami, 90000\n",
        "- Miami, 60000   \n",
        "</div>"
      ]
    },
    {
      "cell_type": "code",
      "execution_count": 8,
      "metadata": {
        "id": "Dj_B4VaES3qD",
        "colab": {
          "base_uri": "https://localhost:8080/"
        },
        "outputId": "98427d64-cdf1-4815-cad5-ee2941377bb9"
      },
      "outputs": [
        {
          "output_type": "stream",
          "name": "stdout",
          "text": [
            "Enter the location of the job: Miami\n",
            "Enter the annual pay: 60000\n",
            "No thanks, I can find something better.\n"
          ]
        }
      ],
      "source": [
        "location = str(input('Enter the location of the job: '))\n",
        "pay = int(input('Enter the annual pay: '))\n",
        "\n",
        "# First is a nested conditional statement to handle pay related to 'New York.'\n",
        "if location == \"New York\":\n",
        "    if pay >= 100000:\n",
        "        print(\"I'll take it!\")\n",
        "    else:\n",
        "        print(\"No way.\")\n",
        "\n",
        "\n",
        "# Next is a nested 'elif' statement to handle pay related to \"Hawaii.\"\n",
        "elif location == \"Hawaii\":\n",
        "    if pay >= 85000:\n",
        "        print(\"I'll take it!\")\n",
        "    else:\n",
        "        print(\"No way.\")\n",
        "\n",
        "\n",
        "# Now another 'elif' statement to handle pay of at least 75,000 for all other locations.\n",
        "elif pay >= 75000:\n",
        "    print(\"I'll take it!\")\n",
        "\n",
        "\n",
        "# Lastly is the appropriate 'else' command for all other scenarios.\n",
        "else:\n",
        "    print(\"No thanks, I can find something better.\")"
      ]
    },
    {
      "cell_type": "markdown",
      "metadata": {
        "id": "-YtcTzcOS3qD"
      },
      "source": [
        "### Your Turn"
      ]
    },
    {
      "cell_type": "markdown",
      "metadata": {
        "id": "YK-G8lHvS3qE"
      },
      "source": [
        "There are certainly numerous ways to handle the previous example and you are encouraged to try different approaches. For example, try changing the `if` statement and the first `elif` to:\n",
        "```python\n",
        "if location == \"New York\" and pay >= 100000:\n",
        "...\n",
        "elif location ==\"Hawaii\" and pay >= 85000\n",
        "...\n",
        "```\n",
        "Adjust the remaining code as needed to accomodate the new test expressions. Reach out to your TA for assistance as needed."
      ]
    },
    {
      "cell_type": "markdown",
      "metadata": {
        "id": "6by0Djz4S3qE"
      },
      "source": [
        "<div class=\"alert alert-block alert-success\"><b>Problem 4 (10 pts.)</b>: Suppose your goal is to burn a certain number of calories. You would like to either cycle, jog, or swim to accomplish this but you need to know how many minutes of each activity would be required to burn the allotted calories based on your weight. The table below lists the number of calories burned per minute based on your weight for cycling, jogging, and swimming:</div>"
      ]
    },
    {
      "cell_type": "markdown",
      "metadata": {
        "id": "3zJwW3YsS3qE"
      },
      "source": [
        "<table>\n",
        "    <tr style=\"text-align:left; background-color:yellowgreen\">\n",
        "        <th style=\"text-align:left\">Activity</th>\n",
        "        <th>weight < 140 lbs.</th>\n",
        "        <th>140 ≤ weight < 160 lbs.</th>\n",
        "        <th>160 ≤ weight < 180 lbs.</th>\n",
        "        <th>weight ≥ 180 lbs.</th>\n",
        "    </tr>\n",
        "    <tr>\n",
        "        <td style=\"text-align:left\">Cycling (10 mph)</td>\n",
        "        <td style=\"text-align:center\">5.5</td>\n",
        "        <td style=\"text-align:center\">6.4</td>\n",
        "        <td style=\"text-align:center\">7.3</td>\n",
        "        <td style=\"text-align:center\">8.2</td>\n",
        "    </tr>\n",
        "    <tr>\n",
        "        <td style=\"text-align:left\">Jogging</td>\n",
        "        <td style=\"text-align:center\">9.3</td>\n",
        "        <td style=\"text-align:center\">10.8</td>\n",
        "        <td style=\"text-align:center\">12.4</td>\n",
        "        <td style=\"text-align:center\">13.9</td>\n",
        "    </tr>\n",
        "    <tr>\n",
        "        <td style=\"text-align:left\">Swimming (moderate pace)</td>\n",
        "        <td style=\"text-align:center\">7.8</td>\n",
        "        <td style=\"text-align:center\">9.0</td>\n",
        "        <td style=\"text-align:center\">10.3</td>\n",
        "        <td style=\"text-align:center\">11.6</td>\n",
        "    </tr>\n",
        "</table>"
      ]
    },
    {
      "cell_type": "markdown",
      "metadata": {
        "id": "GoTpCX76S3qE"
      },
      "source": [
        "<div class=\"alert alert-block alert-success\">For this problem, complete the following:<br><br>\n",
        "1. Prompt the user to enter the activity they would like to do. Your code should handle upper and lower case inputs.<br>\n",
        "2. Prompt the user to enter their weight.<br>\n",
        "3. Prompt the user to enter the number of calories they would like to burn.<br>\n",
        "4. Create a conditional for each of the 3 activities that will calculate the minutes needed to burn the desired calories based on each weight category.\n",
        "5. Print a message like the sample shown below.<br><br>\n",
        "<font color=black><i><u>Be sure to complete each <b>#TODO</b> statement as indicated in the cell provided.</u></i></font></div>"
      ]
    },
    {
      "cell_type": "markdown",
      "metadata": {
        "id": "ZWWuM6OyS3qE"
      },
      "source": [
        "`Would you like to cycle, jog, or swim? Jog\n",
        "What is your weight? 110\n",
        "How many calories would you like to burn? 500\n",
        "You will need to jog for 54 minutes to burn 500.0 calories`"
      ]
    },
    {
      "cell_type": "markdown",
      "metadata": {
        "id": "tPT7hpHmS3qE"
      },
      "source": [
        "<div class=\"alert alert-block alert-info\">\n",
        "\n",
        "### Test cases for Problem 4:\n",
        "- Test case 1: Cycle, 140, 300 (answer is 47 minutes)\n",
        "- Test case 2: Swim, 200, 400 (answer is 34 minutes)\n",
        "- Test case 3: Jog, 175, 500 (answer is 40 minutes)\n",
        "- Test case 4: Jog, 110, 500 (<font color=b><b><u>show this one in your final JN</u></b></font>)    \n",
        "</div>"
      ]
    },
    {
      "cell_type": "code",
      "execution_count": null,
      "metadata": {
        "id": "9Or5l1gDS3qE",
        "colab": {
          "base_uri": "https://localhost:8080/"
        },
        "outputId": "6ef2e58e-2767-4b43-a1e5-862a9a03cbc5"
      },
      "outputs": [
        {
          "output_type": "stream",
          "name": "stdout",
          "text": [
            "Would you like to cycle, jog, or swim? jog\n",
            "What is your weight (in pounds)? 110\n",
            "How many calories would you like to burn? 500\n",
            "You will need to Jog for 54.0 minutes to burn 500.0 calories\n"
          ]
        }
      ],
      "source": [
        "#TODO: Prompt the use to enter the activity they would like to do.\n",
        "# Then prompt the user to enter their weight.\n",
        "# Lastly, prompt the use to enter the number of calories they would like to burn.\n",
        "activity = str(input('Would you like to cycle, jog, or swim? ')).lower()\n",
        "weight = float(input('What is your weight (in pounds)? '))\n",
        "calories = float(input('How many calories would you like to burn? '))\n",
        "\n",
        "#TODO: Create an if/(if/elif/else) conditional that calculates the number of minutes needed for a user\n",
        "# who would like to cycle\n",
        "if activity == 'cycle':\n",
        "  if weight < 140:\n",
        "    rate = 5.5\n",
        "  elif 140 <= weight < 160:\n",
        "    rate = 6.4\n",
        "  elif 160 <= weight < 180:\n",
        "    rate = 7.3\n",
        "  else:\n",
        "    rate = 8.2\n",
        "\n",
        "#TODO: Create an elif/(if/elif/else) conditional that calculates the number of minutes needed for a user\n",
        "# who would like to jog\n",
        "if activity == 'jog':\n",
        "  if weight < 140:\n",
        "    rate = 9.3\n",
        "  elif 140 <= weight < 160:\n",
        "    rate = 10.8\n",
        "  elif 160 <= weight < 180:\n",
        "    rate = 12.4\n",
        "  else:\n",
        "    rate = 13.9\n",
        "\n",
        "#TODO: Create an elif/(if/elif/else) conditional that calculates the number of minutes needed for a user\n",
        "# who would like to swim\n",
        "if activity == 'swim':\n",
        "  if weight < 140:\n",
        "    rate = 7.8\n",
        "  elif 140 <= weight < 160:\n",
        "    rate = 9.0\n",
        "  elif 160 <= weight < 180:\n",
        "    rate = 10.3\n",
        "  else:\n",
        "    rate = 11.6\n",
        "\n",
        "#TODO: Create a formatted print statement that prints the sample message shown above\n",
        "time = round(calories/rate,0)\n",
        "print(f'You will need to {activity.capitalize()} for {time} minutes to burn {calories} calories')"
      ]
    },
    {
      "cell_type": "code",
      "source": [
        "#TODO: Prompt the use to enter the activity they would like to do.\n",
        "# Then prompt the user to enter their weight.\n",
        "# Lastly, prompt the use to enter the number of calories they would like to burn.\n",
        "activity = str(input('Would you like to cycle, jog, or swim? ')).lower()\n",
        "weight = float(input('What is your weight (in pounds)? '))\n",
        "calories = float(input('How many calories would you like to burn? '))\n",
        "\n",
        "#TODO: Create an if/(if/elif/else) conditional that calculates the number of minutes needed for a user\n",
        "# who would like to cycle\n",
        "if activity == 'cycle':\n",
        "  if weight < 140:\n",
        "    rate = 5.5\n",
        "  elif 140 <= weight < 160:\n",
        "    rate = 6.4\n",
        "  elif 160 <= weight < 180:\n",
        "    rate = 7.3\n",
        "  else:\n",
        "    rate = 8.2\n",
        "\n",
        "#TODO: Create an elif/(if/elif/else) conditional that calculates the number of minutes needed for a user\n",
        "# who would like to jog\n",
        "if activity == 'jog':\n",
        "  if weight < 140:\n",
        "    rate = 9.3\n",
        "  elif 140 <= weight < 160:\n",
        "    rate = 10.8\n",
        "  elif 160 <= weight < 180:\n",
        "    rate = 12.4\n",
        "  else:\n",
        "    rate = 13.9\n",
        "\n",
        "#TODO: Create an elif/(if/elif/else) conditional that calculates the number of minutes needed for a user\n",
        "# who would like to swim\n",
        "if activity == 'swim':\n",
        "  if weight < 140:\n",
        "    rate = 7.8\n",
        "  elif 140 <= weight < 160:\n",
        "    rate = 9.0\n",
        "  elif 160 <= weight < 180:\n",
        "    rate = 10.3\n",
        "  else:\n",
        "    rate = 11.6\n",
        "\n",
        "#TODO: Create a formatted print statement that prints the sample message shown above\n",
        "time = round(calories/rate,0)\n",
        "print(f'You will need to {activity.capitalize()} for {time} minutes to burn {calories} calories')"
      ],
      "metadata": {
        "colab": {
          "base_uri": "https://localhost:8080/"
        },
        "id": "hfsMlUgRr08K",
        "outputId": "462a0bde-0f42-46f3-f2ba-73cdf3ccacbe"
      },
      "execution_count": null,
      "outputs": [
        {
          "output_type": "stream",
          "name": "stdout",
          "text": [
            "Would you like to cycle, jog, or swim? cycle\n",
            "What is your weight (in pounds)? 140\n",
            "How many calories would you like to burn? 300\n",
            "You will need to Cycle for 47.0 minutes to burn 300.0 calories\n"
          ]
        }
      ]
    },
    {
      "cell_type": "code",
      "source": [
        "#TODO: Prompt the use to enter the activity they would like to do.\n",
        "# Then prompt the user to enter their weight.\n",
        "# Lastly, prompt the use to enter the number of calories they would like to burn.\n",
        "activity = str(input('Would you like to cycle, jog, or swim? ')).lower()\n",
        "weight = float(input('What is your weight (in pounds)? '))\n",
        "calories = float(input('How many calories would you like to burn? '))\n",
        "\n",
        "#TODO: Create an if/(if/elif/else) conditional that calculates the number of minutes needed for a user\n",
        "# who would like to cycle\n",
        "if activity == 'cycle':\n",
        "  if weight < 140:\n",
        "    rate = 5.5\n",
        "  elif 140 <= weight < 160:\n",
        "    rate = 6.4\n",
        "  elif 160 <= weight < 180:\n",
        "    rate = 7.3\n",
        "  else:\n",
        "    rate = 8.2\n",
        "\n",
        "#TODO: Create an elif/(if/elif/else) conditional that calculates the number of minutes needed for a user\n",
        "# who would like to jog\n",
        "if activity == 'jog':\n",
        "  if weight < 140:\n",
        "    rate = 9.3\n",
        "  elif 140 <= weight < 160:\n",
        "    rate = 10.8\n",
        "  elif 160 <= weight < 180:\n",
        "    rate = 12.4\n",
        "  else:\n",
        "    rate = 13.9\n",
        "\n",
        "#TODO: Create an elif/(if/elif/else) conditional that calculates the number of minutes needed for a user\n",
        "# who would like to swim\n",
        "if activity == 'swim':\n",
        "  if weight < 140:\n",
        "    rate = 7.8\n",
        "  elif 140 <= weight < 160:\n",
        "    rate = 9.0\n",
        "  elif 160 <= weight < 180:\n",
        "    rate = 10.3\n",
        "  else:\n",
        "    rate = 11.6\n",
        "\n",
        "#TODO: Create a formatted print statement that prints the sample message shown above\n",
        "time = round(calories/rate,0)\n",
        "print(f'You will need to {activity.capitalize()} for {time} minutes to burn {calories} calories')"
      ],
      "metadata": {
        "colab": {
          "base_uri": "https://localhost:8080/"
        },
        "id": "NWY8jlSFr1oS",
        "outputId": "fafd0b6d-e83c-4acd-bd07-3eecdd16e91c"
      },
      "execution_count": null,
      "outputs": [
        {
          "output_type": "stream",
          "name": "stdout",
          "text": [
            "Would you like to cycle, jog, or swim? swim\n",
            "What is your weight (in pounds)? 200\n",
            "How many calories would you like to burn? 400\n",
            "You will need to Swim for 34.0 minutes to burn 400.0 calories\n"
          ]
        }
      ]
    },
    {
      "cell_type": "code",
      "source": [
        "#TODO: Prompt the use to enter the activity they would like to do.\n",
        "# Then prompt the user to enter their weight.\n",
        "# Lastly, prompt the use to enter the number of calories they would like to burn.\n",
        "activity = str(input('Would you like to cycle, jog, or swim? ')).lower()\n",
        "weight = float(input('What is your weight (in pounds)? '))\n",
        "calories = float(input('How many calories would you like to burn? '))\n",
        "\n",
        "#TODO: Create an if/(if/elif/else) conditional that calculates the number of minutes needed for a user\n",
        "# who would like to cycle\n",
        "if activity == 'cycle':\n",
        "  if weight < 140:\n",
        "    rate = 5.5\n",
        "  elif 140 <= weight < 160:\n",
        "    rate = 6.4\n",
        "  elif 160 <= weight < 180:\n",
        "    rate = 7.3\n",
        "  else:\n",
        "    rate = 8.2\n",
        "\n",
        "#TODO: Create an elif/(if/elif/else) conditional that calculates the number of minutes needed for a user\n",
        "# who would like to jog\n",
        "if activity == 'jog':\n",
        "  if weight < 140:\n",
        "    rate = 9.3\n",
        "  elif 140 <= weight < 160:\n",
        "    rate = 10.8\n",
        "  elif 160 <= weight < 180:\n",
        "    rate = 12.4\n",
        "  else:\n",
        "    rate = 13.9\n",
        "\n",
        "#TODO: Create an elif/(if/elif/else) conditional that calculates the number of minutes needed for a user\n",
        "# who would like to swim\n",
        "if activity == 'swim':\n",
        "  if weight < 140:\n",
        "    rate = 7.8\n",
        "  elif 140 <= weight < 160:\n",
        "    rate = 9.0\n",
        "  elif 160 <= weight < 180:\n",
        "    rate = 10.3\n",
        "  else:\n",
        "    rate = 11.6\n",
        "\n",
        "#TODO: Create a formatted print statement that prints the sample message shown above\n",
        "time = round(calories/rate,0)\n",
        "print(f'You will need to {activity.capitalize()} for {time} minutes to burn {calories} calories')"
      ],
      "metadata": {
        "colab": {
          "base_uri": "https://localhost:8080/"
        },
        "id": "JE7g5IEcr2Og",
        "outputId": "1709dedc-0874-46c4-aad1-5894b5a158c4"
      },
      "execution_count": null,
      "outputs": [
        {
          "output_type": "stream",
          "name": "stdout",
          "text": [
            "Would you like to cycle, jog, or swim? jog\n",
            "What is your weight (in pounds)? 175\n",
            "How many calories would you like to burn? 500\n",
            "You will need to Jog for 40.0 minutes to burn 500.0 calories\n"
          ]
        }
      ]
    }
  ],
  "metadata": {
    "kernelspec": {
      "display_name": "Python 3 (ipykernel)",
      "language": "python",
      "name": "python3"
    },
    "language_info": {
      "codemirror_mode": {
        "name": "ipython",
        "version": 3
      },
      "file_extension": ".py",
      "mimetype": "text/x-python",
      "name": "python",
      "nbconvert_exporter": "python",
      "pygments_lexer": "ipython3",
      "version": "3.9.13"
    },
    "toc": {
      "base_numbering": 1,
      "nav_menu": {},
      "number_sections": false,
      "sideBar": true,
      "skip_h1_title": false,
      "title_cell": "Table of Contents",
      "title_sidebar": "Contents",
      "toc_cell": false,
      "toc_position": {},
      "toc_section_display": true,
      "toc_window_display": false
    },
    "colab": {
      "provenance": []
    }
  },
  "nbformat": 4,
  "nbformat_minor": 0
}